{
  "cells": [
    {
      "cell_type": "markdown",
      "id": "1qK5hGNp-o6o",
      "metadata": {
        "id": "1qK5hGNp-o6o"
      },
      "source": [
        "# Introducción a NumPy\n",
        "\n",
        "\n",
        "\n",
        "\n",
        "Este Práctico proporciona una introducción básica a NumPy, destacando algunas de sus características clave y mostrando ejemplos de su uso. A continuación tendrán un resúmen de algunos comando y su implementación. Esto servirá de guia para desarrollar las actividades propuestas a continuación."
      ]
    },
    {
      "cell_type": "markdown",
      "id": "EhfjWsse-o6r",
      "metadata": {
        "id": "EhfjWsse-o6r"
      },
      "source": [
        "## Comparación entre uso de vectores de Python y NumPy\n",
        "A continuación se presentan varios aspectos para poder comparar la implementación de vectores a través del tipo de datos LISTA , comparado con la implementación de vectores con NumPy:"
      ]
    },
    {
      "cell_type": "markdown",
      "id": "c294f2JK-o6s",
      "metadata": {
        "id": "c294f2JK-o6s"
      },
      "source": [
        "#### 1- Creación de vectores\n",
        "\n",
        "En esta celda, se importa la biblioteca NumPy y se **CREA UN VECTOR** utilizando Python puro y NumPy. Luego, se imprime cada uno de los vectores."
      ]
    },
    {
      "cell_type": "code",
      "execution_count": 2,
      "id": "_HV2dLLF-o6s",
      "metadata": {
        "colab": {
          "base_uri": "https://localhost:8080/"
        },
        "id": "_HV2dLLF-o6s",
        "outputId": "58d1f206-9917-4116-c540-1c5ecd208b72"
      },
      "outputs": [
        {
          "name": "stdout",
          "output_type": "stream",
          "text": [
            "Vector en Python puro: [1, 2, 3, 4, 5]\n",
            "Vector en NumPy: [1.  2.  3.5 4.  5. ]\n"
          ]
        }
      ],
      "source": [
        "import numpy as np\n",
        "vector_py = [1, 2, 3, 4, 5]\n",
        "vector_np = np.array([1, 2, 3.5, 4, 5])\n",
        "print(\"Vector en Python puro:\", vector_py)\n",
        "print(\"Vector en NumPy:\", vector_np)"
      ]
    },
    {
      "cell_type": "markdown",
      "id": "dMFB7By3-o6t",
      "metadata": {
        "id": "dMFB7By3-o6t"
      },
      "source": [
        "#### 2- Operaciones matemáticas\n",
        "En esta celda, se realizan operaciones matemáticas en un vector utilizando Python puro y NumPy. Luego, se imprime el resultado de cada operación."
      ]
    },
    {
      "cell_type": "code",
      "execution_count": 3,
      "id": "fu-4G2Ut-o6t",
      "metadata": {
        "colab": {
          "base_uri": "https://localhost:8080/"
        },
        "id": "fu-4G2Ut-o6t",
        "outputId": "816b5481-7f26-4aff-f92b-8f928f8e9cd7"
      },
      "outputs": [
        {
          "data": {
            "text/plain": [
              "[1, 2, 3, 4, 5, 1, 2, 3, 4, 5]"
            ]
          },
          "execution_count": 3,
          "metadata": {},
          "output_type": "execute_result"
        }
      ],
      "source": [
        "vector_py = [1, 2, 3, 4, 5]\n",
        "vector_np = np.array([1, 2, 3, 4, 5])\n",
        "suma_py = [x + 2 for x in vector_py]\n",
        "suma_np = vector_np *2\n",
        "#print(\"Suma en Python puro:\", suma_py)\n",
        "#print(\"Suma en NumPy:\", suma_np)\n",
        "vector_py*2"
      ]
    },
    {
      "cell_type": "markdown",
      "id": "zNYiFFjG-o6u",
      "metadata": {
        "id": "zNYiFFjG-o6u"
      },
      "source": [
        "#### 3- Indexado y segmentación\n",
        "En esta celda, se realiza el indexado y segmentación en un vector utilizando Python puro y NumPy. Luego, se imprime el resultado de cada operación."
      ]
    },
    {
      "cell_type": "code",
      "execution_count": 4,
      "id": "c-PIchEg-o6u",
      "metadata": {
        "colab": {
          "base_uri": "https://localhost:8080/"
        },
        "id": "c-PIchEg-o6u",
        "outputId": "acf4b356-844f-46bc-f97e-49a0269d3029"
      },
      "outputs": [
        {
          "name": "stdout",
          "output_type": "stream",
          "text": [
            "Segmento en Python puro: [2, 3, 4]\n",
            "Segmento en NumPy: [2 3 4]\n"
          ]
        }
      ],
      "source": [
        "vector_py = [1, 2, 3, 4, 5]\n",
        "vector_np = np.array([1, 2, 3, 4, 5])\n",
        "segmento_py = vector_py[1:4]\n",
        "segmento_np = vector_np[1:4]\n",
        "print(\"Segmento en Python puro:\", segmento_py)\n",
        "print(\"Segmento en NumPy:\", segmento_np)"
      ]
    },
    {
      "cell_type": "markdown",
      "id": "v5GzRhOK-o6v",
      "metadata": {
        "id": "v5GzRhOK-o6v"
      },
      "source": [
        "## Operaciones entre vectores y funciones sobre vectores\n",
        "A continuación se presentan algunos ejemplos de operaciones básicas entre vectores utilizando NumPy:"
      ]
    },
    {
      "cell_type": "markdown",
      "id": "KE93Crg_-o6v",
      "metadata": {
        "id": "KE93Crg_-o6v"
      },
      "source": [
        "#### Suma de vectores\n",
        "En esta celda, se crea un vector 'vector_a' y un vector 'vector_b', y se realiza la suma de ambos vectores utilizando NumPy. Luego, se imprime el resultado."
      ]
    },
    {
      "cell_type": "code",
      "execution_count": 5,
      "id": "rAzW3AvC-o6v",
      "metadata": {
        "colab": {
          "base_uri": "https://localhost:8080/"
        },
        "id": "rAzW3AvC-o6v",
        "outputId": "14739bda-3a68-46d4-e706-42a20eff3c22"
      },
      "outputs": [
        {
          "name": "stdout",
          "output_type": "stream",
          "text": [
            "Suma de vectores: [5 7 9]\n"
          ]
        }
      ],
      "source": [
        "vector_a = np.array([1, 2, 3])\n",
        "vector_b = np.array([4, 5, 6])\n",
        "suma_vector = vector_a + vector_b\n",
        "print(\"Suma de vectores:\", suma_vector)"
      ]
    },
    {
      "cell_type": "markdown",
      "id": "m8wTYxHe6TwA",
      "metadata": {
        "id": "m8wTYxHe6TwA"
      },
      "source": [
        "# ***EJERCICIOS PARTE 1***\n",
        "\n",
        "***EJERCICIO 1:***\n",
        "\n",
        "Dada la siguiente tabla (matriz) de datos, donde cada fila representa la cantidad que se vendio en referencia a un solo producto durante toda la semana; mientras que cada columna representa la venta total en un dia de la semana.Obtener la siguiente información detallada:\n",
        "\n",
        "\n",
        "*   Importe total de la venta por cada dia de la semana\n",
        "*   Importe total de la venta por cada producto en la semana\n",
        "*   Importe total de la venta en toda la semana\n",
        "\n"
      ]
    },
    {
      "cell_type": "code",
      "execution_count": 6,
      "id": "djSElJbA4fVb",
      "metadata": {
        "colab": {
          "base_uri": "https://localhost:8080/"
        },
        "id": "djSElJbA4fVb",
        "outputId": "0f84ba9e-fe92-4fca-f69f-e0576bca50d5"
      },
      "outputs": [
        {
          "name": "stdout",
          "output_type": "stream",
          "text": [
            "Matriz de ventas diarias: [[20 15 25 30 18 22 24]\n",
            " [12 20 14  8 15 18 16]\n",
            " [35 28 32 30 26 24 30]\n",
            " [40 38 45 42 39 41 37]]\n",
            "15\n",
            "20\n",
            "28\n",
            "38\n",
            "la suma total del lunes es: 101\n",
            "Total de ventas por día: [107 101 116 110  98 105 107]\n"
          ]
        }
      ],
      "source": [
        "import numpy as np\n",
        "\n",
        "\n",
        "# Datos de ventas diarias de 4 productos durante una semana\n",
        "\n",
        "ventas_diarias = np.array(\n",
        "    #Lun,Mar,Mie,Jue,Vie,Sab,Dom\n",
        "    [[20, 15, 25, 30, 18, 22, 24],  #Producto A\n",
        "    [12, 20, 14, 8, 15, 18, 16],    #Producto B\n",
        "    [35, 28, 32, 30, 26, 24, 30],   #Producto C\n",
        "    [40, 38, 45, 42, 39, 41, 37]    #Producto D\n",
        "    ]\n",
        ")\n",
        "\n",
        "print(\"Matriz de ventas diarias:\",ventas_diarias)\n",
        "\n",
        "#==== FORMAS DE RECORRER UNA MATRIZ FIJADA LA COLUMNA J=1\n",
        "#    Calcula la suma total del dia lunes\n",
        "suma=0\n",
        "for i in range(4):\n",
        "  print(ventas_diarias[i,1])\n",
        "  suma=suma+ventas_diarias[i,1]\n",
        "print('la suma total del lunes es:', suma)\n",
        "\n",
        "#===== IMPLEMENTACIÓN DE UN MÉTODO DE NUMPY\n",
        "# Sumar las ventas por día (sumar las columnas)\n",
        "ventas_por_dia = np.sum(ventas_diarias, axis=0)\n",
        "print(\"Total de ventas por día:\",ventas_por_dia)\n"
      ]
    },
    {
      "cell_type": "markdown",
      "id": "CqUA_dCI6FCc",
      "metadata": {
        "id": "CqUA_dCI6FCc"
      },
      "source": [
        "**EJERCICIO 2:**\n",
        "\n",
        "Crear un programa donde se le pida al usuario que ingrese la cantidad de elementos de una lista de números reales positivos. Luego Convertir esa lista en un vector de Numpy.\n",
        "\n"
      ]
    },
    {
      "cell_type": "code",
      "execution_count": 7,
      "id": "f3bc7f72",
      "metadata": {},
      "outputs": [],
      "source": [
        "# Decidimos crear una funcion para verificar si una entrada es un entero positivo ara pedir cantidades\n",
        "def pedir_cantidad():\n",
        "    cant = -1\n",
        "    while cant < 0:\n",
        "        try:\n",
        "            cant = int(input('Ingrese la cantidad'))\n",
        "            if cant < 0:\n",
        "                print('Ingrese un numero positivo')\n",
        "            else:\n",
        "                return cant\n",
        "        except:\n",
        "            print('Ingrese un numero')"
      ]
    },
    {
      "cell_type": "code",
      "execution_count": 8,
      "metadata": {},
      "outputs": [
        {
          "name": "stdout",
          "output_type": "stream",
          "text": [
            "Ingrese 2 numeros reales positivos\n"
          ]
        },
        {
          "data": {
            "text/plain": [
              "array([2., 3.])"
            ]
          },
          "execution_count": 8,
          "metadata": {},
          "output_type": "execute_result"
        }
      ],
      "source": [
        "\n",
        "# Ahora nos aseguramos que ingresara una cantidad positiva y entera\n",
        "cant = pedir_cantidad()\n",
        "\n",
        "# Una vez ingresada la cantidad, comenzamos a pedir elementos\n",
        "lista_numeros = []\n",
        "print(f'Ingrese {cant} numeros reales positivos')\n",
        "i = 0\n",
        "while i < cant:\n",
        "    try:\n",
        "        numero = float(input('Ingrese su numero'))\n",
        "        lista_numeros.append(numero)\n",
        "        i += 1\n",
        "    except:\n",
        "        print('Ingrese numero valido')\n",
        "\n",
        "# Convertimos la lista generada en np.array y mostramos el array\n",
        "np_array_numeros = np.array(lista_numeros)\n",
        "np_array_numeros"
      ]
    },
    {
      "cell_type": "markdown",
      "id": "ExpBJWL591Yx",
      "metadata": {
        "id": "ExpBJWL591Yx"
      },
      "source": [
        "\n",
        "**Ejercicio 3:**\n",
        "\n",
        "Crear un programa donde el usuario ingrese la cantidad de filas y columnas que tendra una tabla de datos. Luego el programa pedira ingresar los datos de la tabla fila por fila. Todos los datos serán numéricos.\n",
        "\n",
        "Mostrar la tabla ingresada en formato LISTA de Python, y mostrar la misma tabla en formato array de Numpy.\n",
        "\n",
        "Solicitar al usuario que ingrese las posiciones de dos filas y realice la suma  de las mismas. Mostrar este vector resultado."
      ]
    },
    {
      "cell_type": "code",
      "execution_count": 9,
      "id": "b199654c",
      "metadata": {},
      "outputs": [
        {
          "name": "stdout",
          "output_type": "stream",
          "text": [
            "Tabla en formato de lista de Python:\n",
            "[[2.0, 2.0], [2.0, 2.0]]\n",
            "Tabla en formato de array de Numpy:\n",
            "[[2. 2.]\n",
            " [2. 2.]]\n",
            "vector resultante de sumar las filas 0 y 1 es: [4. 4.]\n"
          ]
        }
      ],
      "source": [
        "# Pedimos filas y columnas\n",
        "cant_filas = pedir_cantidad()\n",
        "cant_columnas = pedir_cantidad()\n",
        "\n",
        "# Definimos una matriz vacia\n",
        "matriz_py = []\n",
        "\n",
        "# Ingresamos elemento fila a fila\n",
        "for i in range(cant_filas):\n",
        "    fila_nueva = []\n",
        "    for j in range(cant_columnas):\n",
        "        valor = float(input(f'Ingrese elemento [{i}][{j}]: '))\n",
        "        fila_nueva.append(valor)\n",
        "    matriz_py.append(fila_nueva)\n",
        "\n",
        "# Convertimos la matriz a numpy\n",
        "matriz_np = np.array(matriz_py)\n",
        "\n",
        "# Mostramos primero en formato lista de Python y en array de Numpy\n",
        "print('Tabla en formato de lista de Python:')\n",
        "print(f'{matriz_py}')\n",
        "print('Tabla en formato de array de Numpy:')\n",
        "print(f'{matriz_np}')\n",
        "\n",
        "# Pedimos dos filas\n",
        "fila_1 = int(input('Ingrese numero de una fila: '))\n",
        "fila_2 = int(input('Ingrese numero de otra fila: '))\n",
        "\n",
        "# Controlamos que sean cantidades dentro del rango\n",
        "if fila_1 >= 0 and fila_2 >= 0 and fila_1 < cant_filas and fila_2 < cant_filas:\n",
        "    resultado = matriz_np[fila_1] + matriz_np[fila_2]\n",
        "    print(f'vector resultante de sumar las filas {fila_1} y {fila_2} es: {resultado}')\n",
        "else:\n",
        "    print('Error al buscar elemento, indice fuera de rango')"
      ]
    },
    {
      "cell_type": "markdown",
      "id": "zOCJT7aV9vZC",
      "metadata": {
        "id": "zOCJT7aV9vZC"
      },
      "source": [
        "\n",
        "**Ejercicio 4:**\n",
        "\n",
        "\n",
        "A continuación se muestran los valores de  los siguientes productos:\n",
        "\n",
        "['arroz', 'harina','fideo','yerba','azucar']=[145.6 , 100 , 89.90 , 700 , 95]\n",
        "\n",
        "Los valores de estos productos son aproximados de hace dos meses, debido a la inflación y alza de los precios, se vieron afectados de la siguiente manera:\n",
        "*   Producto arroz , harina, azucar duplicaron su precio\n",
        "*   Productos restantes incrementaron en un 75% su precio\n",
        "\n",
        "Mostrar los datos en forma de vector y actualizar sus precios, de manera que se pueda comparar ambos vectores."
      ]
    },
    {
      "cell_type": "code",
      "execution_count": 10,
      "id": "a85a9e4d",
      "metadata": {},
      "outputs": [
        {
          "name": "stdout",
          "output_type": "stream",
          "text": [
            "Productos           ['arroz', 'harina', 'fideo', 'yerba', 'azucar']\n",
            "Precios sin suba    [145.6 100.   89.9 700.   95. ]\n",
            "Precios con suba    [ 218.4    150.     157.325 1225.     142.5  ]\n"
          ]
        }
      ],
      "source": [
        "# Creamos los arrays\n",
        "productos_py = ['arroz', 'harina', 'fideo', 'yerba', 'azucar']\n",
        "precios_py = [145.6, 100, 89.90, 700, 95]\n",
        "\n",
        "# Creamos un diccionario, ya que parece mas conveniente\n",
        "diccionario_productos = {}\n",
        "\n",
        "# Los convertimos en array de Numpy\n",
        "productos_np = np.array(productos_py)\n",
        "precios_np = np.array(precios_py)\n",
        "\n",
        "# Calculamos los nuevos precios\n",
        "precios_np_suba = np.array([])\n",
        "for i in range(len(precios_np)):\n",
        "    if i == 0 or i == 1 or i == 4:\n",
        "        precios_np_suba = np.append(precios_np_suba, precios_np[i] * 1.5)\n",
        "    else:\n",
        "        precios_np_suba = np.append(precios_np_suba, precios_np[i] * 1.75)\n",
        "    \n",
        "\n",
        "\n",
        "# Mostramos los datos en forma de vector\n",
        "print(f'Productos           {productos_py}')\n",
        "print(f'Precios sin suba    {precios_np}')\n",
        "print(f'Precios con suba    {precios_np_suba}')"
      ]
    },
    {
      "cell_type": "markdown",
      "id": "zNFELZiHwE4O",
      "metadata": {
        "id": "zNFELZiHwE4O"
      },
      "source": [
        "***EJERCICIO 5***\n",
        "\n",
        "Completar la siguiente tabla de comandos y funciones que se utilizarán sobre vectores definidos a través de Numpy\n",
        "\n",
        "|    | Comando | operación y funcionalidad |resultado | ejemplo |\n",
        "|---|    ---   |               ---         |    ---   |    ---  |\n",
        "1   | np.array([lista])|     Crea un vector o table con Numpy  |  matriz   |np.array([1.6, 2, 0, 6.75])\n",
        "2   |np.sqrt(vector)|       Calcula la raiz cuadrada de cada elemento del vector   |  array |  np.sqrt(vector_np)\n",
        "3   |np.random.rand(n)|     Genera un array de tamaño n con elementos aleatorios   |  array | np.random.rand(5)\n",
        "4   |np.ones((n))|          Genera un array de tamaño n con elementos igual a 1   |  array | np.ones((3))\n",
        "5   |np.zeros((n))|         Genera un array de tamaño n con elementos igual a 0   |  array | np.zeros((3))\n",
        "6   |np.min(array)|        Calcula el valor minimo del array   |valor mínimo| np.min(vector_np)\n",
        "7   |np.max(array)|        Calcula el valor maximo del array   |valor máximo| np.max(vector_np)\n",
        "8   |np.where(CONDICIÓN SOBRE EL VECTOR)| Genera un vector que contien los elementos que cumplen la condicion |array|np.where(vector_np>1)\n",
        "9   |np.random.shuffle(MATRIZ)|   Mezcla las filas de la matriz de manera aleatoria  | None | VER EJERCICIO PARTE 2\n",
        "10  |array.shape[n], n=0,1 |   Devuelve la cantidad de filas con n=0 y la cantidad de columnas con n=1   | int | VER EJERCICIO PARTE 2\n",
        "11  |np.sum(array, axis=n), n=0,1|  Calcula la suma del array, segun el valor de n suma las filas o las columnas| array |VER EJERCICIO PARTE 1\n",
        "12  |np.arange(a, b, p)|  Genera un array con valores del intervalo [a , b], estos valores se distancian entre si dado el valor de c  | array |np.arange(0, 10, 0.1) VER EJERCICIOS PARTE 3\n",
        "\n",
        "\n"
      ]
    },
    {
      "cell_type": "code",
      "execution_count": 19,
      "id": "7d689d27",
      "metadata": {},
      "outputs": [
        {
          "name": "stdout",
          "output_type": "stream",
          "text": [
            "[[7 8 9]\n",
            " [1 2 3]\n",
            " [4 5 6]]\n"
          ]
        }
      ],
      "source": [
        "matriz = np.array([[1,2,3],[4,5,6],[7,8,9]])\n",
        "\n",
        "np.random.shuffle(matriz)\n",
        "print(matriz)"
      ]
    },
    {
      "cell_type": "markdown",
      "id": "eXzkUDjx-o6u",
      "metadata": {
        "id": "eXzkUDjx-o6u"
      },
      "source": [
        "#  Funciones matemáticas sobre vectores\n",
        "En esta sección, se aplican funciones matemáticas a un vector utilizando Python puro y NumPy. Luego, se imprime el resultado de cada función.\n",
        "\n",
        "**ACLARACIÓN:** Estas funciones utilizan funciones y operaciones elementales matemáticas, sobre cada una de las posiciones del vector. Pero en general, se pueden definir funciones matemáticas que relacionan diferentes posiciones de un vector."
      ]
    },
    {
      "cell_type": "code",
      "execution_count": 11,
      "id": "t12Cq_uD-o6u",
      "metadata": {
        "colab": {
          "base_uri": "https://localhost:8080/"
        },
        "id": "t12Cq_uD-o6u",
        "outputId": "c7f45d95-6017-4670-e741-fbe9198296cd"
      },
      "outputs": [
        {
          "name": "stdout",
          "output_type": "stream",
          "text": [
            "Raíz cuadrada en Python puro: [1.0, 1.4142135623730951, 1.7320508075688772, 2.0, 2.23606797749979]\n",
            "Raíz cuadrada en NumPy: [1.         1.41421356 1.73205081 2.         2.23606798]\n",
            "Vector al cuadrado en Python:  [1, 4, 9, 16, 25]\n",
            "logaritmo de un Vector en Python:  [0.0, 0.6931471805599453, 1.0986122886681098, 1.3862943611198906, 1.6094379124341003]\n",
            "logaritmo de un Vector en Numpy:  [0.         0.69314718 1.09861229 1.38629436 1.60943791]\n"
          ]
        }
      ],
      "source": [
        "import math\n",
        "vector_py = [1, 2, 3, 4, 5]\n",
        "vector_np = np.array([1, 2, 3, 4, 5])\n",
        "raiz_cuadrada_py = [math.sqrt(x) for x in vector_py]\n",
        "vector_cuad=[(x**2) for x in vector_np]\n",
        "vector_log=[math.log(x) for x in vector_np]\n",
        "raiz_cuadrada_np = np.sqrt(vector_np)\n",
        "vector_npLog=np.log(vector_np)\n",
        "print(\"Raíz cuadrada en Python puro:\", raiz_cuadrada_py)\n",
        "print(\"Raíz cuadrada en NumPy:\", raiz_cuadrada_np)\n",
        "print('Vector al cuadrado en Python: ',vector_cuad)\n",
        "print('logaritmo de un Vector en Python: ',vector_log)\n",
        "print('logaritmo de un Vector en Numpy: ',vector_npLog)"
      ]
    },
    {
      "cell_type": "markdown",
      "id": "bry8WTMN-o6v",
      "metadata": {
        "id": "bry8WTMN-o6v"
      },
      "source": [
        "####  Rendimiento\n",
        "En esta celda, se mide el rendimiento de operaciones en un vector utilizando Python puro y NumPy. Se imprime el tiempo de ejecución de cada operación."
      ]
    },
    {
      "cell_type": "code",
      "execution_count": 12,
      "id": "JabuzFhf-o6v",
      "metadata": {
        "colab": {
          "base_uri": "https://localhost:8080/"
        },
        "id": "JabuzFhf-o6v",
        "outputId": "992ce8f9-5f23-428a-bb23-c4628ad57694"
      },
      "outputs": [
        {
          "name": "stdout",
          "output_type": "stream",
          "text": [
            "Tiempo en Python puro: 0.13469243049621582 segundos\n",
            "Tiempo en NumPy: 0.009993791580200195 segundos\n"
          ]
        }
      ],
      "source": [
        "import time\n",
        "vector_py = [i for i in range(1000000)]\n",
        "vector_np = np.arange(1000000)\n",
        "\n",
        "start_time = time.time()\n",
        "[x * 2 for x in vector_py]\n",
        "end_time = time.time()\n",
        "print(\"Tiempo en Python puro:\", end_time - start_time, \"segundos\")\n",
        "\n",
        "start_time = time.time()\n",
        "vector_np * 2\n",
        "end_time = time.time()\n",
        "print(\"Tiempo en NumPy:\", end_time - start_time, \"segundos\")"
      ]
    },
    {
      "cell_type": "markdown",
      "id": "iqiM6a2i-o6x",
      "metadata": {
        "id": "iqiM6a2i-o6x"
      },
      "source": [
        "## Redimensionar un NumPy\n",
        "A continuación se presentan dos ejemplos de redimensionamiento de un NumPy:"
      ]
    },
    {
      "cell_type": "markdown",
      "id": "fkDQpzMo-o6x",
      "metadata": {
        "id": "fkDQpzMo-o6x"
      },
      "source": [
        "#### Redimensionamiento 1\n",
        "En esta celda, se crea un NumPy 'array' y se utiliza la función reshape() de NumPy para redimensionarlo a una forma diferente. Luego, se imprime el nuevo array."
      ]
    },
    {
      "cell_type": "code",
      "execution_count": 13,
      "id": "zg5ygnQ6-o6x",
      "metadata": {
        "colab": {
          "base_uri": "https://localhost:8080/"
        },
        "id": "zg5ygnQ6-o6x",
        "outputId": "fbf2069d-4f6c-41c1-889a-203cfce97306"
      },
      "outputs": [
        {
          "name": "stdout",
          "output_type": "stream",
          "text": [
            "Nuevo array redimensionado: [[1 2 3]\n",
            " [4 5 6]]\n"
          ]
        }
      ],
      "source": [
        "array = np.array([1, 2, 3, 4, 5, 6])\n",
        "nuevo_array = array.reshape((2, 3))\n",
        "print(\"Nuevo array redimensionado:\", nuevo_array)"
      ]
    },
    {
      "cell_type": "markdown",
      "id": "2xfwP-s5-o6x",
      "metadata": {
        "id": "2xfwP-s5-o6x"
      },
      "source": [
        "#### Redimensionamiento 2\n",
        "En esta celda, se crea un NumPy 'array' y se utiliza la función np.resize() de NumPy para redimensionarlo a una forma diferente. Luego, se imprime el nuevo array."
      ]
    },
    {
      "cell_type": "code",
      "execution_count": 14,
      "id": "cNbF-5i3-o6x",
      "metadata": {
        "colab": {
          "base_uri": "https://localhost:8080/"
        },
        "id": "cNbF-5i3-o6x",
        "outputId": "2fb47753-1cd8-48d8-d2b2-9f00394fbbd0"
      },
      "outputs": [
        {
          "name": "stdout",
          "output_type": "stream",
          "text": [
            "Nuevo array redimensionado: [[1 2]\n",
            " [3 4]\n",
            " [5 6]\n",
            " [1 2]\n",
            " [3 4]]\n"
          ]
        }
      ],
      "source": [
        "array = np.array([1, 2, 3, 4, 5, 6])\n",
        "nuevo_array = np.resize(array, (5, 2))\n",
        "print(\"Nuevo array redimensionado:\", nuevo_array)"
      ]
    },
    {
      "cell_type": "markdown",
      "id": "2hHxd6eg6w1u",
      "metadata": {
        "id": "2hHxd6eg6w1u"
      },
      "source": [
        "# ***EJERCICIOS PARTE 2***\n",
        "\n",
        "**Ejercicio 1:**\n",
        "\n",
        "Dado una matriz de datos, dividir el 70% de filas en un array_entrenamiento y el otro 30% en otro array_testeo. Esta distribución de filas de la matriz inicial, debe ser aleatoria. Mostrar las matrices al ser modificadas por el comando np.random.shuffle('matriz'). Finalmente mostrar los array_entrenamiento y array_testeo."
      ]
    },
    {
      "cell_type": "code",
      "execution_count": 15,
      "id": "pzZwS3lF6M-6",
      "metadata": {
        "colab": {
          "base_uri": "https://localhost:8080/"
        },
        "id": "pzZwS3lF6M-6",
        "outputId": "e9c92fe9-dd99-4b8c-a4ef-f8c466d26850"
      },
      "outputs": [
        {
          "name": "stdout",
          "output_type": "stream",
          "text": [
            "[[ 24   1   5  85   0]\n",
            " [ 26   1   8  95   1]\n",
            " [ 30   2   5 120   0]\n",
            " [ 29   2   7 115   1]\n",
            " [ 32   2   6 110   1]\n",
            " [ 25   1   7 100   1]\n",
            " [ 28   1   6  90   0]\n",
            " [ 31   2   6 105   0]\n",
            " [ 35   2   4 130   1]\n",
            " [ 22   1   6  80   1]]\n",
            "Entrenamiento: \n",
            "[[ 24   1   5  85   0]\n",
            " [ 26   1   8  95   1]\n",
            " [ 30   2   5 120   0]\n",
            " [ 29   2   7 115   1]\n",
            " [ 32   2   6 110   1]\n",
            " [ 25   1   7 100   1]\n",
            " [ 28   1   6  90   0]]\n",
            "Testeo: \n",
            "[[ 31   2   6 105   0]\n",
            " [ 35   2   4 130   1]\n",
            " [ 22   1   6  80   1]]\n"
          ]
        }
      ],
      "source": [
        "dataset = np.array([[25, 1, 7, 100, 1],\n",
        "                    [30, 2, 5, 120, 0],\n",
        "                    [22, 1, 6, 80, 1],\n",
        "                    [28, 1, 6, 90, 0],\n",
        "                    [35, 2, 4, 130, 1],\n",
        "                    [32, 2, 6, 110, 1],\n",
        "                    [26, 1, 8, 95, 1],\n",
        "                    [24, 1, 5, 85, 0],\n",
        "                    [29, 2, 7, 115, 1],\n",
        "                    [31, 2, 6, 105, 0]])\n",
        "\n",
        "# Mezclar las filas de la matriz para obtener una distribución aleatoria de los datos\n",
        "np.random.shuffle(dataset)\n",
        "print( dataset)\n",
        "\n",
        "# Al estar mezclada podemos obtener el 70% de la cantidad de filas y redondear el numero\n",
        "cant_filas_entrenamiento = int(dataset.shape[0] * .7)\n",
        "cant_filas_testeo = dataset.shape[0] - cant_filas_entrenamiento\n",
        "\n",
        "array_entrenamiento = dataset[:cant_filas_entrenamiento]\n",
        "array_testeo = dataset[cant_filas_entrenamiento:]\n",
        "\n",
        "print('Entrenamiento: ')\n",
        "print(array_entrenamiento)\n",
        "\n",
        "print('Testeo: ')\n",
        "print(array_testeo)\n",
        "\n"
      ]
    },
    {
      "cell_type": "markdown",
      "id": "9WqSL4cG7LhH",
      "metadata": {
        "id": "9WqSL4cG7LhH"
      },
      "source": [
        "**Ejercicio 2:**\n",
        "\n",
        "Dado la siguiente tabla de datos poblaciones de las Provincias de Argentina (Ejercicio 10 del Práctico 1), Realizar el siguiente analisis.\n",
        "\n",
        "\n",
        "\n",
        "*   indicar la cantidad de filas y columnas que posee la tabla de datos.\n",
        "*   Mostrar toda la información de la provincia con Mayor Cantidad de habitantes. AYUDA: usar la función np.max(array)\n",
        "*   Agregar a la tabla de datos una fila al final , indicando los totales de cada columna. Mostrar el resultado de la nueva tabla.\n",
        "\n"
      ]
    },
    {
      "cell_type": "code",
      "execution_count": 16,
      "id": "5h1AALwz8Eqo",
      "metadata": {
        "colab": {
          "base_uri": "https://localhost:8080/"
        },
        "id": "5h1AALwz8Eqo",
        "outputId": "ebabdec7-f972-418b-9c43-d52cbbea1a39"
      },
      "outputs": [
        {
          "name": "stdout",
          "output_type": "stream",
          "text": [
            "[['PROVINCIA' 'CANTIDAD DE HABITANTES' 'CONSUMO EN MWH'\n",
            "  'SUPERFICIE EN KM^2']\n",
            " ['Buenos Aires' '17.569.053' ' 16543722' ' 305907']\n",
            " ['Córdoba' '3.978.984' ' 10606601' '164708']\n",
            " ['Santa Fe' '3.556.522' ' 13078203' ' 133249']\n",
            " ['Ciudad Autónoma de Buenos Aires' '3.120.612' '51712507' ' 201']\n",
            " ['Mendoza' '2.014.533' ' 5652519' ' 149069']\n",
            " ['Tucumán' '1.703.186' '3208711' '22.524']\n",
            " ['Salta' '1.440.672' ' 2214796' ' 155341']\n",
            " ['Entre Ríos' '1.426.426' '3906353' '78384']\n",
            " ['Misiones' '1.280.960' '2845762' ' 29911']\n",
            " ['Corrientes' '1.197.553' '2997612' ' 89123']\n",
            " ['Chaco' '1.142.963' '3045380' ' 99763']\n",
            " ['Santiago del Estero' '1.054.028' ' 1811277' ' 136934']\n",
            " ['San Juan' '818.234' ' 2381940' ' 88296']\n",
            " ['Jujuy' '797.955' ' 1136336' ' 53244']\n",
            " ['Río Negro' '762.067' ' 1984782' '202169']\n",
            " ['Neuquén' '726.590' '1834879' ' 94422']\n",
            " ['Formosa' '606.041' ' 1388311' '75488']\n",
            " ['Chubut' '603.120' '1646029' ' 224302']\n",
            " ['San Luis' '540.905' ' 1780881' '75347']\n",
            " ['Catamarca' '429.556' ' 1337032' '101486']\n",
            " ['La Rioja' '384.607' '1572290' ' 91494']\n",
            " ['La Pampa' '366.022' '915781' ' 143493']\n",
            " ['Santa Cruz' '333.473' ' 1025648' ' 244458']\n",
            " ['Tierra del Fuego, Antártida e Islas del Atlántico Sur' '190.641'\n",
            "  ' s/d ' ' 37131']]\n"
          ]
        }
      ],
      "source": [
        "poblacionArgentina1=[\n",
        "    ['PROVINCIA','CANTIDAD DE HABITANTES','CONSUMO EN MWH','SUPERFICIE EN KM^2'],\n",
        "    ['Buenos Aires','17.569.053',' 16543722',' 305907'],\n",
        "    ['Córdoba','3.978.984',' 10606601','164708'],\n",
        "    ['Santa Fe','3.556.522',' 13078203',' 133249'],\n",
        "    ['Ciudad Autónoma de Buenos Aires','3.120.612','51712507',' 201'],\n",
        "    ['Mendoza','2.014.533',' 5652519',' 149069'],\n",
        "    ['Tucumán','1.703.186','3208711','22.524'],\n",
        "    ['Salta','1.440.672',' 2214796',' 155341'],\n",
        "    ['Entre Ríos','1.426.426','3906353','78384'],\n",
        "    ['Misiones','1.280.960','2845762',' 29911'],\n",
        "    ['Corrientes','1.197.553','2997612',' 89123'],\n",
        "    ['Chaco','1.142.963','3045380',' 99763'],\n",
        "    ['Santiago del Estero','1.054.028',' 1811277',' 136934'],\n",
        "    ['San Juan','818.234',' 2381940',' 88296'],\n",
        "   ['Jujuy','797.955',' 1136336',' 53244'],\n",
        "   ['Río Negro','762.067',' 1984782','202169'],\n",
        "   ['Neuquén','726.590','1834879',' 94422'],\n",
        "   ['Formosa','606.041',' 1388311','75488'],\n",
        "   ['Chubut','603.120','1646029',' 224302'],\n",
        "   ['San Luis','540.905',' 1780881','75347'],\n",
        "   ['Catamarca','429.556',' 1337032','101486'],\n",
        "   ['La Rioja','384.607','1572290',' 91494'],\n",
        "   ['La Pampa','366.022','915781',' 143493'],\n",
        "   ['Santa Cruz','333.473',' 1025648',' 244458'],\n",
        "   ['Tierra del Fuego, Antártida e Islas del Atlántico Sur','190.641',' s/d ',' 37131']]\n",
        "\n",
        "poblacion_argentina=np.array(poblacionArgentina1)\n",
        "\n",
        "print(poblacion_argentina)"
      ]
    },
    {
      "cell_type": "code",
      "execution_count": null,
      "id": "b2d3d95c",
      "metadata": {},
      "outputs": [],
      "source": [
        "# Empezamos el ejercicio 2\n",
        "\n",
        "# Cantidad de filas y columnas\n",
        "print(f'Filas:      {poblacion_argentina.shape[0]}')\n",
        "print(f'Columnas:   {poblacion_argentina.shape[1]}')\n"
      ]
    },
    {
      "cell_type": "code",
      "execution_count": 103,
      "id": "866f51dc",
      "metadata": {},
      "outputs": [
        {
          "name": "stdout",
          "output_type": "stream",
          "text": [
            "[['Buenos Aires' '17569053' ' 16543722' ' 305907']]\n"
          ]
        }
      ],
      "source": [
        "# Datos del Mas poblado\n",
        "# Debido a que los valores numericos estan ingresados como cadenas, procesamos los datos para poder manipular tipos de datos numericos\n",
        "\n",
        "# Definimos una funcion que borrará los puntos de los elementos, ya que esto generará errores al convertir\n",
        "def reemplazar(x):\n",
        "    return np.char.replace(x, '.', '')\n",
        "\n",
        "# Para aplicar la solucion necesito la columna de cantidad de habitantes, sin el titulo\n",
        "cant_habitantes = poblacion_argentina[1:,1]\n",
        "\n",
        "# Aplicamos la funcion definida anteriormente\n",
        "cant_habitantes = np.apply_along_axis(reemplazar, 0, cant_habitantes).astype(int)\n",
        "\n",
        "# Determinamos la maxima cantidad de habitantes\n",
        "maximo = np.max(cant_habitantes)\n",
        "\n",
        "# colocamos en la matriz numpy la columna ya convertida\n",
        "poblacion_argentina[1:,1] = cant_habitantes\n",
        "\n",
        "# Mostraremos la info de la provincia con mas habitantes\n",
        "# la columna no puede ser del tipo int dado que hay una fila que contiene la cadena 'CANTIDAD DE HABITANTES', por lo que convertimos al maximo en string\n",
        "# La mask nos servira para indexacion booleana, y [:,1] nos permite corroborar que la condicion se cumpla en cualquier fila de la columna 1 \n",
        "mask = poblacion_argentina[:,1] == str(maximo)\n",
        "print(poblacion_argentina[mask])\n"
      ]
    },
    {
      "cell_type": "markdown",
      "id": "lQwZW6nj-o67",
      "metadata": {
        "id": "lQwZW6nj-o67"
      },
      "source": [
        "# Ploteo de datos con Matplotlib\n",
        "A continuación se presentan ejemplos de diferentes tipos de gráficos utilizando Matplotlib:"
      ]
    },
    {
      "cell_type": "markdown",
      "id": "W6xs2svw-o67",
      "metadata": {
        "id": "W6xs2svw-o67"
      },
      "source": [
        "## Gráfica de funciones matemáticas elementales\n",
        "En esta celda, se crea un array 'x' con valores en el rango de 0 a 10 y se utiliza la función np.sin() y np.cos() de NumPy para calcular el seno y coseno de cada valor en 'x'. Luego, se utiliza la biblioteca Matplotlib para trazar un gráfico de línea con 'x' en el eje x y 'y' en el eje y. También se agrega etiquetas y un título al gráfico."
      ]
    },
    {
      "cell_type": "code",
      "execution_count": null,
      "id": "GQGdYmNN-o67",
      "metadata": {
        "colab": {
          "base_uri": "https://localhost:8080/",
          "height": 284
        },
        "id": "GQGdYmNN-o67",
        "outputId": "85ff9e91-3d9c-44e5-a5c3-cb2b12fc097c"
      },
      "outputs": [
        {
          "data": {
            "image/png": "[encoded data removed]",
            "text/plain": [
              "<Figure size 640x480 with 1 Axes>"
            ]
          },
          "metadata": {},
          "output_type": "display_data"
        }
      ],
      "source": [
        "import matplotlib.pyplot as plt\n",
        "\n",
        "x = np.arange(0, 10, 0.1)\n",
        "y = np.cos(x)\n",
        "\n",
        "plt.plot(x, y)\n",
        "plt.xlabel('x')\n",
        "plt.ylabel('y')\n",
        "plt.title('Gráfico de línea')\n",
        "plt.show()"
      ]
    },
    {
      "cell_type": "markdown",
      "id": "Q0dztL-66aVb",
      "metadata": {
        "id": "Q0dztL-66aVb"
      },
      "source": [
        "# ***EJERCICIOS PARTE 3***\n",
        "\n",
        "Realizar las gráficas de als siguientes expresiones matemáticas. Determinar el dominio del eje x adecuado para plotear las funciones de manera que se visualice su comportamiento.\n",
        "\n",
        "\n",
        "*  $ y= 3x -2$\n",
        "*   $y= 2x^2+4x+2 $\n",
        "*   $y= \\vert x\\vert= \\begin{cases}-x & x < 0 \\\\ x & x\\ge 0                       \\end{cases}$\n",
        "*   $y= 1/x$\n",
        "*   $y=\\sqrt x$\n",
        "\n",
        "\n"
      ]
    },
    {
      "cell_type": "code",
      "execution_count": 2,
      "id": "5749eb72",
      "metadata": {},
      "outputs": [],
      "source": [
        "# importamos las librerias necesarias \n",
        "import matplotlib.pyplot as plt\n",
        "import numpy as np"
      ]
    },
    {
      "cell_type": "code",
      "execution_count": 110,
      "id": "d05bf4f4",
      "metadata": {},
      "outputs": [
        {
          "data": {
            "image/png": "[encoded data removed]",
            "text/plain": [
              "<Figure size 640x480 with 1 Axes>"
            ]
          },
          "metadata": {},
          "output_type": "display_data"
        }
      ],
      "source": [
        "# y = 3x - 2\n",
        "# Como su dominio son todos los reales, y es una funcion lineal, tomamos algunos valores negativos y positivos\n",
        "x = np.arange(-5, 5, 0.1)\n",
        "y = 3 * x - 2\n",
        "\n",
        "plt.plot(x,y)\n",
        "plt.grid(True)\n",
        "plt.xlabel('Eje x')\n",
        "plt.ylabel('Eje y')\n",
        "plt.title('y = 3x - 2')\n",
        "plt.show()"
      ]
    },
    {
      "cell_type": "code",
      "execution_count": 112,
      "id": "9fe60556",
      "metadata": {},
      "outputs": [
        {
          "data": {
            "image/png": "[encoded data removed]",
            "text/plain": [
              "<Figure size 640x480 with 1 Axes>"
            ]
          },
          "metadata": {},
          "output_type": "display_data"
        }
      ],
      "source": [
        "# y = 2x^2 + 4x + 2\n",
        "# Como su dominio son todos los reales y ademas su imagen son los reales positivos, tomamos 2 valores que encierren sus raices\n",
        "# Como el determinante es cero, tenemos dos raices iguales, x1 = x2 = -1 \n",
        "x = np.arange(-5, 4, 0.1)\n",
        "y = 2 * (x ** 2) + 4 * x + 2\n",
        "\n",
        "plt.plot(x,y)\n",
        "plt.grid(True)\n",
        "plt.xlabel('Eje x')\n",
        "plt.ylabel('Eje y')\n",
        "plt.title('y = 2x^2 + 4x + 2')\n",
        "plt.show()"
      ]
    },
    {
      "cell_type": "code",
      "execution_count": 117,
      "id": "25a9d61b",
      "metadata": {},
      "outputs": [
        {
          "data": {
            "image/png": "[encoded data removed]",
            "text/plain": [
              "<Figure size 640x480 with 1 Axes>"
            ]
          },
          "metadata": {},
          "output_type": "display_data"
        }
      ],
      "source": [
        "# Como el valor absoluto se comporta como una funcion lineal cambiando su pendiente con x positivo y con x positivo, definimos el dominio alrededor del cero\n",
        "x = np.arange(-5, 5, 0.1)\n",
        "y = abs(x)\n",
        "\n",
        "plt.plot(x,y)\n",
        "plt.grid(True)\n",
        "plt.xlabel('Eje x')\n",
        "plt.ylabel('Eje y')\n",
        "plt.title('y = |x|')\n",
        "plt.show()\n"
      ]
    },
    {
      "cell_type": "code",
      "execution_count": 7,
      "id": "9b953532",
      "metadata": {},
      "outputs": [
        {
          "data": {
            "image/png": "[encoded data removed]",
            "text/plain": [
              "<Figure size 640x480 with 1 Axes>"
            ]
          },
          "metadata": {},
          "output_type": "display_data"
        }
      ],
      "source": [
        "# Como tenemos una division, el dominio serian todos los reales excepto el cero, por lo que en el grafico tendriamos una asintota vertical en x=0\n",
        "# Probando eh notado que nos conviene hacer 2 graficas o 2 intervalos, estos intervalos no contendran a x = 0\n",
        "x_1 = np.arange(-1, -0.01, 0.001)\n",
        "x_2 = np.arange(0.01, 1, 0.001)\n",
        "y_1 = 1 / x_1\n",
        "y_2 = 1 / x_2\n",
        "\n",
        "plt.plot(x_1, y_1, 'b')\n",
        "plt.plot(x_2, y_2, 'b')\n",
        "plt.grid(True)\n",
        "plt.xlabel('Eje x')\n",
        "plt.ylabel('Eje y')\n",
        "plt.title('y = 1 / x')\n",
        "plt.show()\n"
      ]
    },
    {
      "cell_type": "code",
      "execution_count": 10,
      "id": "e773c325",
      "metadata": {},
      "outputs": [
        {
          "data": {
            "image/png": "[encoded data removed]",
            "text/plain": [
              "<Figure size 640x480 with 1 Axes>"
            ]
          },
          "metadata": {},
          "output_type": "display_data"
        }
      ],
      "source": [
        "# Como el dominio de la raiz cuadrada son los reales positivos, entonces tomaremos solamente los numeros positivos\n",
        "\n",
        "x = np.arange(0, 10, 0.1)\n",
        "y = np.sqrt(x)\n",
        "\n",
        "plt.plot(x,y)\n",
        "plt.grid(True)\n",
        "plt.xlabel('Eje x')\n",
        "plt.ylabel('Eje y')\n",
        "plt.title('y = sqrt(x)')\n",
        "plt.show()"
      ]
    }
  ],
  "metadata": {
    "colab": {
      "provenance": []
    },
    "kernelspec": {
      "display_name": "Python 3",
      "language": "python",
      "name": "python3"
    },
    "language_info": {
      "codemirror_mode": {
        "name": "ipython",
        "version": 3
      },
      "file_extension": ".py",
      "mimetype": "text/x-python",
      "name": "python",
      "nbconvert_exporter": "python",
      "pygments_lexer": "ipython3",
      "version": "3.11.4"
    }
  },
  "nbformat": 4,
  "nbformat_minor": 5
}
