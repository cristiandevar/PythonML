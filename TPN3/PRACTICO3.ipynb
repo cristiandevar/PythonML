{
  "cells": [
    {
      "cell_type": "markdown",
      "metadata": {
        "id": "3EwNdi9QydGU"
      },
      "source": [
        "# TRABAJO PRACTICO N 3\n"
      ]
    },
    {
      "cell_type": "markdown",
      "metadata": {
        "id": "fhG0B7Fty79v"
      },
      "source": [
        "***TEMAS A DESARROLLAR:***\n",
        "\n",
        "Nociones de Probabilidad, simulación de procesos aleatorios, cálculo de parámetros estadisticos: Media o Valor Esperado(PROMEDIO), Mediana, Desvio Estandar. DISTRIBUCIONES DE PROABABILIDAD más frecuentes, por ejemplo la Normal.\n"
      ]
    },
    {
      "cell_type": "markdown",
      "metadata": {
        "id": "jyrQncyp-o6z"
      },
      "source": [
        "## Funciones estadísticas para análisis exploratorio de datos\n",
        "A continuación se presentan ejemplos de funciones estadísticas para el análisis exploratorio de datos utilizando NumPy:"
      ]
    },
    {
      "cell_type": "markdown",
      "metadata": {
        "id": "RY7poYIL-o6y"
      },
      "source": [
        "#### Crear array aleatorio\n",
        "En esta celda, se utiliza la función np.random.rand() de NumPy para crear un array de números aleatorios con una forma específica. Luego, se imprime el array."
      ]
    },
    {
      "cell_type": "code",
      "execution_count": 2,
      "metadata": {
        "colab": {
          "base_uri": "https://localhost:8080/"
        },
        "id": "yYNWQ6gM-o6y",
        "outputId": "37aedb1f-c950-4b07-b8cd-4823d11203bf"
      },
      "outputs": [
        {
          "name": "stdout",
          "output_type": "stream",
          "text": [
            "Array aleatorio: [[5 1 5]\n",
            " [2 4 9]\n",
            " [7 9 6]\n",
            " [8 5 1]]\n"
          ]
        }
      ],
      "source": [
        "import numpy as np\n",
        "random_array = np.random.randint(0,10, (4,3))\n",
        "print(\"Array aleatorio:\", random_array)"
      ]
    },
    {
      "cell_type": "markdown",
      "metadata": {
        "id": "VZ2loIOU-o6z"
      },
      "source": [
        "#### Media\n",
        "En esta celda, se crea un array 'array' y se utiliza la función np.mean() de NumPy para calcular la media del array. Luego, se imprime el resultado."
      ]
    },
    {
      "cell_type": "code",
      "execution_count": 3,
      "metadata": {
        "colab": {
          "base_uri": "https://localhost:8080/"
        },
        "id": "sPE9oXi4-o6z",
        "outputId": "bead0399-fb82-45dd-fc79-1bb2e8016bc6"
      },
      "outputs": [
        {
          "name": "stdout",
          "output_type": "stream",
          "text": [
            "Media: 3.0\n"
          ]
        }
      ],
      "source": [
        "array = np.array([1, 2, 3, 4, 5])\n",
        "media = np.mean(array)\n",
        "print(\"Media:\", media)"
      ]
    },
    {
      "cell_type": "markdown",
      "metadata": {
        "id": "dvEomGsS-o6z"
      },
      "source": [
        "#### Desviación estándar\n",
        "En esta celda, se crea un array 'array' y se utiliza la función np.std() de NumPy para calcular la desviación estándar del array. Luego, se imprime el resultado."
      ]
    },
    {
      "cell_type": "code",
      "execution_count": 4,
      "metadata": {
        "colab": {
          "base_uri": "https://localhost:8080/"
        },
        "id": "9V1fmwjN-o66",
        "outputId": "0ddb450c-2ec9-488c-9139-ccca4d0e4bec"
      },
      "outputs": [
        {
          "name": "stdout",
          "output_type": "stream",
          "text": [
            "Desviación estándar: 1.4142135623730951\n"
          ]
        }
      ],
      "source": [
        "array = np.array([1, 2, 3, 4, 5])\n",
        "desviacion_estandar = np.std(array)\n",
        "print(\"Desviación estándar:\", desviacion_estandar)"
      ]
    },
    {
      "cell_type": "markdown",
      "metadata": {
        "id": "y7XKPmE0-o69"
      },
      "source": [
        "#### Varianza\n",
        "La función np.var() se utiliza para calcular la varianza de un array.\n",
        "Ejemplo de uso:"
      ]
    },
    {
      "cell_type": "code",
      "execution_count": 5,
      "metadata": {
        "colab": {
          "base_uri": "https://localhost:8080/"
        },
        "id": "5e758a05",
        "outputId": "92404ab0-bbc1-4c5a-cf0f-e13a56d7b1e9"
      },
      "outputs": [
        {
          "name": "stdout",
          "output_type": "stream",
          "text": [
            "Varianza: 2.0\n"
          ]
        }
      ],
      "source": [
        "array = np.array([1, 2, 3, 4, 5])\n",
        "varianza = np.var(array)\n",
        "print(\"Varianza:\", varianza)"
      ]
    },
    {
      "cell_type": "markdown",
      "metadata": {
        "id": "_Ql_kgVk-o66"
      },
      "source": [
        "#### Valor mínimo\n",
        "En esta celda, se crea un array 'array' y se utiliza la función np.min() de NumPy para encontrar el valor mínimo del array. Luego, se imprime el resultado."
      ]
    },
    {
      "cell_type": "code",
      "execution_count": 6,
      "metadata": {
        "colab": {
          "base_uri": "https://localhost:8080/"
        },
        "id": "4Xsua_Hd-o66",
        "outputId": "efb878e7-3849-4442-ee33-9bbf92709339"
      },
      "outputs": [
        {
          "name": "stdout",
          "output_type": "stream",
          "text": [
            "Valor mínimo: [-3 -3 -1 -3 -1]\n",
            "[[ 0 -1  1  0  0]\n",
            " [ 1  2 -1  0  0]\n",
            " [-2 -3 -1 -3  2]\n",
            " [-3  0 -1  0 -1]\n",
            " [ 2  2  2  2  2]]\n"
          ]
        }
      ],
      "source": [
        "array = np.array([1, 2, 3, 4, 5])\n",
        "matriz=np.random.randint(-3,3,(5,5))\n",
        "#minimo = np.min(array)\n",
        "minimo = np.min(matriz, axis=0)\n",
        "print(\"Valor mínimo:\", minimo)\n",
        "print( matriz)\n"
      ]
    },
    {
      "cell_type": "markdown",
      "metadata": {
        "id": "GVhP0lkq-o66"
      },
      "source": [
        "#### Valor máximo\n",
        "En esta celda, se crea un array 'array' y se utiliza la función np.max() de NumPy para encontrar el valor máximo del array. Luego, se imprime el resultado."
      ]
    },
    {
      "cell_type": "code",
      "execution_count": 7,
      "metadata": {
        "colab": {
          "base_uri": "https://localhost:8080/"
        },
        "id": "83u0COEW-o66",
        "outputId": "d2f195b1-7e16-4490-be6a-f751bbfcc47a"
      },
      "outputs": [
        {
          "name": "stdout",
          "output_type": "stream",
          "text": [
            "Valor máximo: 5\n"
          ]
        }
      ],
      "source": [
        "maximo = np.max(array)\n",
        "print(\"Valor máximo:\", maximo)"
      ]
    },
    {
      "cell_type": "markdown",
      "metadata": {
        "id": "7uMUsI2_-o67"
      },
      "source": [
        "#### Gráfico de dispersión\n",
        "En esta celda, se crea un array 'x' con valores aleatorios y un array 'y' con valores aleatorios. Luego, se utiliza la biblioteca Matplotlib para trazar un gráfico de dispersión con 'x' en el eje x y 'y' en el eje y. También se agrega etiquetas y un título al gráfico."
      ]
    },
    {
      "cell_type": "code",
      "execution_count": 8,
      "metadata": {},
      "outputs": [],
      "source": [
        "import matplotlib.pyplot as plt"
      ]
    },
    {
      "cell_type": "code",
      "execution_count": 9,
      "metadata": {
        "colab": {
          "base_uri": "https://localhost:8080/",
          "height": 472
        },
        "id": "e0S5-Csz-o67",
        "outputId": "4423a1af-f9e7-48c4-dedb-1a8bccc7e91c"
      },
      "outputs": [
        {
          "data": {
            "image/png": "[encoded data removed]",
            "text/plain": [
              "<Figure size 640x480 with 1 Axes>"
            ]
          },
          "metadata": {},
          "output_type": "display_data"
        }
      ],
      "source": [
        "x = np.random.rand(100)\n",
        "y = np.random.rand(100)\n",
        "\n",
        "plt.scatter(x, y)\n",
        "plt.xlabel('x')\n",
        "plt.ylabel('y')\n",
        "plt.title('Gráfico de dispersión')\n",
        "plt.show()"
      ]
    },
    {
      "cell_type": "markdown",
      "metadata": {
        "id": "bSbKBHmZ-o67"
      },
      "source": [
        "En esta celda, se crea un array 'data' con valores aleatorios siguiendo una distribución normal. Luego, se utiliza la biblioteca Matplotlib para trazar un histograma de 'data'. También se agrega etiquetas y un título al gráfico."
      ]
    },
    {
      "cell_type": "code",
      "execution_count": 10,
      "metadata": {
        "colab": {
          "base_uri": "https://localhost:8080/",
          "height": 472
        },
        "id": "gV_7p8Lk-o68",
        "outputId": "380e4aea-dfed-4dbd-e942-5c5b35d4ee35"
      },
      "outputs": [
        {
          "data": {
            "image/png": "[encoded data removed]",
            "text/plain": [
              "<Figure size 640x480 with 1 Axes>"
            ]
          },
          "metadata": {},
          "output_type": "display_data"
        }
      ],
      "source": [
        "data = np.random.normal(0, 1, 1000)\n",
        "\n",
        "plt.hist(data, bins=30)\n",
        "plt.xlabel('Valor')\n",
        "plt.ylabel('Frecuencia')\n",
        "plt.title('Histograma')\n",
        "plt.show()"
      ]
    },
    {
      "cell_type": "markdown",
      "metadata": {
        "id": "oCGRe3n_-o68"
      },
      "source": [
        "#### Mediana\n",
        "La función np.median() se utiliza para calcular la mediana de un array.\n",
        "Ejemplo de uso:"
      ]
    },
    {
      "cell_type": "code",
      "execution_count": 11,
      "metadata": {
        "colab": {
          "base_uri": "https://localhost:8080/"
        },
        "id": "37f660c6",
        "outputId": "b08edb66-da60-48ba-fe2a-9835b46d7a70"
      },
      "outputs": [
        {
          "name": "stdout",
          "output_type": "stream",
          "text": [
            "Mediana: 3.0\n"
          ]
        }
      ],
      "source": [
        "array = np.array([1, 2, 3, 4, 5])\n",
        "mediana = np.median(array)\n",
        "print(\"Mediana:\", mediana)"
      ]
    },
    {
      "cell_type": "markdown",
      "metadata": {
        "id": "Dlkgy0Bj-o69"
      },
      "source": [
        "#### Percentiles\n",
        "La función np.percentile() se utiliza para calcular los percentiles de un array.\n",
        "Ejemplo de uso:"
      ]
    },
    {
      "cell_type": "code",
      "execution_count": 12,
      "metadata": {
        "colab": {
          "base_uri": "https://localhost:8080/"
        },
        "id": "7ffea41c",
        "outputId": "304f4a67-7123-4c89-f934-521eada82522"
      },
      "outputs": [
        {
          "name": "stdout",
          "output_type": "stream",
          "text": [
            "Percentil 50: 3.0\n"
          ]
        }
      ],
      "source": [
        "array = np.array([1, 2, 3, 4, 5])\n",
        "percentil_50 = np.percentile(array, 50)\n",
        "print(\"Percentil 50:\", percentil_50)"
      ]
    },
    {
      "cell_type": "markdown",
      "metadata": {
        "id": "gwjQOi8Kyndy"
      },
      "source": [
        "\n",
        "# EJEMPLOS Y APLICACIÓNES\n"
      ]
    },
    {
      "cell_type": "markdown",
      "metadata": {
        "id": "SPfckR9xRvdf"
      },
      "source": [
        "***APLICACIÓN DE PROBABILIDAD***\n",
        "\n",
        "Se Realiza el lanzamiento de un dado EQUILIBRADO JUSTO, de manera reiterada con las mismas condiciones, y se anotan sus resultados= CARA O CRUZ.\n",
        "\n",
        "Se le pide al usuario que defina la cantidad N de lanzamientos y se calcula su frecuencia relativa= 'PROBABILIDAD' de obtener cara o cruz. Se obtiene los siguientes resultados:"
      ]
    },
    {
      "cell_type": "code",
      "execution_count": 13,
      "metadata": {
        "colab": {
          "base_uri": "https://localhost:8080/"
        },
        "id": "4RkcdDGQyPv_",
        "outputId": "9603abb9-003d-42e7-ccec-f1480c8d8648"
      },
      "outputs": [],
      "source": [
        "import numpy as np\n",
        "n=int(input('ingrese la cantidad de simulación o lanzamientos'))\n",
        "\n",
        "#========= FORMA 1 DE SIMULAR LANZAMIENTO DE UN DADO============\n",
        "dado=[]\n",
        "cara=0\n",
        "cruz=0\n",
        "for i in range(n):\n",
        "  dado.append(np.random.rand(1))\n",
        "  dado1=np.array(dado)\n",
        "  if dado1[i]<0.5:\n",
        "    #print('salio cara')\n",
        "    #print(dado[i])\n",
        "    cara +=1\n",
        "  else:\n",
        "    #print('salio cruz')\n",
        "    #print(dado[i])\n",
        "    cruz +=1\n"
      ]
    },
    {
      "cell_type": "code",
      "execution_count": 14,
      "metadata": {
        "colab": {
          "base_uri": "https://localhost:8080/"
        },
        "id": "RvOMR4nSD4wo",
        "outputId": "b2cd70ca-1f07-440e-bbe1-4e2d5ad2f409"
      },
      "outputs": [
        {
          "name": "stdout",
          "output_type": "stream",
          "text": [
            "la probabilidad aproximada en 100 lanzamientos de sacar CARA es: 0.49\n",
            "la probabilidad aproximada en 100 lanzamientos de sacar CRUZ es: 0.51\n"
          ]
        }
      ],
      "source": [
        "#  mostrar la probailidad frecuencista de el lanzamiento de un dado\n",
        "prom_cara=cara/n\n",
        "prom_cruz=cruz/n\n",
        "print('la probabilidad aproximada en '+str(n)+' lanzamientos de sacar CARA es:', prom_cara)\n",
        "print('la probabilidad aproximada en '+str(n)+' lanzamientos de sacar CRUZ es:', prom_cruz)"
      ]
    },
    {
      "cell_type": "code",
      "execution_count": 15,
      "metadata": {
        "colab": {
          "base_uri": "https://localhost:8080/"
        },
        "id": "5KY2nymYFAy2",
        "outputId": "737d4f4e-a574-4d44-f532-7462b0d8ad63"
      },
      "outputs": [
        {
          "name": "stdout",
          "output_type": "stream",
          "text": [
            "Probabilidad de cara: 0.58\n",
            "Probabilidad de sello: 0.42\n"
          ]
        }
      ],
      "source": [
        "#========== FORMA COMPACTA DE SIMULAR USANDO NUMPY===========\n",
        "m=int(input('ingrese la cantidad de simulación o lanzamientos'))\n",
        "lanzamientos = np.random.randint(0, 2, m)\n",
        "\n",
        "# Calcular las probabilidades\n",
        "\n",
        "probabilidad_cara = np.sum(lanzamientos ==0 ) / len(lanzamientos)\n",
        "probabilidad_sello = np.sum(lanzamientos== 1) / len(lanzamientos)\n",
        "\n",
        "print(f\"Probabilidad de cara: {probabilidad_cara:.2f}\")\n",
        "print(f\"Probabilidad de sello: {probabilidad_sello:.2f}\")"
      ]
    },
    {
      "cell_type": "code",
      "execution_count": 16,
      "metadata": {
        "colab": {
          "base_uri": "https://localhost:8080/",
          "height": 472
        },
        "id": "-llwABNxopr8",
        "outputId": "3e7bb8b7-6733-4819-a1bf-bf0897a6a6a3"
      },
      "outputs": [
        {
          "data": {
            "image/png": "[encoded data removed]",
            "text/plain": [
              "<Figure size 640x480 with 1 Axes>"
            ]
          },
          "metadata": {},
          "output_type": "display_data"
        }
      ],
      "source": [
        "import matplotlib.pyplot as plt\n",
        "x=np.array(range(2))\n",
        "y=np.array([probabilidad_cara, probabilidad_sello])\n",
        "\n",
        "plt.bar(x,y)\n",
        "plt.xlabel('Opción')\n",
        "plt.ylabel('Frecuencia relativa')\n",
        "plt.title('Histograma del lanzamiento de una moneda equilibrada')\n",
        "plt.show()"
      ]
    },
    {
      "cell_type": "markdown",
      "metadata": {
        "id": "BQD9uyGpc2Q0"
      },
      "source": [
        "# EJERCICIOS"
      ]
    },
    {
      "cell_type": "markdown",
      "metadata": {
        "id": "oaBQ-ToZIASA"
      },
      "source": [
        "##***EJERCICIO 1***\n",
        "\n",
        "Simular el lanzamiento de un dado eqilibrado de 6 caras.\n",
        "\n",
        "\n",
        "*   Mostrar la probabilida aproximada de obtener el número 2, 3 y 5\n",
        "*   Graficar el histograma de las probabilidades\n",
        "\n"
      ]
    },
    {
      "cell_type": "code",
      "execution_count": 33,
      "metadata": {},
      "outputs": [
        {
          "name": "stdout",
          "output_type": "stream",
          "text": [
            "Se tira 50 veces el dado\n",
            "La probabilidad de obtener 2 es: 0.24\n",
            "La probabilidad de obtener 3 es: 0.08\n",
            "La probabilidad de obtener 5 es: 0.14\n",
            "\n",
            "Histograma:\n"
          ]
        },
        {
          "data": {
            "image/png": "[encoded data removed]",
            "text/plain": [
              "<Figure size 640x480 with 1 Axes>"
            ]
          },
          "metadata": {},
          "output_type": "display_data"
        }
      ],
      "source": [
        "# simulamos las tiradas de un dado\n",
        "cant = int(input('Ingrese cantidad de tiradas: '))\n",
        "\n",
        "# Se simula cant tiradas del dado\n",
        "tiradas = np.random.randint(1, 7, cant)\n",
        "print(f'Se tira {cant} veces el dado')\n",
        "\n",
        "# Calculamos las probabilidades\n",
        "prob_2 = np.sum(tiradas==2)/len(tiradas)\n",
        "prob_3 = np.sum(tiradas==3)/len(tiradas)\n",
        "prob_5 = np.sum(tiradas==5)/len(tiradas)\n",
        "\n",
        "print(f'La probabilidad de obtener 2 es: {prob_2}')\n",
        "print(f'La probabilidad de obtener 3 es: {prob_3}')\n",
        "print(f'La probabilidad de obtener 5 es: {prob_5}')\n",
        "\n",
        "# Graficamos el histograma\n",
        "print()\n",
        "print('Histograma:')\n",
        "x = [2, 3, 5]\n",
        "y = [prob_2, prob_3, prob_5]\n",
        "\n",
        "plt.bar(x,y)\n",
        "plt.ylabel('Probabilidad')\n",
        "plt.xlabel('Nro Obtenido')\n",
        "plt.show()\n"
      ]
    },
    {
      "cell_type": "markdown",
      "metadata": {
        "id": "YXLKo8SqTYe1"
      },
      "source": [
        "## ***EJERCICIO 2***\n",
        "\n",
        "Simular el lanzamiento de un dado NO eqilibrado o cargado de 6 caras, de manera que las chances o probabilidades de salir 1 o 2 sean el doble de obtener otro resultado (3,4,5 o 6)\n",
        "\n",
        "\n",
        "*   Mostrar la probabilida aproximada de obtener el número 2, 3 y 5\n",
        "*   Graficar el histograma de las probabilidades\n",
        "\n"
      ]
    },
    {
      "cell_type": "code",
      "execution_count": 39,
      "metadata": {},
      "outputs": [
        {
          "name": "stdout",
          "output_type": "stream",
          "text": [
            "Se tira 1000 veces el dado NO equilibrado\n",
            "La probabilidad de obtener 2 es: 0.239\n",
            "La probabilidad de obtener 3 es: 0.111\n",
            "La probabilidad de obtener 5 es: 0.127\n",
            "\n",
            "Histograma:\n"
          ]
        },
        {
          "data": {
            "image/png": "[encoded data removed]",
            "text/plain": [
              "<Figure size 640x480 with 1 Axes>"
            ]
          },
          "metadata": {},
          "output_type": "display_data"
        }
      ],
      "source": [
        "# La probabilidad teorica nos dice que p = 1/6 en un dado equilibrado, pero en un dado NO equilibrado tendriamos que p = 1/8 y p = 1/4 segun sea 1,2 y 3,4,5,6 respectivamente\n",
        "# Pero en la practica simular una tirada de un dado NO equilibrado segun lo que investigue lo obtenemos mediante choice\n",
        "\n",
        "# Nuevamente ingresamos la cantidad\n",
        "cant = int(input('Ingrese la cantidad de tiradas: '))\n",
        "\n",
        "posibles_resultados = range(1,7)\n",
        "probabilidades = [0.25, 0.25, 0.125, 0.125, 0.125, 0.125]\n",
        "\n",
        "tiradas = np.random.choice(posibles_resultados, cant, p=probabilidades)\n",
        "\n",
        "# Repetimos el proceso del Ejercicio 1\n",
        "print(f'Se tira {cant} veces el dado NO equilibrado')\n",
        "\n",
        "# Calculamos las probabilidades\n",
        "prob_2 = np.sum(tiradas==2)/len(tiradas)\n",
        "prob_3 = np.sum(tiradas==3)/len(tiradas)\n",
        "prob_5 = np.sum(tiradas==5)/len(tiradas)\n",
        "\n",
        "print(f'La probabilidad de obtener 2 es: {prob_2}')\n",
        "print(f'La probabilidad de obtener 3 es: {prob_3}')\n",
        "print(f'La probabilidad de obtener 5 es: {prob_5}')\n",
        "\n",
        "# Graficamos el histograma\n",
        "print()\n",
        "print('Histograma:')\n",
        "x = [2, 3, 5]\n",
        "y = [prob_2, prob_3, prob_5]\n",
        "\n",
        "plt.bar(x,y)\n",
        "plt.ylabel('Probabilidad')\n",
        "plt.xlabel('Nro Obtenido')\n",
        "plt.show()\n"
      ]
    },
    {
      "cell_type": "markdown",
      "metadata": {
        "id": "f4-hugk8UhXi"
      },
      "source": [
        "## EJERCICIO 3\n",
        "\n",
        " Realizar la simulación del juego {piedra,papel , tijera} donde el resultado de esta simulación deberá ser lo que mi oponente elije. No debe considerarse la simulación de mi elección.\n",
        "\n",
        "\n",
        "\n",
        "*   Calcular la probailidad aproximada que mi oponente elija, 'piedra', 'papel', o 'tijera', en N jugadas.\n",
        "*   Realizar un grafico de barra mostrando estas probabilidad. Concluir algo sobre las probabilidades de estos resultados, cuando el número de jugadas se incrementa bastante.\n",
        "\n",
        "\n"
      ]
    },
    {
      "cell_type": "code",
      "execution_count": 50,
      "metadata": {},
      "outputs": [
        {
          "name": "stdout",
          "output_type": "stream",
          "text": [
            "Probabilidad de que elija piedra: 0.31\n",
            "Probabilidad de que elija papel: 0.32\n",
            "Probabilidad de que elija tijera: 0.37\n"
          ]
        }
      ],
      "source": [
        "# Voy a suponer que elegira al azar una de las 3 opciones, 1: piedra, 2: papel, 3: tijera\n",
        "# Pedimos la cantidad N\n",
        "n = int(input('Ingrese cantidad de jugadas: '))\n",
        "\n",
        "# Simulamos la cantidad de jugadas\n",
        "jugadas = np.random.randint(1, 4, n)\n",
        "\n",
        "# Para reutilizar, creare una funcion que dada una cantidad me realiza el calculo de prob y grafica\n",
        "\n",
        "def calcula_prob(np_array):\n",
        "\n",
        "    prob_piedra = np.sum(np_array==1)/len(np_array)\n",
        "    prob_papel = np.sum(np_array==2)/len(np_array)\n",
        "    prob_tijera = np.sum(np_array==3)/len(np_array)\n",
        "\n",
        "    print(f'Probabilidad de que elija piedra: {prob_piedra}')\n",
        "    print(f'Probabilidad de que elija papel: {prob_papel}')\n",
        "    print(f'Probabilidad de que elija tijera: {prob_tijera}')\n",
        "\n",
        "# Mostramos grafico de barras para N = 10\n",
        "x = ['Piedra', 'Papel', 'Tijera']\n",
        "y = [prob_piedra, prob_papel, prob_tijera]\n",
        "plt.bar(x, y)\n",
        "plt.xlabel('Eleccion del oponente')\n",
        "plt.ylabel('Frecuencia de eleccion')\n",
        "plt.show()"
      ]
    },
    {
      "cell_type": "markdown",
      "metadata": {},
      "source": [
        "#### Resultados Diferentes\n",
        "\n",
        "Vemos que con:\n",
        "* N = 10 las probabilidades son\n",
        "    1. Piedra = 0.6\n",
        "    2. Papel = 0,2\n",
        "    3. Tiejera = 0.2\n",
        "</br>\n",
        "\n",
        "\n",
        "* N = 100 las probabilidades son\n",
        "    1. Piedra = 0.36\n",
        "    2. Papel = 0.31\n",
        "    3. Tiejera = 0.33\n",
        "</br>\n",
        "\n",
        "\n",
        "\n",
        "* N = 1000 las probabilidades son\n",
        "    1. Piedra = 0.341\n",
        "    2. Papel = 0.317\n",
        "    3. Tiejera = 0.342\n",
        "</br>\n",
        "\n",
        "\n",
        "    \n",
        "* N = 10000 las probabilidades son\n",
        "    1. Piedra = 0.3233\n",
        "    2. Papel = 0.3397\n",
        "    3. Tiejera = 0.337\n",
        "</br>\n",
        "\n",
        "\n",
        "#### Conclusion\n",
        "Hemos comprobado que con N mayor las probabilidades se parecen mucho entre ellas, y se acercan a 0.33. Esto se debe a que si se elige al azar un numero dentro de un grupo de 3, la probabilidad de obtener alguno de ellos es 1/3.\n"
      ]
    },
    {
      "cell_type": "markdown",
      "metadata": {
        "id": "-tHDC2xFEvZ3"
      },
      "source": [
        "## EJERCICIO 4\n",
        "\n",
        "Dada la base de datos de ventas diarias durante una semana, de un negocio con 4 productos.- VER EJERCICIO PARTE 2 PRACTICO N 2- Realizar el siguiente análisis de datos para poder obtener información y planificar una estrategia de ventas.\n",
        "\n",
        "\n",
        "1.   Calcular la media en la ventas por cada producto y la mediana. Plotear estos nuevos datos en un gráfico de barra.\n",
        "2.    Calcular la media en la ventas por DÍA y la mediana. Plotear estos nuevos datos en un gráfico de TRAZO DE LINEAS.\n",
        "3.   Realizar una conclusión en función las graficas y sugerir al menos 5 estrategias de venta o inversión de manera de potenciar este negocio.\n",
        "4.   Calcular el desvio estandar de los datos por cada producto y concluir para cada producto como es su rango de variabilidad en las ventas de los mismos.Plotear los datos de ventas de la semana de los productos con mayor y menor desvio estandar y evidenciar la variabilidad indicada en el parametro *'DESVIO ESTANDAR'*\n",
        "\n"
      ]
    },
    {
      "cell_type": "markdown",
      "metadata": {
        "id": "9H8wdssAzUkH"
      },
      "source": [
        "## EJERCICIO 5  \n",
        "\n",
        "Solicitar al usuario que ingrese la cantidad N de datos a cargar. Luego generar de manera aleatoria los siguientes datos:\n",
        "\n",
        "* SEXO= 'MASCULINO', 'FEMENINO','NO ESPECIFICA'\n",
        "* EDAD= entre 28 y 60 años\n",
        "* ALTURA= entre un rango de 165.0 mts hasta 210 mts\n",
        "* PESO= entre un rango de 50  y 110 kg\n",
        "* HORAS DE DESCANSO diario= un número decimal\n",
        "* HORAS DE TRABAJO/ ESTUDIO diario= un número decimal\n",
        "* HORAS DE EJERCICIOS diario= un número decimal\n",
        "\n",
        "REalizar las siguientes indicaciones y extraer concluisiones sobre la información y la pooblación muestreada.\n",
        "\n",
        "1.   Generar un array de dimensión 2 (matriz), con todos los datos ordenados, permitiendo visualizarlos como tabla.\n",
        "2.   Suponiendo que la distribución de probabilidad de los datos muestrados de las N personas, se distribuyen en forma NORMAL. Encontrar la media en los datos de altura, peso, y horas de descanso, trabajo y ejercicios.\n",
        "3.  Graficar la muestra o distribución de los datos  de pesos , y alturas en graficas separadas. Indicar el grado de variabilidad de sus datos\n",
        "4.  Plotear de manera conjunta y encontrar si presentan correlación los datos de peso vs altura,\n",
        "5. Plotear de manera conjunta los datos de horas de descanso, estudio y ejercicio\n",
        "\n"
      ]
    },
    {
      "cell_type": "code",
      "execution_count": 2,
      "metadata": {},
      "outputs": [],
      "source": [
        "import numpy as np\n",
        "# Pedimos al usuario la cantidad\n",
        "cant = int(input('Ingrese la cantidad de datos a generar: '))\n"
      ]
    },
    {
      "cell_type": "code",
      "execution_count": 51,
      "metadata": {},
      "outputs": [
        {
          "name": "stdout",
          "output_type": "stream",
          "text": [
            "[['Sexo' 'Edad' 'Altura' 'Peso' 'Hs Descanso' 'Hs Trabajo/Estudio'\n",
            "  'Hs Ejercicios']\n",
            " ['NO ESPECIFICA' '51' '104.45920867476627' '208.87603099404961'\n",
            "  '10.08451305503772' '8.675314183701758' '9.367213609626448']\n",
            " ['MASCULINO' '52' '89.21035913851827' '177.04129861061836'\n",
            "  '1.7425114616820014' '4.12277948072334' '11.737154434757848']\n",
            " ['FEMENINO' '42' '88.41995149695013' '166.86031239484475'\n",
            "  '2.8927900031678977' '1.4457237258578104' '6.107747537465775']\n",
            " ['NO ESPECIFICA' '32' '58.35014307901035' '203.05678402270973'\n",
            "  '1.3320097583805142' '7.214671716564189' '6.598898229912434']\n",
            " ['NO ESPECIFICA' '56' '60.000658741612654' '174.7049391689554'\n",
            "  '7.931047328061869' '5.646260165719314' '3.486735172142997']\n",
            " ['MASCULINO' '37' '105.45926371639891' '197.6468709465796'\n",
            "  '8.468940350743805' '7.1405612185484015' '2.050888142542239']\n",
            " ['MASCULINO' '59' '56.449797570686876' '179.28795536322616'\n",
            "  '7.748857586087071' '10.980176665848951' '11.298233214818735']\n",
            " ['FEMENINO' '57' '51.36334128921537' '205.04715796222453'\n",
            "  '5.1343082408292755' '2.037514949993967' '4.459180234753369']\n",
            " ['MASCULINO' '41' '69.27601973266107' '173.14851444002136'\n",
            "  '7.844501902697209' '1.715245376855532' '2.446338824789044']\n",
            " ['MASCULINO' '49' '69.36967954988079' '187.7349844767065'\n",
            "  '0.307075180381974' '6.142376705154998' '11.634239311544635']\n",
            " ['NO ESPECIFICA' '59' '80.1376925402348' '170.10286593857438'\n",
            "  '9.163542893500576' '10.197256957190842' '5.2722938389911045']\n",
            " ['MASCULINO' '53' '100.861713215226' '168.63254772100092'\n",
            "  '3.4895877551541927' '9.019613833779811' '3.6768556688878062']\n",
            " ['MASCULINO' '43' '109.66783643303123' '198.6363118194396'\n",
            "  '8.187079851077145' '1.27993905255832' '7.555003199534356']\n",
            " ['MASCULINO' '55' '76.21890741435828' '166.5487907595487'\n",
            "  '7.468871960990436' '6.3217454127229775' '11.790728454061325']\n",
            " ['FEMENINO' '34' '88.26607721796401' '170.84867594504232'\n",
            "  '5.851946210636152' '8.477306610337337' '2.6002927850321575']\n",
            " ['FEMENINO' '38' '88.13727581016818' '200.3479333598153'\n",
            "  '9.744862952584231' '5.396220021579174' '7.104320538967226']\n",
            " ['FEMENINO' '35' '66.33837316346037' '196.71936874405483'\n",
            "  '5.242090902556759' '3.0233990387185736' '4.544389090487304']\n",
            " ['FEMENINO' '29' '90.79061995611985' '171.72112765313832'\n",
            "  '9.92027873645899' '0.9781772164836933' '7.872448060829289']\n",
            " ['MASCULINO' '35' '92.5177916672077' '202.18750967616114'\n",
            "  '0.39726447913563767' '4.769852226579443' '11.07404264640736']\n",
            " ['MASCULINO' '49' '91.74748959781019' '200.25257743158684'\n",
            "  '8.378850874861817' '7.267789840409769' '2.640648113163144']\n",
            " ['MASCULINO' '29' '58.91558044460781' '177.0675734899139'\n",
            "  '7.841610524398907' '6.039707453086718' '10.777754981343756']\n",
            " ['MASCULINO' '40' '96.70748052972189' '169.9720640528708'\n",
            "  '9.540536199359412' '6.080998401937748' '6.1194655474033945']\n",
            " ['NO ESPECIFICA' '51' '79.4399593321208' '208.255662480098'\n",
            "  '5.32546876322641' '8.669166415802865' '11.730815812855854']\n",
            " ['MASCULINO' '49' '62.40637178374034' '190.10334484359748'\n",
            "  '4.5631149946438345' '3.891942420415616' '1.5417333077153033']\n",
            " ['MASCULINO' '43' '106.85698454438962' '169.33347380066303'\n",
            "  '2.9982331601649475' '11.318631579831779' '4.700278411366469']\n",
            " ['MASCULINO' '42' '62.92355254939314' '205.80889575287352'\n",
            "  '10.292311005578334' '10.537768272969473' '5.822965737154842']\n",
            " ['NO ESPECIFICA' '49' '72.51714006896758' '194.77941319374904'\n",
            "  '8.805009887164823' '0.39841487101875783' '2.783993876789396']\n",
            " ['FEMENINO' '48' '91.3418679576254' '200.38096246770215'\n",
            "  '4.999950313802888' '8.309471130852081' '7.104159089493528']\n",
            " ['NO ESPECIFICA' '35' '90.19722098043331' '177.21114467480493'\n",
            "  '5.533149144389982' '4.269525757718348' '3.0228628219558256']\n",
            " ['MASCULINO' '51' '62.194220746260115' '194.6767527918134'\n",
            "  '5.413009759929589' '6.8458322962623335' '11.873481361302018']\n",
            " ['NO ESPECIFICA' '53' '91.88872663950032' '182.32967197123943'\n",
            "  '11.437442613528018' '0.35286502570900646' '2.928394119324288']\n",
            " ['NO ESPECIFICA' '46' '71.38614683438999' '179.7411570687252'\n",
            "  '4.173166244901779' '7.237858466713787' '11.610606141439794']\n",
            " ['FEMENINO' '30' '91.95762270236543' '186.282388242993'\n",
            "  '3.5679304540321994' '6.2291096867751214' '2.811940258286518']\n",
            " ['MASCULINO' '56' '100.61753527859564' '189.57328631105418'\n",
            "  '0.9342156305921443' '6.18206813380551' '1.074119539685801']\n",
            " ['NO ESPECIFICA' '59' '57.401528661855124' '202.28627910175044'\n",
            "  '11.099504292412746' '9.049202962647422' '8.534328948637368']\n",
            " ['NO ESPECIFICA' '59' '97.02465527832757' '198.55210304620852'\n",
            "  '0.8578227544394115' '10.876871978990826' '5.378744678209374']\n",
            " ['FEMENINO' '51' '50.90750480888958' '204.29946504325684'\n",
            "  '0.5957178131318139' '7.61806607224733' '10.852518153039213']\n",
            " ['NO ESPECIFICA' '34' '72.57021532602354' '173.6568209459433'\n",
            "  '8.04754778144542' '6.862641768100285' '11.091460336415098']\n",
            " ['MASCULINO' '37' '107.81348481819154' '182.46514180730756'\n",
            "  '2.304121651434953' '7.540555058917381' '6.8859645760784876']\n",
            " ['MASCULINO' '39' '54.79259508036759' '173.60566900020365'\n",
            "  '9.903253352338982' '8.4033675843426' '0.7253711318766576']\n",
            " ['MASCULINO' '37' '55.96387728226592' '182.16746086661402'\n",
            "  '7.022125346768707' '2.7613554455414637' '4.9339301465279135']\n",
            " ['MASCULINO' '51' '75.32014423407897' '188.28661170277817'\n",
            "  '9.788948866919913' '6.073240117271963' '11.233012232491378']\n",
            " ['MASCULINO' '28' '101.15930876714162' '185.33315742520898'\n",
            "  '6.897686648937302' '3.253528405840086' '4.214764996109071']\n",
            " ['NO ESPECIFICA' '43' '76.10866216797933' '183.65509483628452'\n",
            "  '4.57595830213344' '7.814274284324823' '9.177073817246994']\n",
            " ['FEMENINO' '55' '76.80090024511603' '202.4855814542771'\n",
            "  '2.2451986760757103' '2.8800452335380204' '0.37560547136200073']\n",
            " ['MASCULINO' '48' '97.20047293558478' '169.2919266792678'\n",
            "  '9.721317700103171' '9.639555931746091' '8.969128555354448']\n",
            " ['MASCULINO' '52' '57.17028084487389' '189.08713984216297'\n",
            "  '11.431574711281023' '10.19089017353843' '11.77088553823359']\n",
            " ['NO ESPECIFICA' '58' '67.05590292186159' '183.90276782962533'\n",
            "  '7.936419952309711' '11.640012280428978' '1.8848822333276476']\n",
            " ['NO ESPECIFICA' '56' '108.84871718623356' '181.70022451340577'\n",
            "  '1.907405246124863' '0.3606627669119189' '2.6444081466766285']\n",
            " ['FEMENINO' '50' '56.658611799743305' '169.03693811386637'\n",
            "  '11.464935079991005' '6.53501969071507' '10.209137416149943']\n",
            " ['NO ESPECIFICA' '30' '92.02868047762604' '198.50209141040935'\n",
            "  '3.1426790911612392' '7.515255017091343' '1.1046707473594637']\n",
            " ['MASCULINO' '46' '81.87125204686626' '178.8222980753136'\n",
            "  '0.8089235405271031' '0.44884879256905297' '6.159980638475272']\n",
            " ['FEMENINO' '53' '104.43540638191968' '173.66831297921354'\n",
            "  '3.0403891732512953' '9.711618692099272' '6.005641950377791']\n",
            " ['NO ESPECIFICA' '29' '82.29594905314369' '172.71112343593148'\n",
            "  '11.480442448040582' '8.522060166933654' '4.596934547876888']\n",
            " ['MASCULINO' '51' '98.80232190124693' '171.35908648385788'\n",
            "  '3.5690075034921716' '1.435239474256368' '4.17473409794939']\n",
            " ['NO ESPECIFICA' '36' '69.07981885514823' '205.62053164973'\n",
            "  '8.342101757698671' '4.3894844668738076' '8.226704336186863']\n",
            " ['NO ESPECIFICA' '48' '94.84340156863516' '168.5966098380701'\n",
            "  '3.9889006266030838' '11.822228660268108' '1.689762820177902']\n",
            " ['NO ESPECIFICA' '40' '87.3285540641732' '177.6080664414517'\n",
            "  '11.576335360494845' '9.644941125271664' '1.2808177627833244']\n",
            " ['NO ESPECIFICA' '54' '56.34133723192142' '171.2520433888802'\n",
            "  '7.540791054217025' '9.216963371968813' '6.464411416702571']\n",
            " ['NO ESPECIFICA' '44' '57.30456167896206' '200.98678299824363'\n",
            "  '7.257142233488791' '6.166727932479498' '3.700866148946446']\n",
            " ['NO ESPECIFICA' '44' '109.40828939815364' '189.72941611099924'\n",
            "  '11.451800215339723' '3.411061270859951' '10.096164489130354']\n",
            " ['MASCULINO' '57' '64.67745667660189' '187.7431397779345'\n",
            "  '7.933937638520616' '8.04035982272486' '6.65261453230936']\n",
            " ['FEMENINO' '59' '51.05025455739903' '204.37191228266272'\n",
            "  '4.071078162662314' '10.202842830344405' '7.603978690592761']\n",
            " ['FEMENINO' '42' '95.11502646193762' '190.47063556480637'\n",
            "  '2.76491576221073' '10.029575774976596' '2.9895583136205155']\n",
            " ['FEMENINO' '41' '65.58546498637504' '184.68188702520692'\n",
            "  '3.6232687107179293' '6.485319043938066' '1.8932446593195191']\n",
            " ['MASCULINO' '55' '108.91069407702491' '170.45492032196427'\n",
            "  '8.25698026761635' '9.973963322443304' '5.475099890578674']\n",
            " ['MASCULINO' '42' '52.575908770341634' '172.6321704487187'\n",
            "  '2.060306858087036' '11.659205369295428' '1.7348990743023296']\n",
            " ['MASCULINO' '41' '84.15358030226793' '187.73355008704223'\n",
            "  '11.774003373831363' '4.523199989686064' '0.8794783677179301']\n",
            " ['MASCULINO' '39' '62.13506147425766' '181.68776543033854'\n",
            "  '3.7279323709121153' '0.7712898350223987' '11.91151093034746']\n",
            " ['NO ESPECIFICA' '43' '85.13480370102121' '178.47368892198875'\n",
            "  '7.013237136775416' '5.16666222233402' '1.7444238284474989']\n",
            " ['NO ESPECIFICA' '41' '102.27604079837064' '195.39755849833824'\n",
            "  '5.212395126935031' '6.942211264012066' '8.831917241098482']\n",
            " ['NO ESPECIFICA' '51' '92.37793139924341' '172.85564774255698'\n",
            "  '7.105525351230464' '2.8904488661907473' '8.572740842367299']\n",
            " ['NO ESPECIFICA' '31' '79.00382006937801' '182.23324265803643'\n",
            "  '10.027240092811436' '11.359777479952943' '8.318635903134481']\n",
            " ['FEMENINO' '40' '106.07492200660714' '208.61205994021142'\n",
            "  '8.756673917499285' '4.067573201620153' '0.9397664862601345']\n",
            " ['FEMENINO' '55' '57.450200745763254' '197.96895697681322'\n",
            "  '4.99619104825174' '7.468451561803779' '0.7574691095278103']\n",
            " ['FEMENINO' '36' '106.66505625648716' '200.79303408557814'\n",
            "  '0.7387785109570468' '3.5614349896130104' '1.5575059042632593']\n",
            " ['NO ESPECIFICA' '39' '92.34961874212209' '185.8477169428309'\n",
            "  '8.523445654508212' '1.1123027740259843' '10.16774203924389']\n",
            " ['FEMENINO' '47' '69.13537875138282' '179.64741375703386'\n",
            "  '1.5719754405690565' '5.568328987026513' '5.271723164011648']\n",
            " ['NO ESPECIFICA' '32' '91.49268185060846' '168.51772962578735'\n",
            "  '1.461759385906272' '7.414560094949207' '11.311859212313166']\n",
            " ['FEMENINO' '56' '61.6134716331822' '207.0259650261171'\n",
            "  '6.857435481178329' '1.4599854147006108' '10.953748693821318']\n",
            " ['MASCULINO' '41' '106.54410499963062' '195.10443973979764'\n",
            "  '3.74126952225633' '5.068881760943124' '5.110882490173456']\n",
            " ['MASCULINO' '30' '65.93162563682857' '166.06921828212995'\n",
            "  '1.834574183953115' '5.36919333984779' '4.794317669069151']\n",
            " ['FEMENINO' '28' '101.04593479330092' '188.18275344684432'\n",
            "  '3.8894817427100348' '5.309125061997665' '10.7698894135469']\n",
            " ['MASCULINO' '60' '86.08394250679976' '178.7646128588785'\n",
            "  '11.14440439901427' '1.992407189182242' '2.5326604559962034']\n",
            " ['MASCULINO' '56' '66.20657774212096' '194.0725893368987'\n",
            "  '3.050829170013438' '9.39787438295522' '4.630198970577606']\n",
            " ['FEMENINO' '29' '93.64762716028733' '166.45088080769403'\n",
            "  '11.030597772076149' '2.038158562107486' '0.4423290597910321']\n",
            " ['FEMENINO' '30' '61.41004605899994' '192.82572443065024'\n",
            "  '7.4213858340084204' '1.2658418922961139' '9.015671728761603']\n",
            " ['NO ESPECIFICA' '35' '50.28938279409805' '190.57138814758946'\n",
            "  '3.9109557427938584' '10.673630035006006' '3.0651947873901397']\n",
            " ['FEMENINO' '43' '89.20778838293309' '188.20412377802745'\n",
            "  '6.7023050771825385' '11.951353605095274' '0.7340555877021897']\n",
            " ['FEMENINO' '48' '106.15585199126107' '193.05311056380083'\n",
            "  '9.258929109239201' '9.571485338118165' '2.9943806972931517']\n",
            " ['FEMENINO' '35' '101.11894722742076' '178.47899821405184'\n",
            "  '0.018456247062208497' '9.773616403345848' '5.751975942267874']\n",
            " ['MASCULINO' '47' '50.5411947491045' '170.61980117098108'\n",
            "  '10.442714857368323' '5.436855774856218' '9.043051038338568']\n",
            " ['FEMENINO' '57' '85.96455270526036' '168.19782869243215'\n",
            "  '5.299473687256327' '1.9605902939994753' '8.110396394805068']\n",
            " ['MASCULINO' '34' '77.00222246327239' '180.98191344910478'\n",
            "  '1.3433732494947557' '7.923510653112386' '11.630015306443134']\n",
            " ['FEMENINO' '60' '58.22280386107409' '203.2619736641953'\n",
            "  '4.594240626831324' '1.7541078440001634' '7.7764596907569725']\n",
            " ['MASCULINO' '45' '93.29530983895995' '181.05152092568616'\n",
            "  '3.6137743613640567' '7.3271269289697045' '9.649464452310262']\n",
            " ['MASCULINO' '40' '66.0863175159691' '183.10758314130334'\n",
            "  '1.99139108236683' '5.010368892234911' '0.2409605294853181']\n",
            " ['MASCULINO' '44' '101.6222642939774' '174.05140822222066'\n",
            "  '8.076212592361852' '2.280760497145794' '2.9888001007235294']\n",
            " ['NO ESPECIFICA' '45' '78.24872623740163' '197.44576095993278'\n",
            "  '6.003843225856851' '10.326692977509962' '11.624378461763637']\n",
            " ['FEMENINO' '34' '100.9982879849504' '166.72952564153346'\n",
            "  '8.643260097072591' '9.788080762996078' '2.8252226329194072']]\n"
          ]
        }
      ],
      "source": [
        "# 1 - Generamos los datos solicitados\n",
        "\n",
        "\n",
        "np_array_sexo = np.random.choice(['MASCULINO', 'FEMENINO', 'NO ESPECIFICA'], cant).reshape(cant,1)\n",
        "np_array_edad = np.random.randint(28, 61, cant).reshape(cant,1)\n",
        "np_array_altura = (np.random.rand(cant)*(210 - 165) + 165).reshape(cant,1)\n",
        "np_array_peso = (np.random.rand(cant)*(110 - 50) + 50).reshape(cant,1)\n",
        "# Para definir los numeros decimales siguientes tendre en cuenta el siguiente criterio: minimo sera 0 y maximo mitad del dia\n",
        "np_array_hs_descanso_diario =  (np.random.rand(cant) * 12).reshape(cant,1)\n",
        "np_array_hs_trabajo_estudio_diario =  (np.random.rand(cant) * 12).reshape(cant,1)\n",
        "np_array_hs_ejercicios_diario =  (np.random.rand(cant) * 12).reshape(cant,1)\n",
        "\n",
        "# Una vez estan las columnas con los datos generados, creamos la matriz\n",
        "matriz = np_array_sexo\n",
        "matriz = np.append(matriz, np_array_edad, axis=1)\n",
        "matriz = np.append(matriz, np_array_peso, axis=1)\n",
        "matriz = np.append(matriz, np_array_altura, axis=1)\n",
        "matriz = np.append(matriz, np_array_hs_descanso_diario, axis=1)\n",
        "matriz = np.append(matriz, np_array_hs_trabajo_estudio_diario, axis=1)\n",
        "matriz = np.append(matriz, np_array_hs_ejercicios_diario, axis=1)\n",
        "\n",
        "# Luego agregamos encabezado\n",
        "encabezado = ['Sexo', 'Edad', 'Altura', 'Peso', 'Hs Descanso', 'Hs Trabajo/Estudio', 'Hs Ejercicios' ]\n",
        "matriz = np.append(np.array([encabezado]), matriz,  axis=0)\n",
        "\n",
        "# Por ultimo mostramos la matriz\n",
        "print(matriz)\n",
        "\n"
      ]
    },
    {
      "cell_type": "code",
      "execution_count": 63,
      "metadata": {},
      "outputs": [
        {
          "name": "stdout",
          "output_type": "stream",
          "text": [
            "Media de altura: 80.90329927617746\n",
            "Media de peso: 185.3796124417838\n",
            "Media de Hs de Descanso: 6.032426842313644\n",
            "Media de Hs de Trabajo/Estudio: 6.249161580783814\n",
            "Media de Hs de Ejercicios: 6.009003497419262\n"
          ]
        }
      ],
      "source": [
        "# 2.   Suponiendo que la distribución de probabilidad de los datos muestrados de las N personas, se distribuyen en forma NORMAL. \n",
        "# Encontrar la media en los datos de altura, peso, y horas de descanso, trabajo y ejercicios.\n",
        "\n",
        "\n",
        "# Cargamos los resultados a una lista\n",
        "lista_resultados = []\n",
        "# Media de la altura\n",
        "lista_resultados.append(np.mean(matriz[1:, 2].astype(float)))\n",
        "# Media del peso\n",
        "lista_resultados.append(np.mean(matriz[1:, 3].astype(float)))\n",
        "# Media de las horas de descanso\n",
        "lista_resultados.append(np.mean(matriz[1:, 4].astype(float)))\n",
        "# Media de las horas de trabajo/estudio\n",
        "lista_resultados.append(np.mean(matriz[1:, 5].astype(float)))\n",
        "# Media de las horas de ejercicios\n",
        "lista_resultados.append(np.mean(matriz[1:, 6].astype(float)))\n",
        "\n",
        "# Mostramos los resultados\n",
        "print(f'Media de altura: {lista_resultados[0]}')\n",
        "print(f'Media de peso: {lista_resultados[1]}')\n",
        "print(f'Media de Hs de Descanso: {lista_resultados[2]}')\n",
        "print(f'Media de Hs de Trabajo/Estudio: {lista_resultados[3]}')\n",
        "print(f'Media de Hs de Ejercicios: {lista_resultados[4]}')"
      ]
    },
    {
      "cell_type": "code",
      "execution_count": null,
      "metadata": {},
      "outputs": [],
      "source": [
        "# 3.  Graficar la muestra o distribución de los datos  de pesos , y alturas en graficas separadas. \n",
        "# Indicar el grado de variabilidad de sus datos\n",
        "\n",
        "\n"
      ]
    },
    {
      "cell_type": "markdown",
      "metadata": {
        "id": "XncXZ9X7b7Mw"
      },
      "source": [
        "## EJERCICIO 6\n",
        "\n",
        "Se realiza una encuesta a N usuario donde se registran los siguientes datos.\n",
        "\n",
        "['DNI','GASTOS MENSUALES DE HOGAR','INGRESOS MENSUALES POR HOGAR', 'CANTIDAD DE MIEMBROS QUE VIVEN POR HOGAR','GASTO MENSUAL EN LINEA TELEFÓNICA', 'GASTO MENSUAL POR PAGO DE INTERNET' ]\n",
        "\n",
        "Realizar la simulación de la carga de datos utilizando la siguiente información adicional:\n",
        "\n",
        "\n",
        "1.   El 70 % de los encuestados son jóvenes entre 15 y 21 años, el 10% son mayores de 60 años. Sugerencia, utilizar esto para generar los DNI\n",
        "2.   Los encuestados son de la provincia de Cordoba. Además el 80 % de la población de esa provincia tiene un grupo familiar de 5 personas. Con ingresos mensuales promedio de $258.000\n",
        "2.   Cerca del 80 % de los encuestados Gastan el 90% de sus ingresos, el resto gasta el 80% de sus ingresos.Ayuda, para simular la cantidad de miembros utilizar la distribución normal.\n",
        "3.  Del gasto Total por hogar se sabe que se abona un 15 % en telefonía y un 7.8% en servicio de internet.\n",
        "\n",
        "Con la información proporcionada, realizar la simulación de las encuestas de 100 y 1000 personas.\n",
        "\n",
        "*   Calcular el valor medio y desvio estandar de los gastos mensuales, ingresos mensuales y pagos de servicios.\n",
        "*   Plotear los datos de los ingesos , y gastos en gráficos de barra por separado y evidenciar la media y desvio estandar.\n",
        "*   Calcular la proporciona de jóvenes menores a 21 encuestados. Mostrar sus datos de grupos familiares, gastos en servicios de internet y telefonía. Concluir algo en base a esta información.\n",
        "*   Realizar un histograma con el dato del grupo familiar, y concluir algo acerca de la distribución de probabilidad.\n",
        "\n",
        "\n"
      ]
    }
  ],
  "metadata": {
    "colab": {
      "provenance": []
    },
    "kernelspec": {
      "display_name": "Python 3",
      "name": "python3"
    },
    "language_info": {
      "codemirror_mode": {
        "name": "ipython",
        "version": 3
      },
      "file_extension": ".py",
      "mimetype": "text/x-python",
      "name": "python",
      "nbconvert_exporter": "python",
      "pygments_lexer": "ipython3",
      "version": "3.11.4"
    }
  },
  "nbformat": 4,
  "nbformat_minor": 0
}
