{
  "cells": [
    {
      "cell_type": "markdown",
      "metadata": {
        "id": "3EwNdi9QydGU"
      },
      "source": [
        "# TRABAJO PRACTICO N 3\n"
      ]
    },
    {
      "cell_type": "markdown",
      "metadata": {
        "id": "fhG0B7Fty79v"
      },
      "source": [
        "***TEMAS A DESARROLLAR:***\n",
        "\n",
        "Nociones de Probabilidad, simulación de procesos aleatorios, cálculo de parámetros estadisticos: Media o Valor Esperado(PROMEDIO), Mediana, Desvio Estandar. DISTRIBUCIONES DE PROABABILIDAD más frecuentes, por ejemplo la Normal.\n"
      ]
    },
    {
      "cell_type": "markdown",
      "metadata": {
        "id": "jyrQncyp-o6z"
      },
      "source": [
        "## Funciones estadísticas para análisis exploratorio de datos\n",
        "A continuación se presentan ejemplos de funciones estadísticas para el análisis exploratorio de datos utilizando NumPy:"
      ]
    },
    {
      "cell_type": "markdown",
      "metadata": {
        "id": "RY7poYIL-o6y"
      },
      "source": [
        "#### Crear array aleatorio\n",
        "En esta celda, se utiliza la función np.random.rand() de NumPy para crear un array de números aleatorios con una forma específica. Luego, se imprime el array."
      ]
    },
    {
      "cell_type": "code",
      "execution_count": 2,
      "metadata": {
        "colab": {
          "base_uri": "https://localhost:8080/"
        },
        "id": "yYNWQ6gM-o6y",
        "outputId": "37aedb1f-c950-4b07-b8cd-4823d11203bf"
      },
      "outputs": [
        {
          "name": "stdout",
          "output_type": "stream",
          "text": [
            "Array aleatorio: [[5 1 5]\n",
            " [2 4 9]\n",
            " [7 9 6]\n",
            " [8 5 1]]\n"
          ]
        }
      ],
      "source": [
        "import numpy as np\n",
        "random_array = np.random.randint(0,10, (4,3))\n",
        "print(\"Array aleatorio:\", random_array)"
      ]
    },
    {
      "cell_type": "markdown",
      "metadata": {
        "id": "VZ2loIOU-o6z"
      },
      "source": [
        "#### Media\n",
        "En esta celda, se crea un array 'array' y se utiliza la función np.mean() de NumPy para calcular la media del array. Luego, se imprime el resultado."
      ]
    },
    {
      "cell_type": "code",
      "execution_count": 3,
      "metadata": {
        "colab": {
          "base_uri": "https://localhost:8080/"
        },
        "id": "sPE9oXi4-o6z",
        "outputId": "bead0399-fb82-45dd-fc79-1bb2e8016bc6"
      },
      "outputs": [
        {
          "name": "stdout",
          "output_type": "stream",
          "text": [
            "Media: 3.0\n"
          ]
        }
      ],
      "source": [
        "array = np.array([1, 2, 3, 4, 5])\n",
        "media = np.mean(array)\n",
        "print(\"Media:\", media)"
      ]
    },
    {
      "cell_type": "markdown",
      "metadata": {
        "id": "dvEomGsS-o6z"
      },
      "source": [
        "#### Desviación estándar\n",
        "En esta celda, se crea un array 'array' y se utiliza la función np.std() de NumPy para calcular la desviación estándar del array. Luego, se imprime el resultado."
      ]
    },
    {
      "cell_type": "code",
      "execution_count": 4,
      "metadata": {
        "colab": {
          "base_uri": "https://localhost:8080/"
        },
        "id": "9V1fmwjN-o66",
        "outputId": "0ddb450c-2ec9-488c-9139-ccca4d0e4bec"
      },
      "outputs": [
        {
          "name": "stdout",
          "output_type": "stream",
          "text": [
            "Desviación estándar: 1.4142135623730951\n"
          ]
        }
      ],
      "source": [
        "array = np.array([1, 2, 3, 4, 5])\n",
        "desviacion_estandar = np.std(array)\n",
        "print(\"Desviación estándar:\", desviacion_estandar)"
      ]
    },
    {
      "cell_type": "markdown",
      "metadata": {
        "id": "y7XKPmE0-o69"
      },
      "source": [
        "#### Varianza\n",
        "La función np.var() se utiliza para calcular la varianza de un array.\n",
        "Ejemplo de uso:"
      ]
    },
    {
      "cell_type": "code",
      "execution_count": 5,
      "metadata": {
        "colab": {
          "base_uri": "https://localhost:8080/"
        },
        "id": "5e758a05",
        "outputId": "92404ab0-bbc1-4c5a-cf0f-e13a56d7b1e9"
      },
      "outputs": [
        {
          "name": "stdout",
          "output_type": "stream",
          "text": [
            "Varianza: 2.0\n"
          ]
        }
      ],
      "source": [
        "array = np.array([1, 2, 3, 4, 5])\n",
        "varianza = np.var(array)\n",
        "print(\"Varianza:\", varianza)"
      ]
    },
    {
      "cell_type": "markdown",
      "metadata": {
        "id": "_Ql_kgVk-o66"
      },
      "source": [
        "#### Valor mínimo\n",
        "En esta celda, se crea un array 'array' y se utiliza la función np.min() de NumPy para encontrar el valor mínimo del array. Luego, se imprime el resultado."
      ]
    },
    {
      "cell_type": "code",
      "execution_count": 6,
      "metadata": {
        "colab": {
          "base_uri": "https://localhost:8080/"
        },
        "id": "4Xsua_Hd-o66",
        "outputId": "efb878e7-3849-4442-ee33-9bbf92709339"
      },
      "outputs": [
        {
          "name": "stdout",
          "output_type": "stream",
          "text": [
            "Valor mínimo: [-3 -3 -1 -3 -1]\n",
            "[[ 0 -1  1  0  0]\n",
            " [ 1  2 -1  0  0]\n",
            " [-2 -3 -1 -3  2]\n",
            " [-3  0 -1  0 -1]\n",
            " [ 2  2  2  2  2]]\n"
          ]
        }
      ],
      "source": [
        "array = np.array([1, 2, 3, 4, 5])\n",
        "matriz=np.random.randint(-3,3,(5,5))\n",
        "#minimo = np.min(array)\n",
        "minimo = np.min(matriz, axis=0)\n",
        "print(\"Valor mínimo:\", minimo)\n",
        "print( matriz)\n"
      ]
    },
    {
      "cell_type": "markdown",
      "metadata": {
        "id": "GVhP0lkq-o66"
      },
      "source": [
        "#### Valor máximo\n",
        "En esta celda, se crea un array 'array' y se utiliza la función np.max() de NumPy para encontrar el valor máximo del array. Luego, se imprime el resultado."
      ]
    },
    {
      "cell_type": "code",
      "execution_count": 7,
      "metadata": {
        "colab": {
          "base_uri": "https://localhost:8080/"
        },
        "id": "83u0COEW-o66",
        "outputId": "d2f195b1-7e16-4490-be6a-f751bbfcc47a"
      },
      "outputs": [
        {
          "name": "stdout",
          "output_type": "stream",
          "text": [
            "Valor máximo: 5\n"
          ]
        }
      ],
      "source": [
        "maximo = np.max(array)\n",
        "print(\"Valor máximo:\", maximo)"
      ]
    },
    {
      "cell_type": "markdown",
      "metadata": {
        "id": "7uMUsI2_-o67"
      },
      "source": [
        "#### Gráfico de dispersión\n",
        "En esta celda, se crea un array 'x' con valores aleatorios y un array 'y' con valores aleatorios. Luego, se utiliza la biblioteca Matplotlib para trazar un gráfico de dispersión con 'x' en el eje x y 'y' en el eje y. También se agrega etiquetas y un título al gráfico."
      ]
    },
    {
      "cell_type": "code",
      "execution_count": 8,
      "metadata": {},
      "outputs": [],
      "source": [
        "import matplotlib.pyplot as plt"
      ]
    },
    {
      "cell_type": "code",
      "execution_count": 9,
      "metadata": {
        "colab": {
          "base_uri": "https://localhost:8080/",
          "height": 472
        },
        "id": "e0S5-Csz-o67",
        "outputId": "4423a1af-f9e7-48c4-dedb-1a8bccc7e91c"
      },
      "outputs": [
        {
          "data": {
            "image/png": "[encoded data removed]",
            "text/plain": [
              "<Figure size 640x480 with 1 Axes>"
            ]
          },
          "metadata": {},
          "output_type": "display_data"
        }
      ],
      "source": [
        "x = np.random.rand(100)\n",
        "y = np.random.rand(100)\n",
        "\n",
        "plt.scatter(x, y)\n",
        "plt.xlabel('x')\n",
        "plt.ylabel('y')\n",
        "plt.title('Gráfico de dispersión')\n",
        "plt.show()"
      ]
    },
    {
      "cell_type": "markdown",
      "metadata": {
        "id": "bSbKBHmZ-o67"
      },
      "source": [
        "En esta celda, se crea un array 'data' con valores aleatorios siguiendo una distribución normal. Luego, se utiliza la biblioteca Matplotlib para trazar un histograma de 'data'. También se agrega etiquetas y un título al gráfico."
      ]
    },
    {
      "cell_type": "code",
      "execution_count": 10,
      "metadata": {
        "colab": {
          "base_uri": "https://localhost:8080/",
          "height": 472
        },
        "id": "gV_7p8Lk-o68",
        "outputId": "380e4aea-dfed-4dbd-e942-5c5b35d4ee35"
      },
      "outputs": [
        {
          "data": {
            "image/png": "[encoded data removed]",
            "text/plain": [
              "<Figure size 640x480 with 1 Axes>"
            ]
          },
          "metadata": {},
          "output_type": "display_data"
        }
      ],
      "source": [
        "data = np.random.normal(0, 1, 1000)\n",
        "\n",
        "plt.hist(data, bins=30)\n",
        "plt.xlabel('Valor')\n",
        "plt.ylabel('Frecuencia')\n",
        "plt.title('Histograma')\n",
        "plt.show()"
      ]
    },
    {
      "cell_type": "markdown",
      "metadata": {
        "id": "oCGRe3n_-o68"
      },
      "source": [
        "#### Mediana\n",
        "La función np.median() se utiliza para calcular la mediana de un array.\n",
        "Ejemplo de uso:"
      ]
    },
    {
      "cell_type": "code",
      "execution_count": 11,
      "metadata": {
        "colab": {
          "base_uri": "https://localhost:8080/"
        },
        "id": "37f660c6",
        "outputId": "b08edb66-da60-48ba-fe2a-9835b46d7a70"
      },
      "outputs": [
        {
          "name": "stdout",
          "output_type": "stream",
          "text": [
            "Mediana: 3.0\n"
          ]
        }
      ],
      "source": [
        "array = np.array([1, 2, 3, 4, 5])\n",
        "mediana = np.median(array)\n",
        "print(\"Mediana:\", mediana)"
      ]
    },
    {
      "cell_type": "markdown",
      "metadata": {
        "id": "Dlkgy0Bj-o69"
      },
      "source": [
        "#### Percentiles\n",
        "La función np.percentile() se utiliza para calcular los percentiles de un array.\n",
        "Ejemplo de uso:"
      ]
    },
    {
      "cell_type": "code",
      "execution_count": 12,
      "metadata": {
        "colab": {
          "base_uri": "https://localhost:8080/"
        },
        "id": "7ffea41c",
        "outputId": "304f4a67-7123-4c89-f934-521eada82522"
      },
      "outputs": [
        {
          "name": "stdout",
          "output_type": "stream",
          "text": [
            "Percentil 50: 3.0\n"
          ]
        }
      ],
      "source": [
        "array = np.array([1, 2, 3, 4, 5])\n",
        "percentil_50 = np.percentile(array, 50)\n",
        "print(\"Percentil 50:\", percentil_50)"
      ]
    },
    {
      "cell_type": "markdown",
      "metadata": {
        "id": "gwjQOi8Kyndy"
      },
      "source": [
        "\n",
        "# EJEMPLOS Y APLICACIÓNES\n"
      ]
    },
    {
      "cell_type": "markdown",
      "metadata": {
        "id": "SPfckR9xRvdf"
      },
      "source": [
        "***APLICACIÓN DE PROBABILIDAD***\n",
        "\n",
        "Se Realiza el lanzamiento de un dado EQUILIBRADO JUSTO, de manera reiterada con las mismas condiciones, y se anotan sus resultados= CARA O CRUZ.\n",
        "\n",
        "Se le pide al usuario que defina la cantidad N de lanzamientos y se calcula su frecuencia relativa= 'PROBABILIDAD' de obtener cara o cruz. Se obtiene los siguientes resultados:"
      ]
    },
    {
      "cell_type": "code",
      "execution_count": 13,
      "metadata": {
        "colab": {
          "base_uri": "https://localhost:8080/"
        },
        "id": "4RkcdDGQyPv_",
        "outputId": "9603abb9-003d-42e7-ccec-f1480c8d8648"
      },
      "outputs": [],
      "source": [
        "import numpy as np\n",
        "n=int(input('ingrese la cantidad de simulación o lanzamientos'))\n",
        "\n",
        "#========= FORMA 1 DE SIMULAR LANZAMIENTO DE UN DADO============\n",
        "dado=[]\n",
        "cara=0\n",
        "cruz=0\n",
        "for i in range(n):\n",
        "  dado.append(np.random.rand(1))\n",
        "  dado1=np.array(dado)\n",
        "  if dado1[i]<0.5:\n",
        "    #print('salio cara')\n",
        "    #print(dado[i])\n",
        "    cara +=1\n",
        "  else:\n",
        "    #print('salio cruz')\n",
        "    #print(dado[i])\n",
        "    cruz +=1\n"
      ]
    },
    {
      "cell_type": "code",
      "execution_count": 14,
      "metadata": {
        "colab": {
          "base_uri": "https://localhost:8080/"
        },
        "id": "RvOMR4nSD4wo",
        "outputId": "b2cd70ca-1f07-440e-bbe1-4e2d5ad2f409"
      },
      "outputs": [
        {
          "name": "stdout",
          "output_type": "stream",
          "text": [
            "la probabilidad aproximada en 100 lanzamientos de sacar CARA es: 0.49\n",
            "la probabilidad aproximada en 100 lanzamientos de sacar CRUZ es: 0.51\n"
          ]
        }
      ],
      "source": [
        "#  mostrar la probailidad frecuencista de el lanzamiento de un dado\n",
        "prom_cara=cara/n\n",
        "prom_cruz=cruz/n\n",
        "print('la probabilidad aproximada en '+str(n)+' lanzamientos de sacar CARA es:', prom_cara)\n",
        "print('la probabilidad aproximada en '+str(n)+' lanzamientos de sacar CRUZ es:', prom_cruz)"
      ]
    },
    {
      "cell_type": "code",
      "execution_count": 15,
      "metadata": {
        "colab": {
          "base_uri": "https://localhost:8080/"
        },
        "id": "5KY2nymYFAy2",
        "outputId": "737d4f4e-a574-4d44-f532-7462b0d8ad63"
      },
      "outputs": [
        {
          "name": "stdout",
          "output_type": "stream",
          "text": [
            "Probabilidad de cara: 0.58\n",
            "Probabilidad de sello: 0.42\n"
          ]
        }
      ],
      "source": [
        "#========== FORMA COMPACTA DE SIMULAR USANDO NUMPY===========\n",
        "m=int(input('ingrese la cantidad de simulación o lanzamientos'))\n",
        "lanzamientos = np.random.randint(0, 2, m)\n",
        "\n",
        "# Calcular las probabilidades\n",
        "\n",
        "probabilidad_cara = np.sum(lanzamientos ==0 ) / len(lanzamientos)\n",
        "probabilidad_sello = np.sum(lanzamientos== 1) / len(lanzamientos)\n",
        "\n",
        "print(f\"Probabilidad de cara: {probabilidad_cara:.2f}\")\n",
        "print(f\"Probabilidad de sello: {probabilidad_sello:.2f}\")"
      ]
    },
    {
      "cell_type": "code",
      "execution_count": 16,
      "metadata": {
        "colab": {
          "base_uri": "https://localhost:8080/",
          "height": 472
        },
        "id": "-llwABNxopr8",
        "outputId": "3e7bb8b7-6733-4819-a1bf-bf0897a6a6a3"
      },
      "outputs": [
        {
          "data": {
            "image/png": "[encoded data removed]",
            "text/plain": [
              "<Figure size 640x480 with 1 Axes>"
            ]
          },
          "metadata": {},
          "output_type": "display_data"
        }
      ],
      "source": [
        "import matplotlib.pyplot as plt\n",
        "x=np.array(range(2))\n",
        "y=np.array([probabilidad_cara, probabilidad_sello])\n",
        "\n",
        "plt.bar(x,y)\n",
        "plt.xlabel('Opción')\n",
        "plt.ylabel('Frecuencia relativa')\n",
        "plt.title('Histograma del lanzamiento de una moneda equilibrada')\n",
        "plt.show()"
      ]
    },
    {
      "cell_type": "markdown",
      "metadata": {
        "id": "BQD9uyGpc2Q0"
      },
      "source": [
        "# EJERCICIOS"
      ]
    },
    {
      "cell_type": "markdown",
      "metadata": {
        "id": "oaBQ-ToZIASA"
      },
      "source": [
        "##***EJERCICIO 1***\n",
        "\n",
        "Simular el lanzamiento de un dado eqilibrado de 6 caras.\n",
        "\n",
        "\n",
        "*   Mostrar la probabilida aproximada de obtener el número 2, 3 y 5\n",
        "*   Graficar el histograma de las probabilidades\n",
        "\n"
      ]
    },
    {
      "cell_type": "code",
      "execution_count": 33,
      "metadata": {},
      "outputs": [
        {
          "name": "stdout",
          "output_type": "stream",
          "text": [
            "Se tira 50 veces el dado\n",
            "La probabilidad de obtener 2 es: 0.24\n",
            "La probabilidad de obtener 3 es: 0.08\n",
            "La probabilidad de obtener 5 es: 0.14\n",
            "\n",
            "Histograma:\n"
          ]
        },
        {
          "data": {
            "image/png": "[encoded data removed]",
            "text/plain": [
              "<Figure size 640x480 with 1 Axes>"
            ]
          },
          "metadata": {},
          "output_type": "display_data"
        }
      ],
      "source": [
        "# simulamos las tiradas de un dado\n",
        "cant = int(input('Ingrese cantidad de tiradas: '))\n",
        "\n",
        "# Se simula cant tiradas del dado\n",
        "tiradas = np.random.randint(1, 7, cant)\n",
        "print(f'Se tira {cant} veces el dado')\n",
        "\n",
        "# Calculamos las probabilidades\n",
        "prob_2 = np.sum(tiradas==2)/len(tiradas)\n",
        "prob_3 = np.sum(tiradas==3)/len(tiradas)\n",
        "prob_5 = np.sum(tiradas==5)/len(tiradas)\n",
        "\n",
        "print(f'La probabilidad de obtener 2 es: {prob_2}')\n",
        "print(f'La probabilidad de obtener 3 es: {prob_3}')\n",
        "print(f'La probabilidad de obtener 5 es: {prob_5}')\n",
        "\n",
        "# Graficamos el histograma\n",
        "print()\n",
        "print('Histograma:')\n",
        "x = [2, 3, 5]\n",
        "y = [prob_2, prob_3, prob_5]\n",
        "\n",
        "plt.bar(x,y)\n",
        "plt.ylabel('Probabilidad')\n",
        "plt.xlabel('Nro Obtenido')\n",
        "plt.show()\n"
      ]
    },
    {
      "cell_type": "markdown",
      "metadata": {
        "id": "YXLKo8SqTYe1"
      },
      "source": [
        "## ***EJERCICIO 2***\n",
        "\n",
        "Simular el lanzamiento de un dado NO eqilibrado o cargado de 6 caras, de manera que las chances o probabilidades de salir 1 o 2 sean el doble de obtener otro resultado (3,4,5 o 6)\n",
        "\n",
        "\n",
        "*   Mostrar la probabilida aproximada de obtener el número 2, 3 y 5\n",
        "*   Graficar el histograma de las probabilidades\n",
        "\n"
      ]
    },
    {
      "cell_type": "code",
      "execution_count": 39,
      "metadata": {},
      "outputs": [
        {
          "name": "stdout",
          "output_type": "stream",
          "text": [
            "Se tira 1000 veces el dado NO equilibrado\n",
            "La probabilidad de obtener 2 es: 0.239\n",
            "La probabilidad de obtener 3 es: 0.111\n",
            "La probabilidad de obtener 5 es: 0.127\n",
            "\n",
            "Histograma:\n"
          ]
        },
        {
          "data": {
            "image/png": "[encoded data removed]",
            "text/plain": [
              "<Figure size 640x480 with 1 Axes>"
            ]
          },
          "metadata": {},
          "output_type": "display_data"
        }
      ],
      "source": [
        "# La probabilidad teorica nos dice que p = 1/6 en un dado equilibrado, pero en un dado NO equilibrado tendriamos que p = 1/8 y p = 1/4 segun sea 1,2 y 3,4,5,6 respectivamente\n",
        "# Pero en la practica simular una tirada de un dado NO equilibrado segun lo que investigue lo obtenemos mediante choice\n",
        "\n",
        "# Nuevamente ingresamos la cantidad\n",
        "cant = int(input('Ingrese la cantidad de tiradas: '))\n",
        "\n",
        "posibles_resultados = range(1,7)\n",
        "probabilidades = [0.25, 0.25, 0.125, 0.125, 0.125, 0.125]\n",
        "\n",
        "tiradas = np.random.choice(posibles_resultados, cant, p=probabilidades)\n",
        "\n",
        "# Repetimos el proceso del Ejercicio 1\n",
        "print(f'Se tira {cant} veces el dado NO equilibrado')\n",
        "\n",
        "# Calculamos las probabilidades\n",
        "prob_2 = np.sum(tiradas==2)/len(tiradas)\n",
        "prob_3 = np.sum(tiradas==3)/len(tiradas)\n",
        "prob_5 = np.sum(tiradas==5)/len(tiradas)\n",
        "\n",
        "print(f'La probabilidad de obtener 2 es: {prob_2}')\n",
        "print(f'La probabilidad de obtener 3 es: {prob_3}')\n",
        "print(f'La probabilidad de obtener 5 es: {prob_5}')\n",
        "\n",
        "# Graficamos el histograma\n",
        "print()\n",
        "print('Histograma:')\n",
        "x = [2, 3, 5]\n",
        "y = [prob_2, prob_3, prob_5]\n",
        "\n",
        "plt.bar(x,y)\n",
        "plt.ylabel('Probabilidad')\n",
        "plt.xlabel('Nro Obtenido')\n",
        "plt.show()\n"
      ]
    },
    {
      "cell_type": "markdown",
      "metadata": {
        "id": "f4-hugk8UhXi"
      },
      "source": [
        "## EJERCICIO 3\n",
        "\n",
        " Realizar la simulación del juego {piedra,papel , tijera} donde el resultado de esta simulación deberá ser lo que mi oponente elije. No debe considerarse la simulación de mi elección.\n",
        "\n",
        "\n",
        "\n",
        "*   Calcular la probailidad aproximada que mi oponente elija, 'piedra', 'papel', o 'tijera', en N jugadas.\n",
        "*   Realizar un grafico de barra mostrando estas probabilidad. Concluir algo sobre las probabilidades de estos resultados, cuando el número de jugadas se incrementa bastante.\n",
        "\n",
        "\n"
      ]
    },
    {
      "cell_type": "code",
      "execution_count": 50,
      "metadata": {},
      "outputs": [
        {
          "name": "stdout",
          "output_type": "stream",
          "text": [
            "Probabilidad de que elija piedra: 0.31\n",
            "Probabilidad de que elija papel: 0.32\n",
            "Probabilidad de que elija tijera: 0.37\n"
          ]
        }
      ],
      "source": [
        "# Voy a suponer que elegira al azar una de las 3 opciones, 1: piedra, 2: papel, 3: tijera\n",
        "# Pedimos la cantidad N\n",
        "n = int(input('Ingrese cantidad de jugadas: '))\n",
        "\n",
        "# Simulamos la cantidad de jugadas\n",
        "jugadas = np.random.randint(1, 4, n)\n",
        "\n",
        "# Para reutilizar, creare una funcion que dada una cantidad me realiza el calculo de prob y grafica\n",
        "\n",
        "def calcula_prob(np_array):\n",
        "\n",
        "    prob_piedra = np.sum(np_array==1)/len(np_array)\n",
        "    prob_papel = np.sum(np_array==2)/len(np_array)\n",
        "    prob_tijera = np.sum(np_array==3)/len(np_array)\n",
        "\n",
        "    print(f'Probabilidad de que elija piedra: {prob_piedra}')\n",
        "    print(f'Probabilidad de que elija papel: {prob_papel}')\n",
        "    print(f'Probabilidad de que elija tijera: {prob_tijera}')\n",
        "\n",
        "# Mostramos grafico de barras para N = 10\n",
        "x = ['Piedra', 'Papel', 'Tijera']\n",
        "y = [prob_piedra, prob_papel, prob_tijera]\n",
        "plt.bar(x, y)\n",
        "plt.xlabel('Eleccion del oponente')\n",
        "plt.ylabel('Frecuencia de eleccion')\n",
        "plt.show()"
      ]
    },
    {
      "cell_type": "markdown",
      "metadata": {},
      "source": [
        "#### Resultados Diferentes\n",
        "\n",
        "Vemos que con:\n",
        "* N = 10 las probabilidades son\n",
        "    1. Piedra = 0.6\n",
        "    2. Papel = 0,2\n",
        "    3. Tiejera = 0.2\n",
        "</br>\n",
        "\n",
        "\n",
        "* N = 100 las probabilidades son\n",
        "    1. Piedra = 0.36\n",
        "    2. Papel = 0.31\n",
        "    3. Tiejera = 0.33\n",
        "</br>\n",
        "\n",
        "\n",
        "\n",
        "* N = 1000 las probabilidades son\n",
        "    1. Piedra = 0.341\n",
        "    2. Papel = 0.317\n",
        "    3. Tiejera = 0.342\n",
        "</br>\n",
        "\n",
        "\n",
        "    \n",
        "* N = 10000 las probabilidades son\n",
        "    1. Piedra = 0.3233\n",
        "    2. Papel = 0.3397\n",
        "    3. Tiejera = 0.337\n",
        "</br>\n",
        "\n",
        "\n",
        "#### Conclusion\n",
        "Hemos comprobado que con un N mayor, las probabilidades se parecen mucho entre ellas, y se acercan a 0.33. Esto se debe a que si se elige al azar un numero dentro de un grupo de 3, la probabilidad de obtener alguno de ellos es 1/3.\n"
      ]
    },
    {
      "cell_type": "markdown",
      "metadata": {
        "id": "-tHDC2xFEvZ3"
      },
      "source": [
        "## EJERCICIO 4\n",
        "\n",
        "Dada la base de datos de ventas diarias durante una semana, de un negocio con 4 productos.- VER EJERCICIO PARTE 2 PRACTICO N 2- Realizar el siguiente análisis de datos para poder obtener información y planificar una estrategia de ventas.\n",
        "\n",
        "\n",
        "1.   Calcular la media en la ventas por cada producto y la mediana. Plotear estos nuevos datos en un gráfico de barra.\n",
        "2.    Calcular la media en la ventas por DÍA y la mediana. Plotear estos nuevos datos en un gráfico de TRAZO DE LINEAS.\n",
        "3.   Realizar una conclusión en función las graficas y sugerir al menos 5 estrategias de venta o inversión de manera de potenciar este negocio.\n",
        "4.   Calcular el desvio estandar de los datos por cada producto y concluir para cada producto como es su rango de variabilidad en las ventas de los mismos.Plotear los datos de ventas de la semana de los productos con mayor y menor desvio estandar y evidenciar la variabilidad indicada en el parametro *'DESVIO ESTANDAR'*\n",
        "\n"
      ]
    },
    {
      "cell_type": "code",
      "execution_count": 88,
      "metadata": {},
      "outputs": [],
      "source": [
        "# Trajimos la BD del TP2\n",
        "ventas_diarias = np.array(\n",
        "    #Lun,Mar,Mie,Jue,Vie,Sab,Dom\n",
        "    [[20, 15, 25, 30, 18, 22, 24],  #Producto A\n",
        "    [12, 20, 14, 8, 15, 18, 16],    #Producto B\n",
        "    [35, 28, 32, 30, 26, 24, 30],   #Producto C\n",
        "    [40, 38, 45, 42, 39, 41, 37]    #Producto D\n",
        "    ]\n",
        ")"
      ]
    },
    {
      "cell_type": "code",
      "execution_count": 99,
      "metadata": {},
      "outputs": [
        {
          "data": {
            "image/png": "[encoded data removed]",
            "text/plain": [
              "<Figure size 640x480 with 2 Axes>"
            ]
          },
          "metadata": {},
          "output_type": "display_data"
        },
        {
          "data": {
            "image/png": "[encoded data removed]",
            "text/plain": [
              "<Figure size 640x480 with 2 Axes>"
            ]
          },
          "metadata": {},
          "output_type": "display_data"
        },
        {
          "data": {
            "image/png": "[encoded data removed]",
            "text/plain": [
              "<Figure size 640x480 with 2 Axes>"
            ]
          },
          "metadata": {},
          "output_type": "display_data"
        }
      ],
      "source": [
        "# 1.   Calcular la media en la ventas por cada producto y la mediana. Plotear estos nuevos datos en un gráfico de barra.\n",
        "\n",
        "# Media y mediana del Producto A\n",
        "ventas_producto_a = ventas_diarias[0]\n",
        "media_a = np.mean(ventas_diarias[0])\n",
        "mediana_a = np.median(ventas_diarias[0])\n",
        "\n",
        "# Media y mediana del Producto B\n",
        "media_b = np.mean(ventas_diarias[1])\n",
        "mediana_b = np.median(ventas_diarias[1])\n",
        "\n",
        "# Media y mediana del Producto C\n",
        "media_c = np.mean(ventas_diarias[2])\n",
        "mediana_c = np.median(ventas_diarias[2])\n",
        "\n",
        "# Media y mediana del Producto D\n",
        "media_d = np.mean(ventas_diarias[3])\n",
        "mediana_d = np.median(ventas_diarias[3])\n",
        "\n",
        "\n",
        "# Graficamos los datos del Producto A\n",
        "y = np.random.rand()\n",
        "plt.subplot(1, 2, 1)\n",
        "plt.hist(ventas_producto_a, edgecolor='black')\n",
        "plt.scatter(media_a,0, color='r')\n",
        "plt.subplot(1, 2, 2)\n",
        "plt.hist(ventas_producto_a, edgecolor='black')\n",
        "plt.scatter([media_a, mediana_a],[0, 0], color='r')\n",
        "\n",
        "plt.subplot(1, 2, 1)\n",
        "plt.subplot(1, 2, 2)\n",
        "plt.show()\n",
        "\n",
        "plt.subplot(1, 2, 1)\n",
        "plt.subplot(1, 2, 2)\n",
        "plt.show()\n",
        "\n",
        "plt.subplot(1, 2, 1)\n",
        "plt.subplot(1, 2, 2)\n",
        "plt.show()\n"
      ]
    },
    {
      "cell_type": "markdown",
      "metadata": {
        "id": "9H8wdssAzUkH"
      },
      "source": [
        "## EJERCICIO 5  \n",
        "\n",
        "Solicitar al usuario que ingrese la cantidad N de datos a cargar. Luego generar de manera aleatoria los siguientes datos:\n",
        "\n",
        "* SEXO= 'MASCULINO', 'FEMENINO','NO ESPECIFICA'\n",
        "* EDAD= entre 28 y 60 años\n",
        "* ALTURA= entre un rango de 165.0 mts hasta 210 mts\n",
        "* PESO= entre un rango de 50  y 110 kg\n",
        "* HORAS DE DESCANSO diario= un número decimal\n",
        "* HORAS DE TRABAJO/ ESTUDIO diario= un número decimal\n",
        "* HORAS DE EJERCICIOS diario= un número decimal\n",
        "\n",
        "REalizar las siguientes indicaciones y extraer concluisiones sobre la información y la pooblación muestreada.\n",
        "\n",
        "1.   Generar un array de dimensión 2 (matriz), con todos los datos ordenados, permitiendo visualizarlos como tabla.\n",
        "2.   Suponiendo que la distribución de probabilidad de los datos muestrados de las N personas, se distribuyen en forma NORMAL. Encontrar la media en los datos de altura, peso, y horas de descanso, trabajo y ejercicios.\n",
        "3.  Graficar la muestra o distribución de los datos  de pesos , y alturas en graficas separadas. Indicar el grado de variabilidad de sus datos\n",
        "4.  Plotear de manera conjunta y encontrar si presentan correlación los datos de peso vs altura,\n",
        "5. Plotear de manera conjunta los datos de horas de descanso, estudio y ejercicio\n",
        "\n"
      ]
    },
    {
      "cell_type": "code",
      "execution_count": 1,
      "metadata": {},
      "outputs": [],
      "source": [
        "import numpy as np\n",
        "# Pedimos al usuario la cantidad\n",
        "cant = int(input('Ingrese la cantidad de datos a generar: '))\n"
      ]
    },
    {
      "cell_type": "code",
      "execution_count": 2,
      "metadata": {},
      "outputs": [
        {
          "name": "stdout",
          "output_type": "stream",
          "text": [
            "[['Sexo' 'Edad' 'Altura' 'Peso' 'Hs Descanso' 'Hs Trabajo/Estudio'\n",
            "  'Hs Ejercicios']\n",
            " ['NO ESPECIFICA' '42' '104.58' '166.59' '10.77' '3.03' '4.39']\n",
            " ['NO ESPECIFICA' '34' '91.92' '206.02' '0.78' '11.58' '1.87']\n",
            " ['NO ESPECIFICA' '52' '97.48' '201.56' '4.8' '8.28' '4.63']\n",
            " ['FEMENINO' '45' '91.01' '197.07' '4.31' '8.44' '4.82']\n",
            " ['NO ESPECIFICA' '35' '100.26' '193.31' '5.82' '6.21' '2.44']\n",
            " ['NO ESPECIFICA' '45' '83.01' '200.67' '9.02' '2.86' '11.45']\n",
            " ['NO ESPECIFICA' '44' '80.69' '207.62' '3.07' '5.37' '6.23']\n",
            " ['MASCULINO' '53' '54.2' '173.85' '3.19' '4.63' '0.65']\n",
            " ['NO ESPECIFICA' '47' '57.71' '176.6' '9.62' '4.26' '10.06']\n",
            " ['MASCULINO' '50' '52.76' '175.93' '10.0' '11.16' '6.19']\n",
            " ['NO ESPECIFICA' '41' '86.15' '168.7' '3.21' '10.28' '9.9']\n",
            " ['MASCULINO' '48' '108.03' '175.23' '7.95' '10.3' '3.94']\n",
            " ['FEMENINO' '42' '77.47' '177.22' '3.79' '6.24' '0.98']\n",
            " ['MASCULINO' '39' '95.04' '185.02' '0.62' '1.22' '1.34']\n",
            " ['MASCULINO' '56' '68.17' '186.26' '5.22' '5.2' '7.19']\n",
            " ['MASCULINO' '37' '78.75' '185.9' '9.61' '10.74' '8.72']\n",
            " ['NO ESPECIFICA' '35' '50.49' '170.22' '7.29' '8.82' '11.84']\n",
            " ['NO ESPECIFICA' '34' '93.62' '174.18' '7.63' '11.04' '6.93']\n",
            " ['NO ESPECIFICA' '36' '59.95' '170.98' '10.68' '9.62' '11.75']\n",
            " ['NO ESPECIFICA' '34' '52.12' '205.77' '0.37' '4.56' '4.89']\n",
            " ['MASCULINO' '57' '58.32' '207.81' '5.74' '8.33' '5.23']\n",
            " ['MASCULINO' '53' '109.81' '202.77' '7.97' '2.35' '0.26']\n",
            " ['MASCULINO' '44' '82.28' '195.18' '1.63' '2.62' '9.3']\n",
            " ['FEMENINO' '59' '75.14' '194.09' '5.45' '5.83' '10.32']\n",
            " ['FEMENINO' '50' '88.93' '189.35' '9.14' '7.82' '6.03']\n",
            " ['MASCULINO' '29' '58.89' '171.77' '2.67' '2.34' '9.59']\n",
            " ['FEMENINO' '34' '97.13' '204.79' '7.25' '10.03' '0.97']\n",
            " ['NO ESPECIFICA' '33' '56.63' '202.36' '6.95' '3.07' '10.69']\n",
            " ['MASCULINO' '39' '57.9' '192.61' '0.78' '11.87' '8.03']\n",
            " ['MASCULINO' '41' '51.04' '183.82' '7.9' '6.56' '4.79']\n",
            " ['MASCULINO' '49' '106.52' '193.14' '3.44' '10.69' '11.13']\n",
            " ['NO ESPECIFICA' '49' '51.15' '204.88' '3.82' '1.08' '7.72']\n",
            " ['MASCULINO' '29' '65.03' '205.85' '9.07' '3.54' '6.38']\n",
            " ['NO ESPECIFICA' '60' '64.21' '175.43' '10.61' '0.13' '2.43']\n",
            " ['NO ESPECIFICA' '52' '67.96' '175.03' '2.68' '8.71' '1.34']\n",
            " ['FEMENINO' '29' '75.38' '181.06' '8.27' '6.24' '3.67']\n",
            " ['FEMENINO' '40' '98.31' '179.46' '10.48' '11.77' '2.16']\n",
            " ['FEMENINO' '48' '66.68' '192.34' '6.76' '0.38' '7.92']\n",
            " ['NO ESPECIFICA' '44' '104.32' '194.91' '0.25' '0.8' '6.21']\n",
            " ['MASCULINO' '59' '57.19' '176.93' '8.47' '6.04' '7.23']\n",
            " ['NO ESPECIFICA' '48' '68.48' '166.63' '5.84' '6.24' '9.93']\n",
            " ['FEMENINO' '32' '88.54' '167.84' '0.64' '10.26' '2.76']\n",
            " ['NO ESPECIFICA' '39' '60.91' '189.42' '9.78' '1.82' '8.12']\n",
            " ['NO ESPECIFICA' '57' '56.8' '208.26' '9.62' '10.92' '1.26']\n",
            " ['FEMENINO' '60' '64.96' '185.51' '10.62' '7.56' '3.97']\n",
            " ['MASCULINO' '31' '73.51' '166.12' '2.84' '4.27' '0.72']\n",
            " ['FEMENINO' '59' '73.1' '201.42' '3.71' '10.1' '3.69']\n",
            " ['NO ESPECIFICA' '43' '98.98' '208.44' '1.48' '4.25' '2.41']\n",
            " ['NO ESPECIFICA' '36' '108.61' '208.29' '0.68' '10.01' '5.23']\n",
            " ['FEMENINO' '40' '80.23' '207.15' '6.89' '8.68' '7.66']]\n"
          ]
        }
      ],
      "source": [
        "# 1 - Generamos los datos solicitados\n",
        "\n",
        "\n",
        "np_array_sexo = np.random.choice(['MASCULINO', 'FEMENINO', 'NO ESPECIFICA'], cant).reshape(cant,1)\n",
        "np_array_edad = np.random.randint(28, 61, cant).reshape(cant,1)\n",
        "np_array_altura = (np.random.rand(cant)*(210 - 165) + 165).reshape(cant,1)\n",
        "np_array_peso = (np.random.rand(cant)*(110 - 50) + 50).reshape(cant,1)\n",
        "# Para definir los numeros decimales siguientes tendre en cuenta el siguiente criterio: minimo sera 0 y maximo mitad del dia\n",
        "np_array_hs_descanso_diario =  (np.random.rand(cant) * 12).reshape(cant,1)\n",
        "np_array_hs_trabajo_estudio_diario =  (np.random.rand(cant) * 12).reshape(cant,1)\n",
        "np_array_hs_ejercicios_diario =  (np.random.rand(cant) * 12).reshape(cant,1)\n",
        "\n",
        "\n",
        "# Pudimos observar que los decimales generados tenian muchos numeros luego del punto decimal, por lo que redondearemos a 2 digitos decimales\n",
        "np_array_altura = np.round(np_array_altura, 2)\n",
        "np_array_peso = np.round(np_array_peso, 2)\n",
        "np_array_hs_descanso_diario = np.round(np_array_hs_descanso_diario, 2)\n",
        "np_array_hs_trabajo_estudio_diario = np.round(np_array_hs_trabajo_estudio_diario, 2)\n",
        "np_array_hs_ejercicios_diario = np.round(np_array_hs_ejercicios_diario, 2)\n",
        "\n",
        "# Una vez estan las columnas con los datos generados, creamos la matriz\n",
        "matriz = np_array_sexo\n",
        "matriz = np.append(matriz, np_array_edad, axis=1)\n",
        "matriz = np.append(matriz, np_array_peso, axis=1)\n",
        "matriz = np.append(matriz, np_array_altura, axis=1)\n",
        "matriz = np.append(matriz, np_array_hs_descanso_diario, axis=1)\n",
        "matriz = np.append(matriz, np_array_hs_trabajo_estudio_diario, axis=1)\n",
        "matriz = np.append(matriz, np_array_hs_ejercicios_diario, axis=1)\n",
        "\n",
        "# Luego agregamos encabezado\n",
        "encabezado = ['Sexo', 'Edad', 'Altura', 'Peso', 'Hs Descanso', 'Hs Trabajo/Estudio', 'Hs Ejercicios' ]\n",
        "matriz = np.append(np.array([encabezado]), matriz,  axis=0)\n",
        "\n",
        "# Por ultimo mostramos la matriz\n",
        "print(matriz)\n",
        "\n"
      ]
    },
    {
      "cell_type": "code",
      "execution_count": 3,
      "metadata": {},
      "outputs": [
        {
          "name": "stdout",
          "output_type": "stream",
          "text": [
            "Media de altura: 77.01\n",
            "Media de peso: 188.63\n",
            "Media de Hs de Descanso: 5.78\n",
            "Media de Hs de Trabajo/Estudio: 6.56\n",
            "Media de Hs de Ejercicios: 5.75\n"
          ]
        }
      ],
      "source": [
        "# 2.   Suponiendo que la distribución de probabilidad de los datos muestrados de las N personas, se distribuyen en forma NORMAL. \n",
        "# Encontrar la media en los datos de altura, peso, y horas de descanso, trabajo y ejercicios.\n",
        "\n",
        "\n",
        "# Cargamos los resultados a una lista\n",
        "lista_resultados = []\n",
        "# Media de la altura\n",
        "lista_resultados.append(round(np.mean(matriz[1:, 2].astype(float)), 2))\n",
        "# Media del peso\n",
        "lista_resultados.append(round(np.mean(matriz[1:, 3].astype(float)), 2))\n",
        "# Media de las horas de descanso\n",
        "lista_resultados.append(round(np.mean(matriz[1:, 4].astype(float)), 2))\n",
        "# Media de las horas de trabajo/estudio\n",
        "lista_resultados.append(round(np.mean(matriz[1:, 5].astype(float)), 2))\n",
        "# Media de las horas de ejercicios\n",
        "lista_resultados.append(round(np.mean(matriz[1:, 6].astype(float)), 2))\n",
        "\n",
        "# Mostramos los resultados\n",
        "print(f'Media de altura: {lista_resultados[0]}')\n",
        "print(f'Media de peso: {lista_resultados[1]}')\n",
        "print(f'Media de Hs de Descanso: {lista_resultados[2]}')\n",
        "print(f'Media de Hs de Trabajo/Estudio: {lista_resultados[3]}')\n",
        "print(f'Media de Hs de Ejercicios: {lista_resultados[4]}')"
      ]
    },
    {
      "cell_type": "code",
      "execution_count": 4,
      "metadata": {},
      "outputs": [],
      "source": [
        "# Utilizaremos pandas, para relaizar el pto 3, por lo que lo importamos\n",
        "import matplotlib.pyplot as plt\n",
        "import pandas as pd"
      ]
    },
    {
      "cell_type": "code",
      "execution_count": 14,
      "metadata": {},
      "outputs": [
        {
          "data": {
            "image/png": "[encoded data removed]",
            "text/plain": [
              "<Figure size 640x480 with 2 Axes>"
            ]
          },
          "metadata": {},
          "output_type": "display_data"
        }
      ],
      "source": [
        "# 3 .  Graficar la muestra o distribución de los datos  de pesos , y alturas en graficas separadas. \n",
        "# Indicar el grado de variabilidad de sus datos\n",
        "\n",
        "df = pd.DataFrame(matriz[1:,2:4].astype(float), columns=['Alturas','Pesos'])\n",
        "\n",
        "plt.subplot(1, 2, 1)\n",
        "\n",
        "plt.hist(df['Alturas'], edgecolor='black')\n",
        "plt.xlabel('Alturas')\n",
        "plt.ylabel('Frecuencia Absoluta')\n",
        "\n",
        "plt.subplot(1, 2, 2)\n",
        "\n",
        "plt.hist(df['Pesos'], edgecolor='black')\n",
        "plt.xlabel('Pesos')\n",
        "plt.ylabel('Frecuencia Absoluta')\n",
        "plt.show()\n"
      ]
    },
    {
      "cell_type": "code",
      "execution_count": 15,
      "metadata": {},
      "outputs": [
        {
          "name": "stdout",
          "output_type": "stream",
          "text": [
            "Varianza alturas: 339.31\n",
            "Desviacion estandar alturas: 18.42\n",
            "rango intercuartil alturas: 34.04\n",
            "Varianza pesos: 195.09\n",
            "Desviacion estandar pesos: 13.97\n",
            "Desviacion rango intercuartil pesos: 26.61\n"
          ]
        }
      ],
      "source": [
        "# Grado de variabilidad de los datos\n",
        "# Calculamos la varianza y la desviacion estandar\n",
        "\n",
        "varianza_alturas = np.var(df['Alturas'])\n",
        "varianza_pesos = np.var(df['Pesos'])\n",
        "\n",
        "desviacion_alturas = np.std(df['Alturas'])\n",
        "desviacion_pesos = np.std(df['Pesos'])\n",
        "\n",
        "q3_alturas = np.quantile(df['Alturas'],.75)\n",
        "q1_alturas = np.quantile(df['Alturas'],.25)\n",
        "rango_intercuartil_alturas = q3_alturas - q1_alturas\n",
        "\n",
        "q3_pesos = np.quantile(df['Pesos'],.75)\n",
        "q1_pesos = np.quantile(df['Pesos'],.25)\n",
        "rango_intercuartil_pesos = q3_pesos - q1_pesos\n",
        "\n",
        "# Con todas estas medidas de dispersion podremos indicar el grado de variabilidad\n",
        "\n",
        "print(f'Varianza alturas: {round(varianza_alturas, 2)}')\n",
        "print(f'Desviacion estandar alturas: {round(desviacion_alturas, 2)}')\n",
        "print(f'rango intercuartil alturas: {round(rango_intercuartil_alturas, 2)}')\n",
        "\n",
        "\n",
        "\n",
        "print(f'Varianza pesos: {round(varianza_pesos, 2)}')\n",
        "print(f'Desviacion estandar pesos: {round(desviacion_pesos, 2)}')\n",
        "print(f'Desviacion rango intercuartil pesos: {round(rango_intercuartil_pesos, 2)}')"
      ]
    },
    {
      "cell_type": "code",
      "execution_count": 16,
      "metadata": {},
      "outputs": [
        {
          "data": {
            "image/png": "[encoded data removed]",
            "text/plain": [
              "<Figure size 640x480 with 2 Axes>"
            ]
          },
          "metadata": {},
          "output_type": "display_data"
        }
      ],
      "source": [
        "# de manera adicional graficamos un diagrama de cajas para visualizar como varian los datos\n",
        "\n",
        "plt.subplot(1,2,1)\n",
        "plt.boxplot(df['Alturas'].astype(float))\n",
        "plt.title('Alturas')\n",
        "\n",
        "\n",
        "plt.subplot(1,2,2)\n",
        "plt.boxplot(df['Pesos'].astype(float))\n",
        "plt.title('Pesos')\n",
        "plt.show()"
      ]
    },
    {
      "cell_type": "code",
      "execution_count": 85,
      "metadata": {},
      "outputs": [
        {
          "data": {
            "image/png": "[encoded data removed]",
            "text/plain": [
              "<Figure size 640x480 with 1 Axes>"
            ]
          },
          "metadata": {},
          "output_type": "display_data"
        }
      ],
      "source": [
        "# 4.  Plotear de manera conjunta y encontrar si presentan correlación los datos de peso vs altura,\n",
        "plt.hist(df, edgecolor='black')\n",
        "plt.legend(df)\n",
        "plt.show()"
      ]
    },
    {
      "cell_type": "markdown",
      "metadata": {},
      "source": [
        "### Conclusion\n",
        "En este grafico podemos apreciar que cuando la altura aumenta el peso aumenta con ella "
      ]
    },
    {
      "cell_type": "code",
      "execution_count": 84,
      "metadata": {},
      "outputs": [
        {
          "data": {
            "image/png": "[encoded data removed]",
            "text/plain": [
              "<Figure size 2000x1000 with 2 Axes>"
            ]
          },
          "metadata": {},
          "output_type": "display_data"
        }
      ],
      "source": [
        "# 5. Plotear de manera conjunta los datos de horas de descanso, estudio y ejercicio\n",
        "# Como tenemos los datos generados en las 3 ultimas columnasde la matriz generada\n",
        "\n",
        "hs_descanso = matriz[1:, 4].astype(float) \n",
        "hs_estudio_trabajo = matriz[1:, 5].astype(float) \n",
        "hs_ejercicios = matriz[1:, 6].astype(float) \n",
        "\n",
        "\n",
        "plt.figure(figsize=[20,10])\n",
        "\n",
        "# Ene esta primer grafica mostramos los histogramas superpuestos\n",
        "plt.subplot(1, 2, 1)\n",
        "plt.hist(hs_descanso, edgecolor='black', label='Descanso')\n",
        "plt.hist(hs_estudio_trabajo, edgecolor='black', alpha=0.9, label='Est./Tra.')\n",
        "plt.hist(hs_ejercicios, edgecolor='black', alpha=0.6, label='Ejercicios')\n",
        "plt.legend()\n",
        "\n",
        "# En esta otra conseguimos investigando ptra manera de mostrar dichos histogramas\n",
        "plt.subplot(1, 2, 2)\n",
        "plt.hist([hs_descanso, hs_estudio_trabajo, hs_ejercicios], label=['Descanso', 'Est/Trab', 'Ejercicios'])\n",
        "plt.legend(loc='upper left')\n",
        "\n",
        "plt.show()"
      ]
    },
    {
      "cell_type": "markdown",
      "metadata": {
        "id": "XncXZ9X7b7Mw"
      },
      "source": [
        "## EJERCICIO 6\n",
        "\n",
        "Se realiza una encuesta a N usuario donde se registran los siguientes datos.\n",
        "\n",
        "['DNI','GASTOS MENSUALES DE HOGAR','INGRESOS MENSUALES POR HOGAR', 'CANTIDAD DE MIEMBROS QUE VIVEN POR HOGAR','GASTO MENSUAL EN LINEA TELEFÓNICA', 'GASTO MENSUAL POR PAGO DE INTERNET' ]\n",
        "\n",
        "Realizar la simulación de la carga de datos utilizando la siguiente información adicional:\n",
        "\n",
        "\n",
        "1.   El 70 % de los encuestados son jóvenes entre 15 y 21 años, el 10% son mayores de 60 años. Sugerencia, utilizar esto para generar los DNI\n",
        "2.   Los encuestados son de la provincia de Cordoba. Además el 80 % de la población de esa provincia tiene un grupo familiar de 5 personas. Con ingresos mensuales promedio de $258.000\n",
        "2.   Cerca del 80 % de los encuestados Gastan el 90% de sus ingresos, el resto gasta el 80% de sus ingresos.Ayuda, para simular la cantidad de miembros utilizar la distribución normal.\n",
        "3.  Del gasto Total por hogar se sabe que se abona un 15 % en telefonía y un 7.8% en servicio de internet.\n",
        "\n",
        "Con la información proporcionada, realizar la simulación de las encuestas de 100 y 1000 personas.\n",
        "\n",
        "*   Calcular el valor medio y desvio estandar de los gastos mensuales, ingresos mensuales y pagos de servicios.\n",
        "*   Plotear los datos de los ingesos , y gastos en gráficos de barra por separado y evidenciar la media y desvio estandar.\n",
        "*   Calcular la proporciona de jóvenes menores a 21 encuestados. Mostrar sus datos de grupos familiares, gastos en servicios de internet y telefonía. Concluir algo en base a esta información.\n",
        "*   Realizar un histograma con el dato del grupo familiar, y concluir algo acerca de la distribución de probabilidad.\n",
        "\n",
        "\n"
      ]
    }
  ],
  "metadata": {
    "colab": {
      "provenance": []
    },
    "kernelspec": {
      "display_name": "Python 3",
      "name": "python3"
    },
    "language_info": {
      "codemirror_mode": {
        "name": "ipython",
        "version": 3
      },
      "file_extension": ".py",
      "mimetype": "text/x-python",
      "name": "python",
      "nbconvert_exporter": "python",
      "pygments_lexer": "ipython3",
      "version": "3.11.4"
    }
  },
  "nbformat": 4,
  "nbformat_minor": 0
}
