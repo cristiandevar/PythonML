{
  "cells": [
    {
      "cell_type": "markdown",
      "metadata": {
        "id": "3EwNdi9QydGU"
      },
      "source": [
        "# TRABAJO PRACTICO N 3\n"
      ]
    },
    {
      "cell_type": "markdown",
      "metadata": {
        "id": "fhG0B7Fty79v"
      },
      "source": [
        "***TEMAS A DESARROLLAR:***\n",
        "\n",
        "Nociones de Probabilidad, simulación de procesos aleatorios, cálculo de parámetros estadisticos: Media o Valor Esperado(PROMEDIO), Mediana, Desvio Estandar. DISTRIBUCIONES DE PROABABILIDAD más frecuentes, por ejemplo la Normal.\n"
      ]
    },
    {
      "cell_type": "markdown",
      "metadata": {
        "id": "jyrQncyp-o6z"
      },
      "source": [
        "## Funciones estadísticas para análisis exploratorio de datos\n",
        "A continuación se presentan ejemplos de funciones estadísticas para el análisis exploratorio de datos utilizando NumPy:"
      ]
    },
    {
      "cell_type": "markdown",
      "metadata": {
        "id": "RY7poYIL-o6y"
      },
      "source": [
        "#### Crear array aleatorio\n",
        "En esta celda, se utiliza la función np.random.rand() de NumPy para crear un array de números aleatorios con una forma específica. Luego, se imprime el array."
      ]
    },
    {
      "cell_type": "code",
      "execution_count": 71,
      "metadata": {
        "colab": {
          "base_uri": "https://localhost:8080/"
        },
        "id": "yYNWQ6gM-o6y",
        "outputId": "37aedb1f-c950-4b07-b8cd-4823d11203bf"
      },
      "outputs": [
        {
          "name": "stdout",
          "output_type": "stream",
          "text": [
            "Array aleatorio: [[3 6 1]\n",
            " [7 5 3]\n",
            " [7 5 4]\n",
            " [7 9 9]]\n"
          ]
        }
      ],
      "source": [
        "import numpy as np\n",
        "random_array = np.random.randint(0,10, (4,3))\n",
        "print(\"Array aleatorio:\", random_array)"
      ]
    },
    {
      "cell_type": "markdown",
      "metadata": {
        "id": "VZ2loIOU-o6z"
      },
      "source": [
        "#### Media\n",
        "En esta celda, se crea un array 'array' y se utiliza la función np.mean() de NumPy para calcular la media del array. Luego, se imprime el resultado."
      ]
    },
    {
      "cell_type": "code",
      "execution_count": 72,
      "metadata": {
        "colab": {
          "base_uri": "https://localhost:8080/"
        },
        "id": "sPE9oXi4-o6z",
        "outputId": "bead0399-fb82-45dd-fc79-1bb2e8016bc6"
      },
      "outputs": [
        {
          "name": "stdout",
          "output_type": "stream",
          "text": [
            "Media: 3.0\n"
          ]
        }
      ],
      "source": [
        "array = np.array([1, 2, 3, 4, 5])\n",
        "media = np.mean(array)\n",
        "print(\"Media:\", media)"
      ]
    },
    {
      "cell_type": "markdown",
      "metadata": {
        "id": "dvEomGsS-o6z"
      },
      "source": [
        "#### Desviación estándar\n",
        "En esta celda, se crea un array 'array' y se utiliza la función np.std() de NumPy para calcular la desviación estándar del array. Luego, se imprime el resultado."
      ]
    },
    {
      "cell_type": "code",
      "execution_count": 73,
      "metadata": {
        "colab": {
          "base_uri": "https://localhost:8080/"
        },
        "id": "9V1fmwjN-o66",
        "outputId": "0ddb450c-2ec9-488c-9139-ccca4d0e4bec"
      },
      "outputs": [
        {
          "name": "stdout",
          "output_type": "stream",
          "text": [
            "Desviación estándar: 1.4142135623730951\n"
          ]
        }
      ],
      "source": [
        "array = np.array([1, 2, 3, 4, 5])\n",
        "desviacion_estandar = np.std(array)\n",
        "print(\"Desviación estándar:\", desviacion_estandar)"
      ]
    },
    {
      "cell_type": "markdown",
      "metadata": {
        "id": "y7XKPmE0-o69"
      },
      "source": [
        "#### Varianza\n",
        "La función np.var() se utiliza para calcular la varianza de un array.\n",
        "Ejemplo de uso:"
      ]
    },
    {
      "cell_type": "code",
      "execution_count": 74,
      "metadata": {
        "colab": {
          "base_uri": "https://localhost:8080/"
        },
        "id": "5e758a05",
        "outputId": "92404ab0-bbc1-4c5a-cf0f-e13a56d7b1e9"
      },
      "outputs": [
        {
          "name": "stdout",
          "output_type": "stream",
          "text": [
            "Varianza: 2.0\n"
          ]
        }
      ],
      "source": [
        "array = np.array([1, 2, 3, 4, 5])\n",
        "varianza = np.var(array)\n",
        "print(\"Varianza:\", varianza)"
      ]
    },
    {
      "cell_type": "markdown",
      "metadata": {
        "id": "_Ql_kgVk-o66"
      },
      "source": [
        "#### Valor mínimo\n",
        "En esta celda, se crea un array 'array' y se utiliza la función np.min() de NumPy para encontrar el valor mínimo del array. Luego, se imprime el resultado."
      ]
    },
    {
      "cell_type": "code",
      "execution_count": 75,
      "metadata": {
        "colab": {
          "base_uri": "https://localhost:8080/"
        },
        "id": "4Xsua_Hd-o66",
        "outputId": "efb878e7-3849-4442-ee33-9bbf92709339"
      },
      "outputs": [
        {
          "name": "stdout",
          "output_type": "stream",
          "text": [
            "Valor mínimo: [-2 -3 -3 -3 -2]\n",
            "[[-2  0 -3 -3 -2]\n",
            " [-2  0 -1 -2 -2]\n",
            " [-1 -3 -3 -3  2]\n",
            " [ 0  0  0 -1 -1]\n",
            " [ 1  0 -1 -3  2]]\n"
          ]
        }
      ],
      "source": [
        "array = np.array([1, 2, 3, 4, 5])\n",
        "matriz=np.random.randint(-3,3,(5,5))\n",
        "#minimo = np.min(array)\n",
        "minimo = np.min(matriz, axis=0)\n",
        "print(\"Valor mínimo:\", minimo)\n",
        "print( matriz)\n"
      ]
    },
    {
      "cell_type": "markdown",
      "metadata": {
        "id": "GVhP0lkq-o66"
      },
      "source": [
        "#### Valor máximo\n",
        "En esta celda, se crea un array 'array' y se utiliza la función np.max() de NumPy para encontrar el valor máximo del array. Luego, se imprime el resultado."
      ]
    },
    {
      "cell_type": "code",
      "execution_count": 76,
      "metadata": {
        "colab": {
          "base_uri": "https://localhost:8080/"
        },
        "id": "83u0COEW-o66",
        "outputId": "d2f195b1-7e16-4490-be6a-f751bbfcc47a"
      },
      "outputs": [
        {
          "name": "stdout",
          "output_type": "stream",
          "text": [
            "Valor máximo: 5\n"
          ]
        }
      ],
      "source": [
        "maximo = np.max(array)\n",
        "print(\"Valor máximo:\", maximo)"
      ]
    },
    {
      "cell_type": "markdown",
      "metadata": {
        "id": "7uMUsI2_-o67"
      },
      "source": [
        "#### Gráfico de dispersión\n",
        "En esta celda, se crea un array 'x' con valores aleatorios y un array 'y' con valores aleatorios. Luego, se utiliza la biblioteca Matplotlib para trazar un gráfico de dispersión con 'x' en el eje x y 'y' en el eje y. También se agrega etiquetas y un título al gráfico."
      ]
    },
    {
      "cell_type": "code",
      "execution_count": 77,
      "metadata": {
        "colab": {
          "base_uri": "https://localhost:8080/",
          "height": 472
        },
        "id": "e0S5-Csz-o67",
        "outputId": "4423a1af-f9e7-48c4-dedb-1a8bccc7e91c"
      },
      "outputs": [
        {
          "data": {
            "image/png": "[encoded data removed]",
            "text/plain": [
              "<Figure size 640x480 with 1 Axes>"
            ]
          },
          "metadata": {},
          "output_type": "display_data"
        }
      ],
      "source": [
        "x = np.random.rand(100)\n",
        "y = np.random.rand(100)\n",
        "\n",
        "plt.scatter(x, y)\n",
        "plt.xlabel('x')\n",
        "plt.ylabel('y')\n",
        "plt.title('Gráfico de dispersión')\n",
        "plt.show()"
      ]
    },
    {
      "cell_type": "markdown",
      "metadata": {
        "id": "bSbKBHmZ-o67"
      },
      "source": [
        "En esta celda, se crea un array 'data' con valores aleatorios siguiendo una distribución normal. Luego, se utiliza la biblioteca Matplotlib para trazar un histograma de 'data'. También se agrega etiquetas y un título al gráfico."
      ]
    },
    {
      "cell_type": "code",
      "execution_count": 78,
      "metadata": {
        "colab": {
          "base_uri": "https://localhost:8080/",
          "height": 472
        },
        "id": "gV_7p8Lk-o68",
        "outputId": "380e4aea-dfed-4dbd-e942-5c5b35d4ee35"
      },
      "outputs": [
        {
          "data": {
            "image/png": "[encoded data removed]",
            "text/plain": [
              "<Figure size 640x480 with 1 Axes>"
            ]
          },
          "metadata": {},
          "output_type": "display_data"
        }
      ],
      "source": [
        "data = np.random.normal(0, 1, 1000)\n",
        "\n",
        "plt.hist(data, bins=30)\n",
        "plt.xlabel('Valor')\n",
        "plt.ylabel('Frecuencia')\n",
        "plt.title('Histograma')\n",
        "plt.show()"
      ]
    },
    {
      "cell_type": "markdown",
      "metadata": {
        "id": "oCGRe3n_-o68"
      },
      "source": [
        "#### Mediana\n",
        "La función np.median() se utiliza para calcular la mediana de un array.\n",
        "Ejemplo de uso:"
      ]
    },
    {
      "cell_type": "code",
      "execution_count": 79,
      "metadata": {
        "colab": {
          "base_uri": "https://localhost:8080/"
        },
        "id": "37f660c6",
        "outputId": "b08edb66-da60-48ba-fe2a-9835b46d7a70"
      },
      "outputs": [
        {
          "name": "stdout",
          "output_type": "stream",
          "text": [
            "Mediana: 3.0\n"
          ]
        }
      ],
      "source": [
        "array = np.array([1, 2, 3, 4, 5])\n",
        "mediana = np.median(array)\n",
        "print(\"Mediana:\", mediana)"
      ]
    },
    {
      "cell_type": "markdown",
      "metadata": {
        "id": "Dlkgy0Bj-o69"
      },
      "source": [
        "#### Percentiles\n",
        "La función np.percentile() se utiliza para calcular los percentiles de un array.\n",
        "Ejemplo de uso:"
      ]
    },
    {
      "cell_type": "code",
      "execution_count": 80,
      "metadata": {
        "colab": {
          "base_uri": "https://localhost:8080/"
        },
        "id": "7ffea41c",
        "outputId": "304f4a67-7123-4c89-f934-521eada82522"
      },
      "outputs": [
        {
          "name": "stdout",
          "output_type": "stream",
          "text": [
            "Percentil 50: 3.0\n"
          ]
        }
      ],
      "source": [
        "array = np.array([1, 2, 3, 4, 5])\n",
        "percentil_50 = np.percentile(array, 50)\n",
        "print(\"Percentil 50:\", percentil_50)"
      ]
    },
    {
      "cell_type": "markdown",
      "metadata": {
        "id": "gwjQOi8Kyndy"
      },
      "source": [
        "\n",
        "# EJEMPLOS Y APLICACIÓNES\n"
      ]
    },
    {
      "cell_type": "markdown",
      "metadata": {
        "id": "SPfckR9xRvdf"
      },
      "source": [
        "***APLICACIÓN DE PROBABILIDAD***\n",
        "\n",
        "Se Realiza el lanzamiento de un dado EQUILIBRADO JUSTO, de manera reiterada con las mismas condiciones, y se anotan sus resultados= CARA O CRUZ.\n",
        "\n",
        "Se le pide al usuario que defina la cantidad N de lanzamientos y se calcula su frecuencia relativa= 'PROBABILIDAD' de obtener cara o cruz. Se obtiene los siguientes resultados:"
      ]
    },
    {
      "cell_type": "code",
      "execution_count": 81,
      "metadata": {
        "colab": {
          "base_uri": "https://localhost:8080/"
        },
        "id": "4RkcdDGQyPv_",
        "outputId": "9603abb9-003d-42e7-ccec-f1480c8d8648"
      },
      "outputs": [],
      "source": [
        "import numpy as np\n",
        "n=int(input('ingrese la cantidad de simulación o lanzamientos'))\n",
        "\n",
        "#========= FORMA 1 DE SIMULAR LANZAMIENTO DE UN DADO============\n",
        "dado=[]\n",
        "cara=0\n",
        "cruz=0\n",
        "for i in range(n):\n",
        "  dado.append(np.random.rand(1))\n",
        "  dado1=np.array(dado)\n",
        "  if dado1[i]<0.5:\n",
        "    #print('salio cara')\n",
        "    #print(dado[i])\n",
        "    cara +=1\n",
        "  else:\n",
        "    #print('salio cruz')\n",
        "    #print(dado[i])\n",
        "    cruz +=1\n"
      ]
    },
    {
      "cell_type": "code",
      "execution_count": 82,
      "metadata": {
        "colab": {
          "base_uri": "https://localhost:8080/"
        },
        "id": "RvOMR4nSD4wo",
        "outputId": "b2cd70ca-1f07-440e-bbe1-4e2d5ad2f409"
      },
      "outputs": [
        {
          "name": "stdout",
          "output_type": "stream",
          "text": [
            "la probabilidad aproximada en 50 lanzamientos de sacar CARA es: 0.58\n",
            "la probabilidad aproximada en 50 lanzamientos de sacar CRUZ es: 0.42\n"
          ]
        }
      ],
      "source": [
        "#  mostrar la probailidad frecuencista de el lanzamiento de un dado\n",
        "prom_cara=cara/n\n",
        "prom_cruz=cruz/n\n",
        "print('la probabilidad aproximada en '+str(n)+' lanzamientos de sacar CARA es:', prom_cara)\n",
        "print('la probabilidad aproximada en '+str(n)+' lanzamientos de sacar CRUZ es:', prom_cruz)"
      ]
    },
    {
      "cell_type": "code",
      "execution_count": 83,
      "metadata": {
        "colab": {
          "base_uri": "https://localhost:8080/"
        },
        "id": "5KY2nymYFAy2",
        "outputId": "737d4f4e-a574-4d44-f532-7462b0d8ad63"
      },
      "outputs": [
        {
          "name": "stdout",
          "output_type": "stream",
          "text": [
            "Probabilidad de cara: 0.48\n",
            "Probabilidad de sello: 0.52\n"
          ]
        }
      ],
      "source": [
        "#========== FORMA COMPACTA DE SIMULAR USANDO NUMPY===========\n",
        "m=int(input('ingrese la cantidad de simulación o lanzamientos'))\n",
        "lanzamientos = np.random.randint(0, 2, m)\n",
        "\n",
        "# Calcular las probabilidades\n",
        "\n",
        "probabilidad_cara = np.sum(lanzamientos ==0 ) / len(lanzamientos)\n",
        "probabilidad_sello = np.sum(lanzamientos== 1) / len(lanzamientos)\n",
        "\n",
        "print(f\"Probabilidad de cara: {probabilidad_cara:.2f}\")\n",
        "print(f\"Probabilidad de sello: {probabilidad_sello:.2f}\")"
      ]
    },
    {
      "cell_type": "code",
      "execution_count": 84,
      "metadata": {
        "colab": {
          "base_uri": "https://localhost:8080/",
          "height": 472
        },
        "id": "-llwABNxopr8",
        "outputId": "3e7bb8b7-6733-4819-a1bf-bf0897a6a6a3"
      },
      "outputs": [
        {
          "data": {
            "image/png": "[encoded data removed]",
            "text/plain": [
              "<Figure size 640x480 with 1 Axes>"
            ]
          },
          "metadata": {},
          "output_type": "display_data"
        }
      ],
      "source": [
        "import matplotlib.pyplot as plt\n",
        "x=np.array(range(2))\n",
        "y=np.array([probabilidad_cara, probabilidad_sello])\n",
        "\n",
        "plt.bar(x,y)\n",
        "plt.xlabel('Opción')\n",
        "plt.ylabel('Frecuencia relativa')\n",
        "plt.title('Histograma del lanzamiento de una moneda equilibrada')\n",
        "plt.show()"
      ]
    },
    {
      "cell_type": "markdown",
      "metadata": {
        "id": "BQD9uyGpc2Q0"
      },
      "source": [
        "# EJERCICIOS"
      ]
    },
    {
      "cell_type": "markdown",
      "metadata": {
        "id": "oaBQ-ToZIASA"
      },
      "source": [
        "##***EJERCICIO 1***\n",
        "\n",
        "Simular el lanzamiento de un dado eqilibrado de 6 caras.\n",
        "\n",
        "\n",
        "*   Mostrar la probabilida aproximada de obtener el número 2, 3 y 5\n",
        "*   Graficar el histograma de las probabilidades\n",
        "\n"
      ]
    },
    {
      "cell_type": "code",
      "execution_count": 85,
      "metadata": {},
      "outputs": [
        {
          "name": "stdout",
          "output_type": "stream",
          "text": [
            "Se tira 50 veces el dado\n",
            "La probabilidad de obtener 2 es: 0.22\n",
            "La probabilidad de obtener 3 es: 0.08\n",
            "La probabilidad de obtener 5 es: 0.22\n",
            "\n",
            "Histograma:\n"
          ]
        },
        {
          "data": {
            "image/png": "[encoded data removed]",
            "text/plain": [
              "<Figure size 640x480 with 1 Axes>"
            ]
          },
          "metadata": {},
          "output_type": "display_data"
        }
      ],
      "source": [
        "import numpy as np\n",
        "import matplotlib.pyplot as plt\n",
        "\n",
        "# simulamos las tiradas de un dado\n",
        "cant = int(input('Ingrese cantidad de tiradas: '))\n",
        "\n",
        "# Se simula cant tiradas del dado\n",
        "tiradas = np.random.randint(1, 7, cant)\n",
        "print(f'Se tira {cant} veces el dado')\n",
        "\n",
        "# Calculamos las probabilidades\n",
        "prob_2 = np.sum(tiradas==2)/len(tiradas)\n",
        "prob_3 = np.sum(tiradas==3)/len(tiradas)\n",
        "prob_5 = np.sum(tiradas==5)/len(tiradas)\n",
        "\n",
        "print(f'La probabilidad de obtener 2 es: {prob_2}')\n",
        "print(f'La probabilidad de obtener 3 es: {prob_3}')\n",
        "print(f'La probabilidad de obtener 5 es: {prob_5}')\n",
        "\n",
        "# Graficamos el histograma\n",
        "print()\n",
        "print('Histograma:')\n",
        "x = [2, 3, 5]\n",
        "y = [prob_2, prob_3, prob_5]\n",
        "\n",
        "plt.bar(x, y, width=.5, color=['blue', 'red', 'green'], label=['2', '3', '5'])\n",
        "plt.ylabel('Probabilidad')\n",
        "plt.xlabel('Nro Obtenido')\n",
        "plt.legend()\n",
        "plt.show()\n"
      ]
    },
    {
      "cell_type": "markdown",
      "metadata": {
        "id": "-tHDC2xFEvZ3"
      },
      "source": [
        "## EJERCICIO 4\n",
        "\n",
        "Dada la base de datos de ventas diarias durante una semana, de un negocio con 4 productos.- VER EJERCICIO PARTE 2 PRACTICO N 2- Realizar el siguiente análisis de datos para poder obtener información y planificar una estrategia de ventas.\n",
        "\n",
        "\n",
        "1.   Calcular la media en la ventas por cada producto y la mediana. Plotear estos nuevos datos en un gráfico de barra.\n",
        "2.    Calcular la media en la ventas por DÍA y la mediana. Plotear estos nuevos datos en un gráfico de TRAZO DE LINEAS.\n",
        "3.   Realizar una conclusión en función las graficas y sugerir al menos 5 estrategias de venta o inversión de manera de potenciar este negocio.\n",
        "4.   Calcular el desvio estandar de los datos por cada producto y concluir para cada producto como es su rango de variabilidad en las ventas de los mismos.Plotear los datos de ventas de la semana de los productos con mayor y menor desvio estandar y evidenciar la variabilidad indicada en el parametro *'DESVIO ESTANDAR'*\n",
        "\n"
      ]
    },
    {
      "cell_type": "code",
      "execution_count": 86,
      "metadata": {},
      "outputs": [
        {
          "data": {
            "text/plain": [
              "array([154, 103, 205, 282])"
            ]
          },
          "execution_count": 86,
          "metadata": {},
          "output_type": "execute_result"
        }
      ],
      "source": [
        "import numpy as np\n",
        "import matplotlib.pyplot as plt\n",
        "# Trajimos la BD del TP2\n",
        "ventas_diarias = np.array(\n",
        "    #Lun,Mar,Mie,Jue,Vie,Sab,Dom\n",
        "    [[20, 15, 25, 30, 18, 22, 24],  #Producto A\n",
        "    [12, 20, 14, 8, 15, 18, 16],    #Producto B\n",
        "    [35, 28, 32, 30, 26, 24, 30],   #Producto C\n",
        "    [40, 38, 45, 42, 39, 41, 37]    #Producto D\n",
        "    ]\n",
        ")\n",
        "np.sum(ventas_diarias, axis=1)"
      ]
    },
    {
      "cell_type": "code",
      "execution_count": 87,
      "metadata": {},
      "outputs": [
        {
          "data": {
            "image/png": "[encoded data removed]",
            "text/plain": [
              "<Figure size 640x480 with 1 Axes>"
            ]
          },
          "metadata": {},
          "output_type": "display_data"
        },
        {
          "data": {
            "image/png": "[encoded data removed]",
            "text/plain": [
              "<Figure size 640x480 with 1 Axes>"
            ]
          },
          "metadata": {},
          "output_type": "display_data"
        },
        {
          "data": {
            "image/png": "[encoded data removed]",
            "text/plain": [
              "<Figure size 640x480 with 1 Axes>"
            ]
          },
          "metadata": {},
          "output_type": "display_data"
        },
        {
          "data": {
            "image/png": "[encoded data removed]",
            "text/plain": [
              "<Figure size 640x480 with 1 Axes>"
            ]
          },
          "metadata": {},
          "output_type": "display_data"
        }
      ],
      "source": [
        "# 1.   Calcular la media en la ventas por cada producto y la mediana. Plotear estos nuevos datos en un gráfico de barra.\n",
        "\n",
        "# Media y mediana del Producto A\n",
        "ventas_producto_a = ventas_diarias[0]\n",
        "media_a = round(np.mean(ventas_producto_a), 2)\n",
        "mediana_a = round(np.median(ventas_producto_a), 2)\n",
        "\n",
        "# Media y mediana del Producto B\n",
        "ventas_producto_b = ventas_diarias[1]\n",
        "media_b = round(np.mean(ventas_producto_b), 2)\n",
        "mediana_b = round(np.median(ventas_producto_b), 2)\n",
        "\n",
        "# Media y mediana del Producto C\n",
        "ventas_producto_c = ventas_diarias[2]\n",
        "media_c = round(np.mean(ventas_producto_c), 2)\n",
        "mediana_c = round(np.median(ventas_producto_c), 2)\n",
        "\n",
        "# Media y mediana del Producto D\n",
        "ventas_producto_d = ventas_diarias[3]\n",
        "media_d = round(np.mean(ventas_producto_d), 2)\n",
        "mediana_d = round(np.median(ventas_producto_d), 2)\n",
        "\n",
        "\n",
        "dias = ['Lunes', 'Martes', 'Miercoles', 'Jueves', 'Viernes', 'Sabado', 'Domingo']\n",
        "\n",
        "# Graficamos los datos del Producto A\n",
        "plt.subplot(4, 1, 1)\n",
        "plt.bar(dias, ventas_producto_a)\n",
        "plt.title(f'Producto A, Media: {media_a} Mediana: {mediana_a}')\n",
        "plt.show()\n",
        "\n",
        "\n",
        "# Graficamos los datos del Producto B\n",
        "plt.subplot(4, 1, 2)\n",
        "plt.bar(dias, ventas_producto_b)\n",
        "plt.title(f'Producto B, Media: {media_b} Mediana: {mediana_b}')\n",
        "plt.show()\n",
        "\n",
        "\n",
        "# Graficamos los datos del Producto C\n",
        "plt.subplot(4, 1, 3)\n",
        "plt.bar(dias, ventas_producto_c)\n",
        "plt.title(f'Producto C, Media: {media_c} Mediana: {mediana_c}')\n",
        "plt.show()\n",
        "\n",
        "\n",
        "# Graficamos los datos del Producto D\n",
        "plt.subplot(4, 1, 4)\n",
        "plt.bar(dias, ventas_producto_d)\n",
        "plt.title(f'Producto D, Media: {media_d} Mediana: {mediana_d}')\n",
        "plt.show()\n",
        "\n"
      ]
    },
    {
      "cell_type": "markdown",
      "metadata": {},
      "source": [
        "### 3 Conclusion\n",
        "\n",
        "* **Estrategia 1:** Respecto a las graficas del producto C y D, tienen una venta bastante equilibrada en todos los dias de la semana, por lo que podriamos poner estos productos a la entrada del negocio para facilitar a los clientes su adquisicion y agilizar las ventas.\n",
        "\n",
        "* **Estrategia 2:** Esta estrategia tiene relacion con la anterior, ya que consiste en realizar combos para poder aumentar las ventas de los productos A y B en los dias donde las ventas caen, (ej: jueves para el Producto B y martes para el A). El combo consistiria en llevando Producto C o D mas un Producto A o B recibe un 10% de descuento, o el porcentaje que el dueño crea conveninete.\n",
        "\n",
        "* **Estrategia 3:** Se podrian realizar ofertas individuales para los productos A y B, dado que son los que por semana no vendieron mas de 20 productos en promedio, habria que elegir dias en los que las ventas no alcancen la media o mediana en los productos nombrados, teniendo como objetivo generar incentivos de compra en los productos menos vendidos.\n",
        "\n",
        "* **Estrategia 4:** Otra estrategia podria ser la de comprar mas unidades de los productos C y D, los cuales duplican y llegan a triplicar la media en ventas semanales respecto a los productos restantes, esto para aprovechar la tendencia que podemos notar en las graficas. Una implicacion de lo anterior podria ser el mermar la cantidad de los productos A y B, con el objetivo de compensar ese dinero necesario para adquirir mas stock de los productos mas vendidos.\n",
        "\n",
        "* **Estrategia 5:** Una estrategia bantante parecida a la anterior seria, mermar la cantidad del Producto A y B para poder comprar un nuevo prodcuto D, diversificando la oferta que el negocio brinda a los clientes. Seria una especie de inversion a largo plazo.\n",
        "\n",
        "### Aclaracion\n",
        "Aclaramos para las 2 ultimas estrategias. Las cantidades deben estar relacionadas con la media o mediana obtenidas, por ejemplo si en promedio vendemos 20 unidades del Producto A, y hoy en dia tenemos en stock mas de 154( resultado al sumar las ventas de la semana de dicho producto) podriamos mermar el stck hasta alcanzar 140 para que por dia siga generando un promedio de 20 unidades vendidas.\n"
      ]
    },
    {
      "cell_type": "markdown",
      "metadata": {
        "id": "9H8wdssAzUkH"
      },
      "source": [
        "## EJERCICIO 5  \n",
        "\n",
        "Solicitar al usuario que ingrese la cantidad N de datos a cargar. Luego generar de manera aleatoria los siguientes datos:\n",
        "\n",
        "* SEXO= 'MASCULINO', 'FEMENINO','NO ESPECIFICA'\n",
        "* EDAD= entre 28 y 60 años\n",
        "* ALTURA= entre un rango de 165.0 mts hasta 210 mts\n",
        "* PESO= entre un rango de 50  y 110 kg\n",
        "* HORAS DE DESCANSO diario= un número decimal\n",
        "* HORAS DE TRABAJO/ ESTUDIO diario= un número decimal\n",
        "* HORAS DE EJERCICIOS diario= un número decimal\n",
        "\n",
        "REalizar las siguientes indicaciones y extraer concluisiones sobre la información y la pooblación muestreada.\n",
        "\n",
        "1.   Generar un array de dimensión 2 (matriz), con todos los datos ordenados, permitiendo visualizarlos como tabla.\n",
        "2.   Suponiendo que la distribución de probabilidad de los datos muestrados de las N personas, se distribuyen en forma NORMAL. Encontrar la media en los datos de altura, peso, y horas de descanso, trabajo y ejercicios.\n",
        "3.  Graficar la muestra o distribución de los datos  de pesos , y alturas en graficas separadas. Indicar el grado de variabilidad de sus datos\n",
        "4.  Plotear de manera conjunta y encontrar si presentan correlación los datos de peso vs altura,\n",
        "5. Plotear de manera conjunta los datos de horas de descanso, estudio y ejercicio\n",
        "\n"
      ]
    },
    {
      "cell_type": "markdown",
      "metadata": {},
      "source": [
        "## Aclaracion:\n",
        "Yo habia hecho este punto con el TPN3 general, por lo que es diferente la manera de generar los datos, sin embargo tomare la parte de las horas ya que en mi caso no lo contemple correctamente (ej: si sumabamos las horas no obtenia 24hs)"
      ]
    },
    {
      "cell_type": "code",
      "execution_count": 88,
      "metadata": {},
      "outputs": [],
      "source": [
        "import numpy as np\n",
        "import matplotlib.pyplot as plt\n",
        "# Utilizaremos pandas, para relaizar el pto 3, por lo que lo importamos\n",
        "import pandas as pd\n",
        "\n",
        "# Pedimos al usuario la cantidad\n",
        "cant = int(input('Ingrese la cantidad de datos a generar: '))\n"
      ]
    },
    {
      "cell_type": "code",
      "execution_count": 89,
      "metadata": {},
      "outputs": [
        {
          "name": "stdout",
          "output_type": "stream",
          "text": [
            "[['Sexo' 'Edad' 'Altura' 'Peso' 'Hs Descanso' 'Hs Trabajo/Estudio'\n",
            "  'Hs Ejercicios']\n",
            " ['NO ESPECIFICA' '51' '52.67' '183.34' '18' '4' '2']\n",
            " ['FEMENINO' '45' '54.67' '206.71' '20' '4' '0']\n",
            " ['FEMENINO' '36' '79.8' '191.88' '21' '3' '0']\n",
            " ['FEMENINO' '46' '84.72' '192.21' '19' '5' '0']\n",
            " ['MASCULINO' '40' '74.12' '168.87' '16' '7' '1']\n",
            " ['NO ESPECIFICA' '52' '50.3' '209.58' '19' '3' '2']\n",
            " ['NO ESPECIFICA' '29' '97.55' '187.01' '20' '3' '1']\n",
            " ['NO ESPECIFICA' '52' '101.22' '194.8' '15' '8' '1']\n",
            " ['FEMENINO' '38' '88.87' '171.66' '18' '5' '1']\n",
            " ['FEMENINO' '60' '109.61' '197.95' '15' '8' '1']\n",
            " ['MASCULINO' '35' '96.23' '195.82' '23' '0' '1']\n",
            " ['NO ESPECIFICA' '29' '86.66' '188.11' '16' '8' '0']\n",
            " ['NO ESPECIFICA' '37' '80.78' '193.27' '15' '7' '2']\n",
            " ['MASCULINO' '31' '92.95' '205.05' '18' '5' '1']\n",
            " ['NO ESPECIFICA' '44' '51.27' '198.79' '18' '4' '2']\n",
            " ['FEMENINO' '40' '100.77' '195.8' '17' '6' '1']\n",
            " ['NO ESPECIFICA' '29' '93.37' '201.46' '20' '4' '0']\n",
            " ['MASCULINO' '31' '109.97' '208.34' '21' '3' '0']\n",
            " ['NO ESPECIFICA' '43' '88.18' '167.68' '18' '6' '0']\n",
            " ['FEMENINO' '54' '88.12' '172.18' '19' '3' '2']\n",
            " ['FEMENINO' '47' '62.34' '192.09' '16' '6' '2']\n",
            " ['MASCULINO' '52' '104.74' '193.09' '17' '5' '2']\n",
            " ['FEMENINO' '44' '93.23' '184.82' '15' '8' '1']\n",
            " ['MASCULINO' '47' '92.52' '201.5' '19' '3' '2']\n",
            " ['NO ESPECIFICA' '57' '68.53' '166.11' '21' '2' '1']\n",
            " ['NO ESPECIFICA' '52' '80.89' '208.67' '21' '3' '0']\n",
            " ['FEMENINO' '56' '103.74' '202.27' '17' '6' '1']\n",
            " ['NO ESPECIFICA' '59' '72.87' '209.67' '17' '5' '2']\n",
            " ['FEMENINO' '33' '53.67' '181.21' '17' '5' '2']\n",
            " ['FEMENINO' '49' '88.12' '199.36' '16' '8' '0']\n",
            " ['MASCULINO' '43' '65.01' '198.75' '16' '8' '0']\n",
            " ['FEMENINO' '42' '78.12' '189.84' '18' '5' '1']\n",
            " ['FEMENINO' '33' '88.79' '188.71' '15' '8' '1']\n",
            " ['MASCULINO' '36' '56.76' '202.33' '17' '5' '2']\n",
            " ['MASCULINO' '35' '96.22' '170.22' '21' '1' '2']\n",
            " ['MASCULINO' '50' '98.85' '192.66' '22' '2' '0']\n",
            " ['FEMENINO' '45' '77.49' '182.42' '19' '3' '2']\n",
            " ['MASCULINO' '52' '92.48' '181.43' '21' '2' '1']\n",
            " ['MASCULINO' '59' '59.0' '196.03' '22' '1' '1']\n",
            " ['MASCULINO' '43' '69.47' '181.53' '20' '4' '0']\n",
            " ['NO ESPECIFICA' '57' '102.59' '207.55' '15' '8' '1']\n",
            " ['NO ESPECIFICA' '31' '93.37' '206.18' '20' '2' '2']\n",
            " ['FEMENINO' '37' '99.6' '183.64' '23' '1' '0']\n",
            " ['NO ESPECIFICA' '58' '74.84' '185.01' '18' '5' '1']\n",
            " ['NO ESPECIFICA' '35' '65.03' '184.13' '22' '0' '2']\n",
            " ['NO ESPECIFICA' '48' '53.3' '175.72' '19' '5' '0']\n",
            " ['FEMENINO' '45' '89.77' '189.69' '20' '3' '1']\n",
            " ['MASCULINO' '40' '92.74' '207.71' '22' '2' '0']\n",
            " ['FEMENINO' '28' '76.62' '177.49' '16' '7' '1']\n",
            " ['FEMENINO' '60' '88.67' '174.24' '20' '4' '0']]\n"
          ]
        }
      ],
      "source": [
        "# 1 - Generamos los datos solicitados\n",
        "\n",
        "np_array_sexo = np.random.choice(['MASCULINO', 'FEMENINO', 'NO ESPECIFICA'], cant).reshape(cant,1)\n",
        "np_array_edad = np.random.randint(28, 61, cant).reshape(cant,1)\n",
        "np_array_altura = (np.random.rand(cant)*(210 - 165) + 165).reshape(cant,1)\n",
        "np_array_peso = (np.random.rand(cant)*(110 - 50) + 50).reshape(cant,1)\n",
        "# Para definir los numeros decimales siguientes tendre en cuenta el siguiente criterio: minimo sera 0 y maximo mitad del dia\n",
        "np_array_hs_trabajo_estudio_diario =  np.random.randint(0, 9, cant).reshape(cant,1)\n",
        "np_array_hs_ejercicios_diario =  np.random.randint(0, 3, cant).reshape(cant,1)\n",
        "np_array_hs_descanso_diario = 24 - (np_array_hs_trabajo_estudio_diario + np_array_hs_ejercicios_diario)\n",
        "\n",
        "\n",
        "# Pudimos observar que los decimales generados tenian muchos numeros luego del punto decimal, por lo que redondearemos a 2 digitos decimales\n",
        "np_array_altura = np.round(np_array_altura, 2)\n",
        "np_array_peso = np.round(np_array_peso, 2)\n",
        "np_array_hs_descanso_diario = np.round(np_array_hs_descanso_diario, 2)\n",
        "np_array_hs_trabajo_estudio_diario = np.round(np_array_hs_trabajo_estudio_diario, 2)\n",
        "np_array_hs_ejercicios_diario = np.round(np_array_hs_ejercicios_diario, 2)\n",
        "\n",
        "# Una vez estan las columnas con los datos generados, creamos la matriz\n",
        "matriz = np_array_sexo\n",
        "matriz = np.append(matriz, np_array_edad, axis=1)\n",
        "matriz = np.append(matriz, np_array_peso, axis=1)\n",
        "matriz = np.append(matriz, np_array_altura, axis=1)\n",
        "matriz = np.append(matriz, np_array_hs_descanso_diario, axis=1)\n",
        "matriz = np.append(matriz, np_array_hs_trabajo_estudio_diario, axis=1)\n",
        "matriz = np.append(matriz, np_array_hs_ejercicios_diario, axis=1)\n",
        "\n",
        "# Luego agregamos encabezado\n",
        "encabezado = ['Sexo', 'Edad', 'Altura', 'Peso', 'Hs Descanso', 'Hs Trabajo/Estudio', 'Hs Ejercicios' ]\n",
        "matriz = np.append(np.array([encabezado]), matriz,  axis=0)\n",
        "\n",
        "# Por ultimo mostramos la matriz\n",
        "print(matriz)"
      ]
    },
    {
      "cell_type": "code",
      "execution_count": 90,
      "metadata": {},
      "outputs": [
        {
          "name": "stdout",
          "output_type": "stream",
          "text": [
            "Media de altura: 82.42\n",
            "Media de peso: 190.89\n",
            "Media de Hs de Descanso: 18.56\n",
            "Media de Hs de Trabajo/Estudio: 4.46\n",
            "Media de Hs de Ejercicios: 0.98\n"
          ]
        }
      ],
      "source": [
        "# 2.   Suponiendo que la distribución de probabilidad de los datos muestrados de las N personas, se distribuyen en forma NORMAL. \n",
        "# Encontrar la media en los datos de altura, peso, y horas de descanso, trabajo y ejercicios.\n",
        "\n",
        "\n",
        "# Cargamos los resultados a una lista\n",
        "lista_resultados = []\n",
        "# Media de la altura\n",
        "lista_resultados.append(round(np.mean(matriz[1:, 2].astype(float)), 2))\n",
        "# Media del peso\n",
        "lista_resultados.append(round(np.mean(matriz[1:, 3].astype(float)), 2))\n",
        "# Media de las horas de descanso\n",
        "lista_resultados.append(round(np.mean(matriz[1:, 4].astype(float)), 2))\n",
        "# Media de las horas de trabajo/estudio\n",
        "lista_resultados.append(round(np.mean(matriz[1:, 5].astype(float)), 2))\n",
        "# Media de las horas de ejercicios\n",
        "lista_resultados.append(round(np.mean(matriz[1:, 6].astype(float)), 2))\n",
        "\n",
        "# Mostramos los resultados\n",
        "print(f'Media de altura: {lista_resultados[0]}')\n",
        "print(f'Media de peso: {lista_resultados[1]}')\n",
        "print(f'Media de Hs de Descanso: {lista_resultados[2]}')\n",
        "print(f'Media de Hs de Trabajo/Estudio: {lista_resultados[3]}')\n",
        "print(f'Media de Hs de Ejercicios: {lista_resultados[4]}')"
      ]
    },
    {
      "cell_type": "code",
      "execution_count": 91,
      "metadata": {},
      "outputs": [
        {
          "data": {
            "image/png": "[encoded data removed]",
            "text/plain": [
              "<Figure size 640x480 with 2 Axes>"
            ]
          },
          "metadata": {},
          "output_type": "display_data"
        },
        {
          "name": "stdout",
          "output_type": "stream",
          "text": [
            "Varianza alturas: 280.22\n",
            "Desviacion estandar alturas: 16.74\n",
            "rango intercuartil alturas: 23.05\n",
            "Varianza pesos: 149.54\n",
            "Desviacion estandar pesos: 12.23\n",
            "Desviacion rango intercuartil pesos: 18.29\n"
          ]
        },
        {
          "data": {
            "image/png": "[encoded data removed]",
            "text/plain": [
              "<Figure size 640x480 with 2 Axes>"
            ]
          },
          "metadata": {},
          "output_type": "display_data"
        }
      ],
      "source": [
        "# 3 .  Graficar la muestra o distribución de los datos  de pesos , y alturas en graficas separadas. \n",
        "# Indicar el grado de variabilidad de sus datos\n",
        "\n",
        "df = pd.DataFrame(matriz[1:,2:4].astype(float), columns=['Alturas','Pesos'])\n",
        "\n",
        "plt.subplot(1, 2, 1)\n",
        "\n",
        "plt.hist(df['Alturas'], edgecolor='black')\n",
        "plt.xlabel('Alturas')\n",
        "plt.ylabel('Frecuencia Absoluta')\n",
        "\n",
        "plt.subplot(1, 2, 2)\n",
        "\n",
        "plt.hist(df['Pesos'], edgecolor='black')\n",
        "plt.xlabel('Pesos')\n",
        "plt.ylabel('Frecuencia Absoluta')\n",
        "plt.show()\n",
        "\n",
        "# Grado de variabilidad de los datos\n",
        "# Calculamos la varianza y la desviacion estandar\n",
        "\n",
        "varianza_alturas = np.var(df['Alturas'])\n",
        "varianza_pesos = np.var(df['Pesos'])\n",
        "\n",
        "desviacion_alturas = np.std(df['Alturas'])\n",
        "desviacion_pesos = np.std(df['Pesos'])\n",
        "\n",
        "q3_alturas = np.quantile(df['Alturas'],.75)\n",
        "q1_alturas = np.quantile(df['Alturas'],.25)\n",
        "rango_intercuartil_alturas = q3_alturas - q1_alturas\n",
        "\n",
        "q3_pesos = np.quantile(df['Pesos'],.75)\n",
        "q1_pesos = np.quantile(df['Pesos'],.25)\n",
        "rango_intercuartil_pesos = q3_pesos - q1_pesos\n",
        "\n",
        "# Con todas estas medidas de dispersion podremos indicar el grado de variabilidad\n",
        "\n",
        "print(f'Varianza alturas: {round(varianza_alturas, 2)}')\n",
        "print(f'Desviacion estandar alturas: {round(desviacion_alturas, 2)}')\n",
        "print(f'rango intercuartil alturas: {round(rango_intercuartil_alturas, 2)}')\n",
        "\n",
        "\n",
        "\n",
        "print(f'Varianza pesos: {round(varianza_pesos, 2)}')\n",
        "print(f'Desviacion estandar pesos: {round(desviacion_pesos, 2)}')\n",
        "print(f'Desviacion rango intercuartil pesos: {round(rango_intercuartil_pesos, 2)}')\n",
        "\n",
        "# de manera adicional graficamos un diagrama de cajas para visualizar como varian los datos\n",
        "\n",
        "plt.subplot(1,2,1)\n",
        "plt.boxplot(df['Alturas'].astype(float))\n",
        "plt.title('Alturas')\n",
        "\n",
        "\n",
        "plt.subplot(1,2,2)\n",
        "plt.boxplot(df['Pesos'].astype(float))\n",
        "plt.title('Pesos')\n",
        "plt.show()\n"
      ]
    },
    {
      "cell_type": "code",
      "execution_count": 92,
      "metadata": {},
      "outputs": [
        {
          "data": {
            "image/png": "[encoded data removed]",
            "text/plain": [
              "<Figure size 640x480 with 1 Axes>"
            ]
          },
          "metadata": {},
          "output_type": "display_data"
        },
        {
          "name": "stdout",
          "output_type": "stream",
          "text": [
            " La correlacion entre la altura y el peso es:           Alturas     Pesos\n",
            "Alturas  1.000000  0.097602\n",
            "Pesos    0.097602  1.000000\n"
          ]
        }
      ],
      "source": [
        "# 4.  Plotear de manera conjunta y encontrar si presentan correlación los datos de peso vs altura,\n",
        "plt.bar(df['Pesos'], df['Alturas'])\n",
        "plt.xlabel('Alturas')\n",
        "plt.ylabel('Pesos')\n",
        "plt.show()\n",
        "\n",
        "# Al ser generadas de manera aleatoria, graficamente no surgio una correlacion, tambien podemos comprobarlo mediante otro metodo.\n",
        "print(f' La correlacion entre la altura y el peso es: {df.corr()}')\n",
        "# Este metodo crea una matriz donde entrelaza las diferentes columnas del DataFrame, señalando con 1 y 0 si se relacionan mucho o poco respectivamente\n"
      ]
    },
    {
      "cell_type": "code",
      "execution_count": 93,
      "metadata": {},
      "outputs": [
        {
          "data": {
            "image/png": "[encoded data removed]",
            "text/plain": [
              "<Figure size 2000x500 with 2 Axes>"
            ]
          },
          "metadata": {},
          "output_type": "display_data"
        }
      ],
      "source": [
        "# 5. Plotear de manera conjunta los datos de horas de descanso, estudio y ejercicio\n",
        "# Como tenemos los datos generados en las 3 ultimas columnasde la matriz generada\n",
        "\n",
        "hs_descanso = matriz[1:, 4].astype(float) \n",
        "hs_estudio_trabajo = matriz[1:, 5].astype(float) \n",
        "hs_ejercicios = matriz[1:, 6].astype(float) \n",
        "\n",
        "\n",
        "plt.figure(figsize=[20,5])\n",
        "\n",
        "# Ene esta primer grafica mostramos los histogramas superpuestos\n",
        "plt.subplot(1, 2, 1)\n",
        "plt.hist(hs_descanso, edgecolor='black', label='Descanso')\n",
        "plt.hist(hs_estudio_trabajo, edgecolor='black', alpha=0.9, label='Est./Tra.')\n",
        "plt.hist(hs_ejercicios, edgecolor='black', alpha=0.6, label='Ejercicios')\n",
        "plt.legend()\n",
        "\n",
        "# En esta otra conseguimos investigando ptra manera de mostrar dichos histogramas\n",
        "plt.subplot(1, 2, 2)\n",
        "plt.hist([hs_descanso, hs_estudio_trabajo, hs_ejercicios], bins=50 ,label=['Descanso', 'Est/Trab', 'Ejercicios'])\n",
        "plt.legend()\n",
        "\n",
        "plt.show()"
      ]
    },
    {
      "cell_type": "markdown",
      "metadata": {
        "id": "ivv2KI4WOvoE"
      },
      "source": [
        "**Ayuda Como generar los datos**\n"
      ]
    },
    {
      "cell_type": "code",
      "execution_count": 94,
      "metadata": {
        "id": "xN7Lt_0xO0_J"
      },
      "outputs": [],
      "source": [
        "import numpy as np\n",
        "import matplotlib.pyplot as plt\n",
        "\n",
        "def generar_datos(N):\n",
        "    sexo = np.random.choice(['MASCULINO', 'FEMENINO', 'NO ESPECIFICA'], N ,[0.4, 0.5, 0.1])  # Por ejemplo, 40% masculino, 50% femenino, 10% no especificado)\n",
        "    # Generar edades con distribución normal\n",
        "    edad =np.random.normal(44, 6, N)\n",
        "    edad=np.clip(np.around(edad),28,60)\n",
        "    # Generar alturas, pesos y otras características\n",
        "    altura = np.random.normal(180, 10, N)\n",
        "    altura = np.clip(np.around(altura, decimals=1), 150.0, 210.0)\n",
        "\n",
        "    peso = np.random.normal(80, 15, N)\n",
        "    peso = np.clip(np.around(peso, decimals=1), 40.0, 130.0)\n",
        "\n",
        "    horas_trabajo_estudio = np.random.normal(10, 2, N)\n",
        "    horas_trabajo_estudio = np.clip(np.around(horas_trabajo_estudio, decimals=1), 4.0, 12.0)\n",
        "\n",
        "    horas_ejercicio = np.random.normal(1, 0.5, N)\n",
        "    horas_ejercicio = np.clip(np.around(horas_ejercicio, decimals=1), 0, 2)\n",
        "\n",
        "    horas_descanso = 24 - horas_trabajo_estudio - horas_ejercicio\n",
        "    datos = np.column_stack((sexo, edad, altura, peso, horas_descanso, horas_trabajo_estudio, horas_ejercicio))\n",
        "    return datos\n",
        "\n",
        "\n",
        "# Solicitar al usuario la cantidad N de datos a cargar\n",
        "N = 1000\n",
        "\n",
        "# Generar datos aleatorios para N personas con distribución normal y límites específicos\n",
        "datos = generar_datos(N)"
      ]
    },
    {
      "cell_type": "markdown",
      "metadata": {
        "id": "fYQMkfiyU-Kh"
      },
      "source": []
    },
    {
      "cell_type": "markdown",
      "metadata": {
        "id": "HPezuMjHVBNS"
      },
      "source": [
        "# TRABAJO PRACTICO N 4\n",
        "\n",
        "**Trabajo Practico Nº 4**\n",
        "Analisis sobre data set"
      ]
    },
    {
      "cell_type": "markdown",
      "metadata": {
        "id": "dRyI4OEUVt8U"
      },
      "source": [
        "1- Buscar los siguiente data set en la web\n",
        "* Titanic\n",
        "* Iris\n",
        "* Wine\n",
        "* Indian Diabetes\n"
      ]
    },
    {
      "cell_type": "code",
      "execution_count": 129,
      "metadata": {},
      "outputs": [],
      "source": [
        "# Importamos las librerias necesarias\n",
        "import pandas as pd\n",
        "import matplotlib.pyplot as plt\n",
        "from matplotlib.cbook import boxplot_stats"
      ]
    },
    {
      "cell_type": "code",
      "execution_count": 135,
      "metadata": {},
      "outputs": [
        {
          "data": {
            "text/html": [
              "<div>\n",
              "<style scoped>\n",
              "    .dataframe tbody tr th:only-of-type {\n",
              "        vertical-align: middle;\n",
              "    }\n",
              "\n",
              "    .dataframe tbody tr th {\n",
              "        vertical-align: top;\n",
              "    }\n",
              "\n",
              "    .dataframe thead th {\n",
              "        text-align: right;\n",
              "    }\n",
              "</style>\n",
              "<table border=\"1\" class=\"dataframe\">\n",
              "  <thead>\n",
              "    <tr style=\"text-align: right;\">\n",
              "      <th></th>\n",
              "      <th>PassengerId</th>\n",
              "      <th>Survived</th>\n",
              "      <th>Pclass</th>\n",
              "      <th>Name</th>\n",
              "      <th>Sex</th>\n",
              "      <th>Age</th>\n",
              "      <th>SibSp</th>\n",
              "      <th>Parch</th>\n",
              "      <th>Ticket</th>\n",
              "      <th>Fare</th>\n",
              "      <th>Cabin</th>\n",
              "      <th>Embarked</th>\n",
              "    </tr>\n",
              "  </thead>\n",
              "  <tbody>\n",
              "    <tr>\n",
              "      <th>0</th>\n",
              "      <td>1</td>\n",
              "      <td>0</td>\n",
              "      <td>3</td>\n",
              "      <td>Braund, Mr. Owen Harris</td>\n",
              "      <td>male</td>\n",
              "      <td>22.0</td>\n",
              "      <td>1</td>\n",
              "      <td>0</td>\n",
              "      <td>A/5 21171</td>\n",
              "      <td>7.2500</td>\n",
              "      <td>NaN</td>\n",
              "      <td>S</td>\n",
              "    </tr>\n",
              "    <tr>\n",
              "      <th>1</th>\n",
              "      <td>2</td>\n",
              "      <td>1</td>\n",
              "      <td>1</td>\n",
              "      <td>Cumings, Mrs. John Bradley (Florence Briggs Th...</td>\n",
              "      <td>female</td>\n",
              "      <td>38.0</td>\n",
              "      <td>1</td>\n",
              "      <td>0</td>\n",
              "      <td>PC 17599</td>\n",
              "      <td>71.2833</td>\n",
              "      <td>C85</td>\n",
              "      <td>C</td>\n",
              "    </tr>\n",
              "    <tr>\n",
              "      <th>2</th>\n",
              "      <td>3</td>\n",
              "      <td>1</td>\n",
              "      <td>3</td>\n",
              "      <td>Heikkinen, Miss. Laina</td>\n",
              "      <td>female</td>\n",
              "      <td>26.0</td>\n",
              "      <td>0</td>\n",
              "      <td>0</td>\n",
              "      <td>STON/O2. 3101282</td>\n",
              "      <td>7.9250</td>\n",
              "      <td>NaN</td>\n",
              "      <td>S</td>\n",
              "    </tr>\n",
              "    <tr>\n",
              "      <th>3</th>\n",
              "      <td>4</td>\n",
              "      <td>1</td>\n",
              "      <td>1</td>\n",
              "      <td>Futrelle, Mrs. Jacques Heath (Lily May Peel)</td>\n",
              "      <td>female</td>\n",
              "      <td>35.0</td>\n",
              "      <td>1</td>\n",
              "      <td>0</td>\n",
              "      <td>113803</td>\n",
              "      <td>53.1000</td>\n",
              "      <td>C123</td>\n",
              "      <td>S</td>\n",
              "    </tr>\n",
              "    <tr>\n",
              "      <th>4</th>\n",
              "      <td>5</td>\n",
              "      <td>0</td>\n",
              "      <td>3</td>\n",
              "      <td>Allen, Mr. William Henry</td>\n",
              "      <td>male</td>\n",
              "      <td>35.0</td>\n",
              "      <td>0</td>\n",
              "      <td>0</td>\n",
              "      <td>373450</td>\n",
              "      <td>8.0500</td>\n",
              "      <td>NaN</td>\n",
              "      <td>S</td>\n",
              "    </tr>\n",
              "  </tbody>\n",
              "</table>\n",
              "</div>"
            ],
            "text/plain": [
              "   PassengerId  Survived  Pclass  \\\n",
              "0            1         0       3   \n",
              "1            2         1       1   \n",
              "2            3         1       3   \n",
              "3            4         1       1   \n",
              "4            5         0       3   \n",
              "\n",
              "                                                Name     Sex   Age  SibSp  \\\n",
              "0                            Braund, Mr. Owen Harris    male  22.0      1   \n",
              "1  Cumings, Mrs. John Bradley (Florence Briggs Th...  female  38.0      1   \n",
              "2                             Heikkinen, Miss. Laina  female  26.0      0   \n",
              "3       Futrelle, Mrs. Jacques Heath (Lily May Peel)  female  35.0      1   \n",
              "4                           Allen, Mr. William Henry    male  35.0      0   \n",
              "\n",
              "   Parch            Ticket     Fare Cabin Embarked  \n",
              "0      0         A/5 21171   7.2500   NaN        S  \n",
              "1      0          PC 17599  71.2833   C85        C  \n",
              "2      0  STON/O2. 3101282   7.9250   NaN        S  \n",
              "3      0            113803  53.1000  C123        S  \n",
              "4      0            373450   8.0500   NaN        S  "
            ]
          },
          "execution_count": 135,
          "metadata": {},
          "output_type": "execute_result"
        }
      ],
      "source": [
        "# 1- Buscar los siguiente data set en la web\n",
        "\n",
        "# * Titanic\n",
        "titanic = pd.read_csv('./DataSets/Titanic-Dataset.csv')\n",
        "titanic.head()"
      ]
    },
    {
      "cell_type": "code",
      "execution_count": 97,
      "metadata": {},
      "outputs": [
        {
          "data": {
            "text/html": [
              "<div>\n",
              "<style scoped>\n",
              "    .dataframe tbody tr th:only-of-type {\n",
              "        vertical-align: middle;\n",
              "    }\n",
              "\n",
              "    .dataframe tbody tr th {\n",
              "        vertical-align: top;\n",
              "    }\n",
              "\n",
              "    .dataframe thead th {\n",
              "        text-align: right;\n",
              "    }\n",
              "</style>\n",
              "<table border=\"1\" class=\"dataframe\">\n",
              "  <thead>\n",
              "    <tr style=\"text-align: right;\">\n",
              "      <th></th>\n",
              "      <th>Id</th>\n",
              "      <th>SepalLengthCm</th>\n",
              "      <th>SepalWidthCm</th>\n",
              "      <th>PetalLengthCm</th>\n",
              "      <th>PetalWidthCm</th>\n",
              "      <th>Species</th>\n",
              "    </tr>\n",
              "  </thead>\n",
              "  <tbody>\n",
              "    <tr>\n",
              "      <th>0</th>\n",
              "      <td>1</td>\n",
              "      <td>5.1</td>\n",
              "      <td>3.5</td>\n",
              "      <td>1.4</td>\n",
              "      <td>0.2</td>\n",
              "      <td>Iris-setosa</td>\n",
              "    </tr>\n",
              "    <tr>\n",
              "      <th>1</th>\n",
              "      <td>2</td>\n",
              "      <td>4.9</td>\n",
              "      <td>3.0</td>\n",
              "      <td>1.4</td>\n",
              "      <td>0.2</td>\n",
              "      <td>Iris-setosa</td>\n",
              "    </tr>\n",
              "    <tr>\n",
              "      <th>2</th>\n",
              "      <td>3</td>\n",
              "      <td>4.7</td>\n",
              "      <td>3.2</td>\n",
              "      <td>1.3</td>\n",
              "      <td>0.2</td>\n",
              "      <td>Iris-setosa</td>\n",
              "    </tr>\n",
              "    <tr>\n",
              "      <th>3</th>\n",
              "      <td>4</td>\n",
              "      <td>4.6</td>\n",
              "      <td>3.1</td>\n",
              "      <td>1.5</td>\n",
              "      <td>0.2</td>\n",
              "      <td>Iris-setosa</td>\n",
              "    </tr>\n",
              "    <tr>\n",
              "      <th>4</th>\n",
              "      <td>5</td>\n",
              "      <td>5.0</td>\n",
              "      <td>3.6</td>\n",
              "      <td>1.4</td>\n",
              "      <td>0.2</td>\n",
              "      <td>Iris-setosa</td>\n",
              "    </tr>\n",
              "  </tbody>\n",
              "</table>\n",
              "</div>"
            ],
            "text/plain": [
              "   Id  SepalLengthCm  SepalWidthCm  PetalLengthCm  PetalWidthCm      Species\n",
              "0   1            5.1           3.5            1.4           0.2  Iris-setosa\n",
              "1   2            4.9           3.0            1.4           0.2  Iris-setosa\n",
              "2   3            4.7           3.2            1.3           0.2  Iris-setosa\n",
              "3   4            4.6           3.1            1.5           0.2  Iris-setosa\n",
              "4   5            5.0           3.6            1.4           0.2  Iris-setosa"
            ]
          },
          "execution_count": 97,
          "metadata": {},
          "output_type": "execute_result"
        }
      ],
      "source": [
        "# * Iris\n",
        "iris = pd.read_csv('./DataSets/iris.csv')\n",
        "iris.head()"
      ]
    },
    {
      "cell_type": "code",
      "execution_count": 98,
      "metadata": {},
      "outputs": [
        {
          "data": {
            "text/html": [
              "<div>\n",
              "<style scoped>\n",
              "    .dataframe tbody tr th:only-of-type {\n",
              "        vertical-align: middle;\n",
              "    }\n",
              "\n",
              "    .dataframe tbody tr th {\n",
              "        vertical-align: top;\n",
              "    }\n",
              "\n",
              "    .dataframe thead th {\n",
              "        text-align: right;\n",
              "    }\n",
              "</style>\n",
              "<table border=\"1\" class=\"dataframe\">\n",
              "  <thead>\n",
              "    <tr style=\"text-align: right;\">\n",
              "      <th></th>\n",
              "      <th>fixed_acidity</th>\n",
              "      <th>volatile_acidity</th>\n",
              "      <th>citric_acid</th>\n",
              "      <th>residual_sugar</th>\n",
              "      <th>chlorides</th>\n",
              "      <th>free_sulfur_dioxide</th>\n",
              "      <th>total_sulfur_dioxide</th>\n",
              "      <th>density</th>\n",
              "      <th>pH</th>\n",
              "      <th>sulphates</th>\n",
              "      <th>alcohol</th>\n",
              "      <th>quality</th>\n",
              "      <th>style</th>\n",
              "    </tr>\n",
              "  </thead>\n",
              "  <tbody>\n",
              "    <tr>\n",
              "      <th>0</th>\n",
              "      <td>7.4</td>\n",
              "      <td>0.70</td>\n",
              "      <td>0.00</td>\n",
              "      <td>1.9</td>\n",
              "      <td>0.076</td>\n",
              "      <td>11.0</td>\n",
              "      <td>34.0</td>\n",
              "      <td>0.9978</td>\n",
              "      <td>3.51</td>\n",
              "      <td>0.56</td>\n",
              "      <td>9.4</td>\n",
              "      <td>5</td>\n",
              "      <td>red</td>\n",
              "    </tr>\n",
              "    <tr>\n",
              "      <th>1</th>\n",
              "      <td>7.8</td>\n",
              "      <td>0.88</td>\n",
              "      <td>0.00</td>\n",
              "      <td>2.6</td>\n",
              "      <td>0.098</td>\n",
              "      <td>25.0</td>\n",
              "      <td>67.0</td>\n",
              "      <td>0.9968</td>\n",
              "      <td>3.20</td>\n",
              "      <td>0.68</td>\n",
              "      <td>9.8</td>\n",
              "      <td>5</td>\n",
              "      <td>red</td>\n",
              "    </tr>\n",
              "    <tr>\n",
              "      <th>2</th>\n",
              "      <td>7.8</td>\n",
              "      <td>0.76</td>\n",
              "      <td>0.04</td>\n",
              "      <td>2.3</td>\n",
              "      <td>0.092</td>\n",
              "      <td>15.0</td>\n",
              "      <td>54.0</td>\n",
              "      <td>0.9970</td>\n",
              "      <td>3.26</td>\n",
              "      <td>0.65</td>\n",
              "      <td>9.8</td>\n",
              "      <td>5</td>\n",
              "      <td>red</td>\n",
              "    </tr>\n",
              "    <tr>\n",
              "      <th>3</th>\n",
              "      <td>11.2</td>\n",
              "      <td>0.28</td>\n",
              "      <td>0.56</td>\n",
              "      <td>1.9</td>\n",
              "      <td>0.075</td>\n",
              "      <td>17.0</td>\n",
              "      <td>60.0</td>\n",
              "      <td>0.9980</td>\n",
              "      <td>3.16</td>\n",
              "      <td>0.58</td>\n",
              "      <td>9.8</td>\n",
              "      <td>6</td>\n",
              "      <td>red</td>\n",
              "    </tr>\n",
              "    <tr>\n",
              "      <th>4</th>\n",
              "      <td>7.4</td>\n",
              "      <td>0.70</td>\n",
              "      <td>0.00</td>\n",
              "      <td>1.9</td>\n",
              "      <td>0.076</td>\n",
              "      <td>11.0</td>\n",
              "      <td>34.0</td>\n",
              "      <td>0.9978</td>\n",
              "      <td>3.51</td>\n",
              "      <td>0.56</td>\n",
              "      <td>9.4</td>\n",
              "      <td>5</td>\n",
              "      <td>red</td>\n",
              "    </tr>\n",
              "  </tbody>\n",
              "</table>\n",
              "</div>"
            ],
            "text/plain": [
              "   fixed_acidity  volatile_acidity  citric_acid  residual_sugar  chlorides  \\\n",
              "0            7.4              0.70         0.00             1.9      0.076   \n",
              "1            7.8              0.88         0.00             2.6      0.098   \n",
              "2            7.8              0.76         0.04             2.3      0.092   \n",
              "3           11.2              0.28         0.56             1.9      0.075   \n",
              "4            7.4              0.70         0.00             1.9      0.076   \n",
              "\n",
              "   free_sulfur_dioxide  total_sulfur_dioxide  density    pH  sulphates  \\\n",
              "0                 11.0                  34.0   0.9978  3.51       0.56   \n",
              "1                 25.0                  67.0   0.9968  3.20       0.68   \n",
              "2                 15.0                  54.0   0.9970  3.26       0.65   \n",
              "3                 17.0                  60.0   0.9980  3.16       0.58   \n",
              "4                 11.0                  34.0   0.9978  3.51       0.56   \n",
              "\n",
              "   alcohol  quality style  \n",
              "0      9.4        5   red  \n",
              "1      9.8        5   red  \n",
              "2      9.8        5   red  \n",
              "3      9.8        6   red  \n",
              "4      9.4        5   red  "
            ]
          },
          "execution_count": 98,
          "metadata": {},
          "output_type": "execute_result"
        }
      ],
      "source": [
        "# * Wine\n",
        "wine = pd.read_csv('./DataSets/wine_dataset.csv')\n",
        "wine.head()"
      ]
    },
    {
      "cell_type": "code",
      "execution_count": 113,
      "metadata": {},
      "outputs": [
        {
          "data": {
            "text/html": [
              "<div>\n",
              "<style scoped>\n",
              "    .dataframe tbody tr th:only-of-type {\n",
              "        vertical-align: middle;\n",
              "    }\n",
              "\n",
              "    .dataframe tbody tr th {\n",
              "        vertical-align: top;\n",
              "    }\n",
              "\n",
              "    .dataframe thead th {\n",
              "        text-align: right;\n",
              "    }\n",
              "</style>\n",
              "<table border=\"1\" class=\"dataframe\">\n",
              "  <thead>\n",
              "    <tr style=\"text-align: right;\">\n",
              "      <th></th>\n",
              "      <th>Pregnancies</th>\n",
              "      <th>Glucose</th>\n",
              "      <th>BloodPressure</th>\n",
              "      <th>SkinThickness</th>\n",
              "      <th>Insulin</th>\n",
              "      <th>BMI</th>\n",
              "      <th>DiabetesPedigreeFunction</th>\n",
              "      <th>Age</th>\n",
              "      <th>Outcome</th>\n",
              "    </tr>\n",
              "  </thead>\n",
              "  <tbody>\n",
              "    <tr>\n",
              "      <th>0</th>\n",
              "      <td>6</td>\n",
              "      <td>148</td>\n",
              "      <td>72</td>\n",
              "      <td>35</td>\n",
              "      <td>0</td>\n",
              "      <td>33.6</td>\n",
              "      <td>0.627</td>\n",
              "      <td>50</td>\n",
              "      <td>1</td>\n",
              "    </tr>\n",
              "    <tr>\n",
              "      <th>1</th>\n",
              "      <td>1</td>\n",
              "      <td>85</td>\n",
              "      <td>66</td>\n",
              "      <td>29</td>\n",
              "      <td>0</td>\n",
              "      <td>26.6</td>\n",
              "      <td>0.351</td>\n",
              "      <td>31</td>\n",
              "      <td>0</td>\n",
              "    </tr>\n",
              "    <tr>\n",
              "      <th>2</th>\n",
              "      <td>8</td>\n",
              "      <td>183</td>\n",
              "      <td>64</td>\n",
              "      <td>0</td>\n",
              "      <td>0</td>\n",
              "      <td>23.3</td>\n",
              "      <td>0.672</td>\n",
              "      <td>32</td>\n",
              "      <td>1</td>\n",
              "    </tr>\n",
              "    <tr>\n",
              "      <th>3</th>\n",
              "      <td>1</td>\n",
              "      <td>89</td>\n",
              "      <td>66</td>\n",
              "      <td>23</td>\n",
              "      <td>94</td>\n",
              "      <td>28.1</td>\n",
              "      <td>0.167</td>\n",
              "      <td>21</td>\n",
              "      <td>0</td>\n",
              "    </tr>\n",
              "    <tr>\n",
              "      <th>4</th>\n",
              "      <td>0</td>\n",
              "      <td>137</td>\n",
              "      <td>40</td>\n",
              "      <td>35</td>\n",
              "      <td>168</td>\n",
              "      <td>43.1</td>\n",
              "      <td>2.288</td>\n",
              "      <td>33</td>\n",
              "      <td>1</td>\n",
              "    </tr>\n",
              "  </tbody>\n",
              "</table>\n",
              "</div>"
            ],
            "text/plain": [
              "   Pregnancies  Glucose  BloodPressure  SkinThickness  Insulin   BMI  \\\n",
              "0            6      148             72             35        0  33.6   \n",
              "1            1       85             66             29        0  26.6   \n",
              "2            8      183             64              0        0  23.3   \n",
              "3            1       89             66             23       94  28.1   \n",
              "4            0      137             40             35      168  43.1   \n",
              "\n",
              "   DiabetesPedigreeFunction  Age  Outcome  \n",
              "0                     0.627   50        1  \n",
              "1                     0.351   31        0  \n",
              "2                     0.672   32        1  \n",
              "3                     0.167   21        0  \n",
              "4                     2.288   33        1  "
            ]
          },
          "execution_count": 113,
          "metadata": {},
          "output_type": "execute_result"
        }
      ],
      "source": [
        "# * Indian Diabetes\n",
        "i_diabetes = pd.read_csv('./DataSets/diabetes.csv')\n",
        "i_diabetes.head()"
      ]
    },
    {
      "cell_type": "markdown",
      "metadata": {},
      "source": [
        "2- Explicar un data set , sus diferente Variables"
      ]
    },
    {
      "cell_type": "markdown",
      "metadata": {},
      "source": [
        "#### Explicando DataSet Titanic\n",
        "Este DataSet al parecer contiene datos sobre los pasajeros de dicho navio al momento del lamentable desastre. <br>\n",
        "Las columnas son:\n",
        "* **PassengerId**: Numero Entero, representando el numero de identificacion del pasajero\n",
        "* **Survived**: Numero representando si el pasajaero sobrevivio o no, (1 True, 0 False)\n",
        "* **Pclass**: Clase del pasajero, (1era, 2da, 3ra)\n",
        "* **Name**: Nombre completo del pasajero\n",
        "* **Sex**: Sexo del pasajero\n",
        "* **Age**: Edad del pasajero\n",
        "* **SibSp**: Nro. de hermanos / cónyuges a bordo del Titanic\n",
        "* **Parch**: Nro. de padres / hijos a bordo del Titanic\n",
        "* **Ticket**: Codigo del ticket correspondiente al pasajero\n",
        "* **Fare**: Tarifa del pasajero\n",
        "* **Cabin**: Codigo de cabina del pasajero\n",
        "* **Embarked**: Letra representando el lugar donde el pasajero embarco (S Southampton, C Cherburgo, Q Queenstown)"
      ]
    },
    {
      "cell_type": "markdown",
      "metadata": {},
      "source": [
        "3- Deside justificando tu respuesta que tipo de categoria de variable son"
      ]
    },
    {
      "cell_type": "markdown",
      "metadata": {},
      "source": [
        "#### Tipo de Variables\n",
        "\n",
        "* **PassengerId**: Cuantitativa **Discreta**\n",
        "* **Survived**: Cualitativa **Categorica**\n",
        "* **Pclass**: Cualitativa **Ordinal**\n",
        "* **Name**: Cualitativa **Categorica**\n",
        "* **Sex**: Cualitativa **Categorica**\n",
        "* **Age**: Cuantitativa **Discreta**\n",
        "* **SibSp**: Cuantitativa **Discreta**\n",
        "* **Parch**: Cuantitativa **Discreta**\n",
        "* **Ticket**: Cualitativa **Categorica**\n",
        "* **Fare**: Cuantitativa **Continua**\n",
        "* **Cabin**: Cualitativa **Categorica**\n",
        "* **Embarked**: Cualitativa **Categorica**"
      ]
    },
    {
      "cell_type": "markdown",
      "metadata": {},
      "source": [
        "4- Detectar y arreglar los siguientes coceptos\n",
        "* Valores Ausente\n",
        "* Valores Atipicos"
      ]
    },
    {
      "cell_type": "code",
      "execution_count": 100,
      "metadata": {},
      "outputs": [
        {
          "data": {
            "text/plain": [
              "PassengerId      0\n",
              "Survived         0\n",
              "Pclass           0\n",
              "Name             0\n",
              "Sex              0\n",
              "Age            177\n",
              "SibSp            0\n",
              "Parch            0\n",
              "Ticket           0\n",
              "Fare             0\n",
              "Cabin          687\n",
              "Embarked         2\n",
              "dtype: int64"
            ]
          },
          "execution_count": 100,
          "metadata": {},
          "output_type": "execute_result"
        }
      ],
      "source": [
        "# Primero contamos los valores nulos de cada columna\n",
        "\n",
        "total = titanic.isnull().sum()\n",
        "total"
      ]
    },
    {
      "cell_type": "code",
      "execution_count": 136,
      "metadata": {},
      "outputs": [
        {
          "name": "stdout",
          "output_type": "stream",
          "text": [
            "PassengerId    0\n",
            "Survived       0\n",
            "Pclass         0\n",
            "Name           0\n",
            "Sex            0\n",
            "Age            0\n",
            "SibSp          0\n",
            "Parch          0\n",
            "Ticket         0\n",
            "Fare           0\n",
            "Cabin          0\n",
            "Embarked       0\n",
            "dtype: int64\n"
          ]
        }
      ],
      "source": [
        "# Podemos observar que los valores ausentes se presentan en la columna de edad, cabina y embarque\n",
        "# Como edad es un numero representando los años de vida, vamos a cambiarlo por el valor xmax, para que no afecte en la suma sin embargo tenemos que tener esto en cuenta a la hora de calcular las medidas estadisticas\n",
        "xmax = boxplot_stats(titanic['Age'].dropna())[0]['whishi']\n",
        "titanic['Age'] = titanic['Age'].fillna(xmax)\n",
        "\n",
        "# Cabina es un codigo alfanumerico, por lo que lo sustituiremos por 0000\n",
        "titanic['Cabin'] = titanic['Cabin'].fillna('0000')\n",
        "\n",
        "# Embarque sera una letra representando el desconocimiento del lugar de embarque U Unknown, \n",
        "titanic['Embarked'] = titanic['Embarked'].fillna('U')\n",
        "\n",
        "# Comprobamos que no queden columnas con valores nulos\n",
        "print(titanic.isnull().sum())"
      ]
    },
    {
      "cell_type": "code",
      "execution_count": 142,
      "metadata": {},
      "outputs": [
        {
          "name": "stderr",
          "output_type": "stream",
          "text": [
            "C:\\Users\\crist\\AppData\\Local\\Temp\\ipykernel_13796\\1787319676.py:17: SettingWithCopyWarning: \n",
            "A value is trying to be set on a copy of a slice from a DataFrame\n",
            "\n",
            "See the caveats in the documentation: https://pandas.pydata.org/pandas-docs/stable/user_guide/indexing.html#returning-a-view-versus-a-copy\n",
            "  titanic[c].loc[titanic[c]<franja_inferior] =  boxplot_stats(titanic[c])[0]['whislo']\n",
            "C:\\Users\\crist\\AppData\\Local\\Temp\\ipykernel_13796\\1787319676.py:18: SettingWithCopyWarning: \n",
            "A value is trying to be set on a copy of a slice from a DataFrame\n",
            "\n",
            "See the caveats in the documentation: https://pandas.pydata.org/pandas-docs/stable/user_guide/indexing.html#returning-a-view-versus-a-copy\n",
            "  titanic[c].loc[titanic[c]>franja_superior] =  boxplot_stats(titanic[c])[0]['whishi']\n",
            "C:\\Users\\crist\\AppData\\Local\\Temp\\ipykernel_13796\\1787319676.py:17: SettingWithCopyWarning: \n",
            "A value is trying to be set on a copy of a slice from a DataFrame\n",
            "\n",
            "See the caveats in the documentation: https://pandas.pydata.org/pandas-docs/stable/user_guide/indexing.html#returning-a-view-versus-a-copy\n",
            "  titanic[c].loc[titanic[c]<franja_inferior] =  boxplot_stats(titanic[c])[0]['whislo']\n",
            "C:\\Users\\crist\\AppData\\Local\\Temp\\ipykernel_13796\\1787319676.py:18: SettingWithCopyWarning: \n",
            "A value is trying to be set on a copy of a slice from a DataFrame\n",
            "\n",
            "See the caveats in the documentation: https://pandas.pydata.org/pandas-docs/stable/user_guide/indexing.html#returning-a-view-versus-a-copy\n",
            "  titanic[c].loc[titanic[c]>franja_superior] =  boxplot_stats(titanic[c])[0]['whishi']\n",
            "C:\\Users\\crist\\AppData\\Local\\Temp\\ipykernel_13796\\1787319676.py:17: SettingWithCopyWarning: \n",
            "A value is trying to be set on a copy of a slice from a DataFrame\n",
            "\n",
            "See the caveats in the documentation: https://pandas.pydata.org/pandas-docs/stable/user_guide/indexing.html#returning-a-view-versus-a-copy\n",
            "  titanic[c].loc[titanic[c]<franja_inferior] =  boxplot_stats(titanic[c])[0]['whislo']\n",
            "C:\\Users\\crist\\AppData\\Local\\Temp\\ipykernel_13796\\1787319676.py:18: SettingWithCopyWarning: \n",
            "A value is trying to be set on a copy of a slice from a DataFrame\n",
            "\n",
            "See the caveats in the documentation: https://pandas.pydata.org/pandas-docs/stable/user_guide/indexing.html#returning-a-view-versus-a-copy\n",
            "  titanic[c].loc[titanic[c]>franja_superior] =  boxplot_stats(titanic[c])[0]['whishi']\n"
          ]
        },
        {
          "data": {
            "image/png": "[encoded data removed]",
            "text/plain": [
              "<Figure size 640x480 with 1 Axes>"
            ]
          },
          "metadata": {},
          "output_type": "display_data"
        },
        {
          "data": {
            "image/png": "[encoded data removed]",
            "text/plain": [
              "<Figure size 640x480 with 1 Axes>"
            ]
          },
          "metadata": {},
          "output_type": "display_data"
        },
        {
          "data": {
            "image/png": "[encoded data removed]",
            "text/plain": [
              "<Figure size 640x480 with 1 Axes>"
            ]
          },
          "metadata": {},
          "output_type": "display_data"
        }
      ],
      "source": [
        "# Respecto a los valores atipicos tienen sentido en las variables cuantitativas, por lo que en base a la clasificacion realizada en el punto 3 elegiremos las columnas\n",
        "# Cuando lo detectamos graficaremos los boxplots\n",
        "\n",
        "# Al Probar esto con todas las columnas, vimos que en Parch todos los valores atipicos se convertiran en el valor 0, por lo que omitiremos dicha columna\n",
        "# columnas = ['Age', 'SibSp', 'Parch', 'Fare']\n",
        "columnas = ['Age', 'SibSp', 'Fare']\n",
        "\n",
        "# Ahora bien, conceptualmente sabemos que los outliers o valores atipicos se calculan a partir de una formula, por lo que aplicaremos dicha formula para reemplazar los valores atipicos por el minimo o el maximo segun correspondan\n",
        "# Cabe aclarar que el minimo y maximo que nombro son xmin y xmax del boxplot\n",
        "# Para asignar este valor investigue y descubri que existe el metodo loc, el cual verifica que todo elemento que cumple la condicion sera modificado\n",
        "for c in columnas:\n",
        "    q1 = titanic[c].quantile(0.25)\n",
        "    q3 = titanic[c].quantile(0.75)\n",
        "    riq = q3 - q1\n",
        "    franja_inferior = q1 - 1.5 * riq\n",
        "    franja_superior = q3 + 1.5 * riq\n",
        "    titanic[c].loc[titanic[c]<franja_inferior] =  boxplot_stats(titanic[c])[0]['whislo']\n",
        "    titanic[c].loc[titanic[c]>franja_superior] =  boxplot_stats(titanic[c])[0]['whishi']\n",
        "\n",
        "# Para verificar que no existen valores atipicos vamos a graficar los boxplot\n",
        "for c in columnas:\n",
        "    plt.boxplot(titanic[c])\n",
        "    plt.title(f'boxplot {c}')\n",
        "    plt.show()\n",
        "\n"
      ]
    },
    {
      "cell_type": "markdown",
      "metadata": {},
      "source": [
        "5- Sobre el dataset elegido , ¿se puede eliminar alguna fila o columna?"
      ]
    },
    {
      "cell_type": "markdown",
      "metadata": {},
      "source": [
        "### Depende\n",
        "Tenemos que responder depende, ya que las columnas son utiles en base a un punto de vista. <br>\n",
        "\n",
        "* Columnas: La columna **PassengerId** no es necesaria, dado que es un Id para enumerar todos los datos del dataset. **Name** tampoco seria relevante, a menos que nos interese saber cuantos pasajeros compartian apellidos o nombres. Tambien las columnas Cabin y Ticket, por que creo que \n",
        "\n",
        "* Filas: Si analizamos solo a quienes sobrevivieron, o por el contrario a quienes no lo hicieron, podriamos eliminar las filas correspondientes\n"
      ]
    },
    {
      "cell_type": "code",
      "execution_count": 143,
      "metadata": {},
      "outputs": [
        {
          "data": {
            "text/html": [
              "<div>\n",
              "<style scoped>\n",
              "    .dataframe tbody tr th:only-of-type {\n",
              "        vertical-align: middle;\n",
              "    }\n",
              "\n",
              "    .dataframe tbody tr th {\n",
              "        vertical-align: top;\n",
              "    }\n",
              "\n",
              "    .dataframe thead th {\n",
              "        text-align: right;\n",
              "    }\n",
              "</style>\n",
              "<table border=\"1\" class=\"dataframe\">\n",
              "  <thead>\n",
              "    <tr style=\"text-align: right;\">\n",
              "      <th></th>\n",
              "      <th>PassengerId</th>\n",
              "      <th>Survived</th>\n",
              "      <th>Pclass</th>\n",
              "      <th>Name</th>\n",
              "      <th>Sex</th>\n",
              "      <th>Age</th>\n",
              "      <th>SibSp</th>\n",
              "      <th>Parch</th>\n",
              "      <th>Ticket</th>\n",
              "      <th>Fare</th>\n",
              "      <th>Cabin</th>\n",
              "      <th>Embarked</th>\n",
              "    </tr>\n",
              "  </thead>\n",
              "  <tbody>\n",
              "    <tr>\n",
              "      <th>0</th>\n",
              "      <td>1</td>\n",
              "      <td>0</td>\n",
              "      <td>3</td>\n",
              "      <td>Braund, Mr. Owen Harris</td>\n",
              "      <td>male</td>\n",
              "      <td>22.0</td>\n",
              "      <td>1</td>\n",
              "      <td>0</td>\n",
              "      <td>A/5 21171</td>\n",
              "      <td>7.250</td>\n",
              "      <td>0000</td>\n",
              "      <td>S</td>\n",
              "    </tr>\n",
              "    <tr>\n",
              "      <th>1</th>\n",
              "      <td>2</td>\n",
              "      <td>1</td>\n",
              "      <td>1</td>\n",
              "      <td>Cumings, Mrs. John Bradley (Florence Briggs Th...</td>\n",
              "      <td>female</td>\n",
              "      <td>38.0</td>\n",
              "      <td>1</td>\n",
              "      <td>0</td>\n",
              "      <td>PC 17599</td>\n",
              "      <td>65.000</td>\n",
              "      <td>C85</td>\n",
              "      <td>C</td>\n",
              "    </tr>\n",
              "    <tr>\n",
              "      <th>2</th>\n",
              "      <td>3</td>\n",
              "      <td>1</td>\n",
              "      <td>3</td>\n",
              "      <td>Heikkinen, Miss. Laina</td>\n",
              "      <td>female</td>\n",
              "      <td>26.0</td>\n",
              "      <td>0</td>\n",
              "      <td>0</td>\n",
              "      <td>STON/O2. 3101282</td>\n",
              "      <td>7.925</td>\n",
              "      <td>0000</td>\n",
              "      <td>S</td>\n",
              "    </tr>\n",
              "    <tr>\n",
              "      <th>3</th>\n",
              "      <td>4</td>\n",
              "      <td>1</td>\n",
              "      <td>1</td>\n",
              "      <td>Futrelle, Mrs. Jacques Heath (Lily May Peel)</td>\n",
              "      <td>female</td>\n",
              "      <td>35.0</td>\n",
              "      <td>1</td>\n",
              "      <td>0</td>\n",
              "      <td>113803</td>\n",
              "      <td>53.100</td>\n",
              "      <td>C123</td>\n",
              "      <td>S</td>\n",
              "    </tr>\n",
              "    <tr>\n",
              "      <th>4</th>\n",
              "      <td>5</td>\n",
              "      <td>0</td>\n",
              "      <td>3</td>\n",
              "      <td>Allen, Mr. William Henry</td>\n",
              "      <td>male</td>\n",
              "      <td>35.0</td>\n",
              "      <td>0</td>\n",
              "      <td>0</td>\n",
              "      <td>373450</td>\n",
              "      <td>8.050</td>\n",
              "      <td>0000</td>\n",
              "      <td>S</td>\n",
              "    </tr>\n",
              "  </tbody>\n",
              "</table>\n",
              "</div>"
            ],
            "text/plain": [
              "   PassengerId  Survived  Pclass  \\\n",
              "0            1         0       3   \n",
              "1            2         1       1   \n",
              "2            3         1       3   \n",
              "3            4         1       1   \n",
              "4            5         0       3   \n",
              "\n",
              "                                                Name     Sex   Age  SibSp  \\\n",
              "0                            Braund, Mr. Owen Harris    male  22.0      1   \n",
              "1  Cumings, Mrs. John Bradley (Florence Briggs Th...  female  38.0      1   \n",
              "2                             Heikkinen, Miss. Laina  female  26.0      0   \n",
              "3       Futrelle, Mrs. Jacques Heath (Lily May Peel)  female  35.0      1   \n",
              "4                           Allen, Mr. William Henry    male  35.0      0   \n",
              "\n",
              "   Parch            Ticket    Fare Cabin Embarked  \n",
              "0      0         A/5 21171   7.250  0000        S  \n",
              "1      0          PC 17599  65.000   C85        C  \n",
              "2      0  STON/O2. 3101282   7.925  0000        S  \n",
              "3      0            113803  53.100  C123        S  \n",
              "4      0            373450   8.050  0000        S  "
            ]
          },
          "execution_count": 143,
          "metadata": {},
          "output_type": "execute_result"
        }
      ],
      "source": [
        "titanic.head()"
      ]
    },
    {
      "cell_type": "markdown",
      "metadata": {},
      "source": [
        "6- Realizar analisis univariados\n",
        "* Grafico de frecuencia\n",
        "* Grafico de torta\n",
        "* Histograma\n",
        "* etc"
      ]
    },
    {
      "cell_type": "markdown",
      "metadata": {},
      "source": [
        "7- En base a los graficos del punto 6 realizar distintas concluciones"
      ]
    },
    {
      "cell_type": "markdown",
      "metadata": {},
      "source": [
        "8- Realizar analisis de matriz corelacion y explicar que variable estan correlacionadas\n",
        "\n",
        "PD Pueden Buscar data set de kaggle"
      ]
    }
  ],
  "metadata": {
    "colab": {
      "provenance": [],
      "toc_visible": true
    },
    "kernelspec": {
      "display_name": "Python 3",
      "name": "python3"
    },
    "language_info": {
      "codemirror_mode": {
        "name": "ipython",
        "version": 3
      },
      "file_extension": ".py",
      "mimetype": "text/x-python",
      "name": "python",
      "nbconvert_exporter": "python",
      "pygments_lexer": "ipython3",
      "version": "3.11.4"
    }
  },
  "nbformat": 4,
  "nbformat_minor": 0
}
